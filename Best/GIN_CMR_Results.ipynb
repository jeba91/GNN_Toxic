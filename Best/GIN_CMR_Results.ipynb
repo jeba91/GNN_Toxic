{
 "cells": [
  {
   "cell_type": "code",
   "execution_count": 1,
   "metadata": {},
   "outputs": [],
   "source": [
    "\"\"\"\n",
    "    IMPORTING LIBS\n",
    "\"\"\"\n",
    "import dgl\n",
    "\n",
    "import numpy as np\n",
    "import os\n",
    "import socket\n",
    "import time\n",
    "import random\n",
    "import glob\n",
    "import argparse, json\n",
    "import pandas as pd\n",
    "\n",
    "from os import listdir\n",
    "from os.path import isfile, join\n",
    "\n",
    "import torch\n",
    "import torch.nn as nn\n",
    "import torch.nn.functional as F\n",
    "import torch.optim as optim\n",
    "from torch.utils.data import DataLoader\n",
    "\n",
    "from tensorboardX import SummaryWriter\n",
    "from tqdm import tqdm\n",
    "\n",
    "from sklearn.metrics import balanced_accuracy_score, confusion_matrix\n",
    "\n",
    "import sklearn\n",
    "import sklearn.metrics as metrics\n",
    "import matplotlib.pyplot as plt\n",
    "import math\n",
    "\n",
    "# custom function\n",
    "def sigmoid(x):\n",
    "    return 1 / (1 + np.exp(-x))"
   ]
  },
  {
   "cell_type": "code",
   "execution_count": 2,
   "metadata": {},
   "outputs": [],
   "source": [
    "# some_file.py\n",
    "import sys\n",
    "#change location to GNN_RIVM folder\n",
    "sys.path.insert(1, '/home/jeroen/Documents/Toxic/GNN_rivm/benchmark')\n",
    "\n",
    "from nets.TUs_graph_classification.load_net import gnn_model # import GNNs\n",
    "from data.data import LoadData # import dataset\n",
    "from train.train_TUs_graph_classification import train_epoch, evaluate_network, evaluate_network2 # import train functions\n",
    "\n",
    "drop_last = False\n",
    "device = torch.device(\"cpu\")"
   ]
  },
  {
   "cell_type": "code",
   "execution_count": 1,
   "metadata": {},
   "outputs": [],
   "source": [
    "def create_net_params(file_name):\n",
    "    f = open(file_name, \"r\")\n",
    "    n_params = (f.readlines()[5].split(\" \"))\n",
    "    \n",
    "    net_params = dict()\n",
    "    pbt_params_int = ['in_dim', 'hidden_dim', 'n_classes', 'L', 'n_mlp_GIN']\n",
    "    int_idx = [29,3,31,1,9]\n",
    "    pbt_params_str = ['learn_eps_GIN', 'neighbor_aggr_GIN', 'readout', 'graph_norm', 'batch_norm', 'residual']\n",
    "    str_idx = [11,13,7,19,21,5]\n",
    "    \n",
    "    for idx1, par in enumerate(pbt_params_int):\n",
    "        net_params[par] = int(n_params[int_idx[idx1]].split(',')[0])\n",
    "    net_params['dropout'] = float(n_params[17].split(',')[0])\n",
    "    for idx2, par in enumerate(pbt_params_str):\n",
    "        net_params[par] =  n_params[str_idx[idx2]].split(',')[0].strip(\"'\")\n",
    "    return net_params "
   ]
  },
  {
   "cell_type": "code",
   "execution_count": 2,
   "metadata": {},
   "outputs": [],
   "source": [
    "folder = \"GINCMR/\"\n",
    "model_str = \"GIN\"\n",
    "\n",
    "gin1_file = \"GIN_CMR_Rep1_GPU0_22h55m03s_on_Jun_30_2020\"\n",
    "gin2_file = \"GIN_CMR_Rep2_GPU0_22h55m07s_on_Jun_30_2020\"\n",
    "gin3_file = \"GIN_CMR_Rep3_GPU0_16h39m52s_on_Jul_01_2020\"\n",
    "gin4_file = \"GIN_CMR_Rep4_GPU0_16h40m47s_on_Jul_01_2020\""
   ]
  },
  {
   "cell_type": "code",
   "execution_count": 3,
   "metadata": {},
   "outputs": [],
   "source": [
    "gin1_np = create_net_params(folder+\"config_\"+gin1_file+\".txt\")\n",
    "gin2_np = create_net_params(folder+\"config_\"+gin2_file+\".txt\")\n",
    "gin3_np = create_net_params(folder+\"config_\"+gin3_file+\".txt\")\n",
    "gin4_np = create_net_params(folder+\"config_\"+gin4_file+\".txt\")"
   ]
  },
  {
   "cell_type": "code",
   "execution_count": 4,
   "metadata": {},
   "outputs": [
    {
     "name": "stdout",
     "output_type": "stream",
     "text": [
      "{'in_dim': 17, 'hidden_dim': 128, 'n_classes': 2, 'L': 2, 'n_mlp_GIN': 2, 'dropout': 0.5, 'learn_eps_GIN': 'True', 'neighbor_aggr_GIN': 'sum', 'readout': 'sum', 'graph_norm': 'True', 'batch_norm': 'True', 'residual': 'True'}\n",
      "{'in_dim': 25, 'hidden_dim': 128, 'n_classes': 2, 'L': 2, 'n_mlp_GIN': 2, 'dropout': 0.5, 'learn_eps_GIN': 'True', 'neighbor_aggr_GIN': 'sum', 'readout': 'sum', 'graph_norm': 'True', 'batch_norm': 'True', 'residual': 'True'}\n",
      "{'in_dim': 21, 'hidden_dim': 96, 'n_classes': 2, 'L': 2, 'n_mlp_GIN': 2, 'dropout': 0.5, 'learn_eps_GIN': 'True', 'neighbor_aggr_GIN': 'sum', 'readout': 'sum', 'graph_norm': 'True', 'batch_norm': 'True', 'residual': 'True'}\n",
      "{'in_dim': 88, 'hidden_dim': 48, 'n_classes': 2, 'L': 8, 'n_mlp_GIN': 2, 'dropout': 0.5, 'learn_eps_GIN': 'True', 'neighbor_aggr_GIN': 'sum', 'readout': 'sum', 'graph_norm': 'True', 'batch_norm': 'True', 'residual': 'True'}\n"
     ]
    }
   ],
   "source": [
    "print(gin1_np)\n",
    "print(gin2_np)\n",
    "print(gin3_np)\n",
    "print(gin4_np)"
   ]
  },
  {
   "cell_type": "code",
   "execution_count": 6,
   "metadata": {},
   "outputs": [
    {
     "name": "stdout",
     "output_type": "stream",
     "text": [
      "652\n",
      "preparing 652 graphs for the ALL set...\n",
      "[!] Dataset:  CMR_Rep1\n",
      "Time taken: 4.2176s\n",
      "652\n",
      "preparing 652 graphs for the ALL set...\n",
      "[!] Dataset:  CMR_Rep2\n",
      "Time taken: 9.1527s\n",
      "652\n",
      "preparing 652 graphs for the ALL set...\n",
      "[!] Dataset:  CMR_Rep3\n",
      "Time taken: 8.4951s\n",
      "652\n",
      "preparing 652 graphs for the ALL set...\n",
      "[!] Dataset:  CMR_Rep4\n",
      "Time taken: 4.5553s\n"
     ]
    }
   ],
   "source": [
    "dataset1 = LoadData(\"CMR_Rep1\")\n",
    "dataset2 = LoadData(\"CMR_Rep2\")\n",
    "dataset3 = LoadData(\"CMR_Rep3\")\n",
    "dataset4 = LoadData(\"CMR_Rep4\")"
   ]
  },
  {
   "cell_type": "code",
   "execution_count": 7,
   "metadata": {},
   "outputs": [],
   "source": [
    "drop_last = True\n",
    "device = torch.device(\"cpu\")"
   ]
  },
  {
   "cell_type": "code",
   "execution_count": 8,
   "metadata": {},
   "outputs": [],
   "source": [
    "def test_model(net_params, model_name, dataset, model_str):\n",
    "    accs = []\n",
    "    for i in range(10):\n",
    "        model = gnn_model(model_str, net_params)\n",
    "        onlyfiles = [f for f in listdir(model_name + str(i)) if isfile(join(model_name + str(i), f))]\n",
    "        model.load_state_dict(torch.load(model_name + str(i) +\"/\"+ onlyfiles[-1]))\n",
    "        trainset, valset, testset = dataset.train[i], dataset.val[i], dataset.test[i]\n",
    "#         train_loader = DataLoader(trainset, batch_size=20, shuffle=True, drop_last=drop_last, collate_fn=dataset.collate)\n",
    "#         val_loader = DataLoader(valset, batch_size=20, shuffle=False, drop_last=drop_last, collate_fn=dataset.collate)\n",
    "        test_loader = DataLoader(testset, batch_size=1, shuffle=False, drop_last=drop_last, collate_fn=dataset.collate)\n",
    "        epoch_val_loss, epoch_val_acc = evaluate_network(model, device, test_loader, 999)\n",
    "        accs.append(epoch_val_acc)\n",
    "    print(np.mean(accs),np.std(accs))\n",
    "#     print(accs)"
   ]
  },
  {
   "cell_type": "code",
   "execution_count": 9,
   "metadata": {},
   "outputs": [],
   "source": [
    "def test_model2(net_params, model_name, dataset, model_str):\n",
    "    accs = []\n",
    "    labs = []\n",
    "    for i in range(10):\n",
    "        model = gnn_model(model_str, net_params)\n",
    "        onlyfiles = [f for f in listdir(model_name + str(i)) if isfile(join(model_name + str(i), f))]\n",
    "        model.load_state_dict(torch.load(model_name + str(i) +\"/\"+ onlyfiles[-1]))\n",
    "        trainset, valset, testset = dataset.train[i], dataset.val[i], dataset.test[i]\n",
    "        test_loader = DataLoader(testset, batch_size=1, shuffle=False, drop_last=drop_last, collate_fn=dataset.collate)\n",
    "        epoch_val_loss, labels, score = evaluate_network2(model, device, test_loader, 999)\n",
    "        accs.extend(score)\n",
    "        labs.extend(labels)\n",
    "    return accs, labs"
   ]
  },
  {
   "cell_type": "code",
   "execution_count": 10,
   "metadata": {},
   "outputs": [],
   "source": [
    "def test_model3(net_params, model_name, dataset, model_str):\n",
    "    accs = []\n",
    "    labs = []\n",
    "    for i in range(10):\n",
    "        model = gnn_model(model_str, net_params)\n",
    "        onlyfiles = [f for f in listdir(model_name + str(i)) if isfile(join(model_name + str(i), f))]\n",
    "        model.load_state_dict(torch.load(model_name + str(i) +\"/\"+ onlyfiles[-1]))\n",
    "        trainset, valset, testset = dataset.train[i], dataset.val[i], dataset.test[i]\n",
    "        test_loader = DataLoader(testset, batch_size=1, shuffle=False, drop_last=drop_last, collate_fn=dataset.collate)\n",
    "        epoch_val_loss, labels, score = evaluate_network2(model, device, test_loader, 999)\n",
    "        accs.append(score)\n",
    "        labs.append(labels)\n",
    "    return accs, labs"
   ]
  },
  {
   "cell_type": "code",
   "execution_count": 11,
   "metadata": {},
   "outputs": [
    {
     "name": "stdout",
     "output_type": "stream",
     "text": [
      "0.779029304029304 0.038803046490798854\n",
      "0.8181792622582096 0.04240709218620116\n",
      "0.7855905790116317 0.04460053572176651\n",
      "0.8237685560053981 0.04379170042060218\n"
     ]
    }
   ],
   "source": [
    "test_model(gin1_np, folder+gin1_file+\"/RUN_\", dataset1, model_str)\n",
    "test_model(gin2_np, folder+gin2_file+\"/RUN_\", dataset2, model_str)\n",
    "test_model(gin3_np, folder+gin3_file+\"/RUN_\", dataset3, model_str)\n",
    "test_model(gin4_np, folder+gin4_file+\"/RUN_\", dataset4, model_str)"
   ]
  },
  {
   "cell_type": "code",
   "execution_count": 12,
   "metadata": {},
   "outputs": [],
   "source": [
    "accs1, labels1 = test_model2(gin1_np, folder+gin1_file+\"/RUN_\", dataset1, model_str)\n",
    "accs2, labels2 = test_model2(gin2_np, folder+gin2_file+\"/RUN_\", dataset2, model_str)\n",
    "accs3, labels3 = test_model2(gin3_np, folder+gin3_file+\"/RUN_\", dataset3, model_str)\n",
    "accs4, labels4 = test_model2(gin4_np, folder+gin4_file+\"/RUN_\", dataset4, model_str)"
   ]
  },
  {
   "cell_type": "code",
   "execution_count": 13,
   "metadata": {},
   "outputs": [],
   "source": [
    "acclist1, lablist1 = test_model3(gin1_np, folder+gin1_file+\"/RUN_\", dataset1, model_str)\n",
    "acclist2, lablist2 = test_model3(gin2_np, folder+gin2_file+\"/RUN_\", dataset2, model_str)\n",
    "acclist3, lablist3 = test_model3(gin3_np, folder+gin3_file+\"/RUN_\", dataset3, model_str)\n",
    "acclist4, lablist4 = test_model3(gin4_np, folder+gin4_file+\"/RUN_\", dataset4, model_str)"
   ]
  },
  {
   "cell_type": "code",
   "execution_count": 14,
   "metadata": {},
   "outputs": [
    {
     "data": {
      "image/png": "[encoded data removed]",
      "text/plain": [
       "<Figure size 432x288 with 1 Axes>"
      ]
     },
     "metadata": {
      "needs_background": "light"
     },
     "output_type": "display_data"
    }
   ],
   "source": [
    "accuracies = [accs1, accs2, accs3, accs4]\n",
    "acclists = [acclist1, acclist2, acclist3, acclist4]\n",
    "\n",
    "labels = [\"Conventional\", \"Hydro/Arom prior\", \"Bonds prior\", \"Protein prior\"]\n",
    "for idx, ac in enumerate(accuracies):\n",
    "    fpr, tpr, threshold = metrics.roc_curve(labels1, sigmoid(np.array(ac))[:,1])\n",
    "    roc_auc = metrics.roc_auc_score(labels1, sigmoid(np.array(ac))[:,1])\n",
    "    plt.title('Receiver Operating Characteristic - GIN CMR')\n",
    "    plt.plot(fpr, tpr, label = labels[idx]+' / AUC = %0.2f' % roc_auc)\n",
    "    plt.legend(loc = 'lower right')\n",
    "    \n",
    "plt.plot([0, 1], [0, 1],'r--')\n",
    "plt.xlim([0, 1])\n",
    "plt.ylim([0, 1])\n",
    "plt.ylabel('True Positive Rate')\n",
    "plt.xlabel('False Positive Rate')\n",
    "plt.show()"
   ]
  },
  {
   "cell_type": "code",
   "execution_count": 15,
   "metadata": {},
   "outputs": [
    {
     "name": "stdout",
     "output_type": "stream",
     "text": [
      "0.8049 0.6786\n",
      "0.8527 0.7306\n",
      "0.8466 0.6603\n",
      "0.8572 0.7417\n"
     ]
    }
   ],
   "source": [
    "for acc in acclists:\n",
    "    rec = []\n",
    "    pre = []\n",
    "    for idx, acc_fold in enumerate(acc):\n",
    "        rec.append(sklearn.metrics.recall_score(lablist1[idx], np.argmax(acc_fold, axis=1)))\n",
    "        pre.append(sklearn.metrics.precision_score(lablist1[idx], np.argmax(acc_fold, axis=1)))\n",
    "#     print(rec)\n",
    "    print(\"%.4f %.4f\" % (np.mean(pre), np.mean(rec)))\n",
    "#     print(\"%.4f\" % np.mean(pre), np.std(pre))"
   ]
  },
  {
   "cell_type": "code",
   "execution_count": null,
   "metadata": {},
   "outputs": [],
   "source": [
    "accs = []\n",
    "for idx1, acc1 in enumerate(accuracies):\n",
    "    pred = []\n",
    "    acc_samen = (sigmoid(np.array(accs1))+sigmoid(np.array(acc1)))/2\n",
    "    print(idx1+1)\n",
    "    print(confusion_matrix(labels1, np.argmax(acc_samen, axis=1).tolist()))"
   ]
  },
  {
   "cell_type": "code",
   "execution_count": 16,
   "metadata": {},
   "outputs": [
    {
     "name": "stdout",
     "output_type": "stream",
     "text": [
      "80.5 67.9\n",
      "82.1 68.2\n",
      "83.8 71.6\n",
      "83.6 69.3\n",
      "84.7 71.2\n",
      "84.7 70.1\n",
      "86.6 72.3\n"
     ]
    }
   ],
   "source": [
    "acclists = [acclist1, acclist3, acclist2, acclist4]\n",
    "accs = []\n",
    "for idx1, acc1 in enumerate(acclists):\n",
    "    acc_temp = []\n",
    "    rec = []\n",
    "    pre = []\n",
    "    for idx, acc_fold in enumerate(acc1):\n",
    "        acc_samen = (sigmoid(np.array(acclists[0][idx]))+sigmoid(np.array(acclists[idx1][idx])))/2\n",
    "        rec.append(sklearn.metrics.recall_score(lablist1[idx], np.argmax(acc_samen, axis=1).tolist()))\n",
    "        pre.append(sklearn.metrics.precision_score(lablist1[idx], np.argmax(acc_samen, axis=1).tolist()))\n",
    "    accs.append([idx1, np.mean(pre), np.mean(rec)])\n",
    "        \n",
    "df = pd.DataFrame(accs)\n",
    "for a in list(df.values):\n",
    "    print(\"%.1f %.1f\" % (100*a[1],100*a[2]))\n",
    "rep123r=[]\n",
    "rep124r=[]\n",
    "rep1234r=[]\n",
    "rep123p=[]\n",
    "rep124p=[]\n",
    "rep1234p=[]\n",
    "for idx in range(10):\n",
    "    acc_samen = (sigmoid(np.array(acclist1[idx]))+sigmoid(np.array(acclist3[idx]))+sigmoid(np.array(acclist2[idx])))/3\n",
    "    rep123r.append(sklearn.metrics.recall_score(lablist1[idx], np.argmax(acc_samen, axis=1).tolist()))\n",
    "    rep123p.append(sklearn.metrics.precision_score(lablist1[idx], np.argmax(acc_samen, axis=1).tolist()))\n",
    "    acc_samen = (sigmoid(np.array(acclist1[idx]))+sigmoid(np.array(acclist3[idx]))+sigmoid(np.array(acclist4[idx])))/3\n",
    "    rep124r.append(sklearn.metrics.recall_score(lablist1[idx], np.argmax(acc_samen, axis=1).tolist()))\n",
    "    rep124p.append(sklearn.metrics.precision_score(lablist1[idx], np.argmax(acc_samen, axis=1).tolist()))\n",
    "    acc_samen = (sigmoid(np.array(acclist1[idx]))+sigmoid(np.array(acclist2[idx]))+sigmoid(np.array(acclist3[idx]))+sigmoid(np.array(acclist4[idx])))/4\n",
    "    rep1234r.append(sklearn.metrics.recall_score(lablist1[idx], np.argmax(acc_samen, axis=1).tolist()))\n",
    "    rep1234p.append(sklearn.metrics.precision_score(lablist1[idx], np.argmax(acc_samen, axis=1).tolist()))\n",
    "print(\"%.1f %.1f\" % (100*np.mean(rep123p), 100*np.mean(rep123r)))\n",
    "print(\"%.1f %.1f\" % (100*np.mean(rep124p), 100*np.mean(rep124r)))\n",
    "print(\"%.1f %.1f\" % (100*np.mean(rep1234p), 100*np.mean(rep1234r)))"
   ]
  },
  {
   "cell_type": "code",
   "execution_count": null,
   "metadata": {},
   "outputs": [],
   "source": []
  },
  {
   "cell_type": "code",
   "execution_count": 17,
   "metadata": {},
   "outputs": [
    {
     "name": "stdout",
     "output_type": "stream",
     "text": [
      "Counter({1: 69, 4: 51, 2: 42, 3: 39})\n",
      "201\n"
     ]
    }
   ],
   "source": [
    "from collections import Counter\n",
    "idx_wrong = []\n",
    "idx_wrong2 = []\n",
    "for acc in accuracies:\n",
    "    idx_wrong.append(([i for i,x in enumerate(labels1 == np.argmax(acc,axis=1)) if x == False]))\n",
    "    idx_wrong2.extend(([i for i,x in enumerate(labels1 == np.argmax(acc,axis=1)) if x == False]))\n",
    "    \n",
    "idx_allwrong  = sorted(list(set(idx_wrong[0])&set(idx_wrong[1])&set(idx_wrong[2])&set(idx_wrong[3])))\n",
    "print(Counter(Counter(idx_wrong2).values()))\n",
    "print(len(Counter(idx_wrong2)))"
   ]
  },
  {
   "cell_type": "code",
   "execution_count": 22,
   "metadata": {},
   "outputs": [
    {
     "name": "stdout",
     "output_type": "stream",
     "text": [
      "[[335  46]\n",
      " [ 87 184]]\n",
      "[[347  34]\n",
      " [ 92 179]]\n",
      "[[345  36]\n",
      " [ 73 198]]\n",
      "[[345  36]\n",
      " [ 70 201]]\n"
     ]
    }
   ],
   "source": [
    "accuracies = [accs1, accs3, accs2, accs4]\n",
    "for acc in accuracies:\n",
    "    print(confusion_matrix(labels1, np.argmax(acc, axis=1)))"
   ]
  },
  {
   "cell_type": "code",
   "execution_count": 17,
   "metadata": {},
   "outputs": [
    {
     "name": "stdout",
     "output_type": "stream",
     "text": [
      "77.90+/-3.88\n",
      "78.75+/-4.69\n",
      "80.68+/-4.83\n",
      "79.57+/-3.65\n",
      "80.88+/-4.35\n",
      "80.88+/-4.35\n",
      "81.97+/-4.88\n"
     ]
    }
   ],
   "source": [
    "accs = []\n",
    "for idx1, acc1 in enumerate(acclists):\n",
    "    acc_temp = []\n",
    "    for idx, acc_fold in enumerate(acc1):\n",
    "        acc_samen = (sigmoid(np.array(acclists[0][idx]))+sigmoid(np.array(acclists[idx1][idx])))/2\n",
    "        acc_temp.append(balanced_accuracy_score(lablist1[idx], np.argmax(acc_samen, axis=1).tolist()))\n",
    "    accs.append([idx1, np.mean(acc_temp), np.std(acc_temp)])\n",
    "        \n",
    "df = pd.DataFrame(accs)\n",
    "for a in list(df.values):\n",
    "    print(\"%.2f+/-%.2f\" % (100*a[1],100*a[2]))\n",
    "rep123=[]\n",
    "rep124=[]\n",
    "rep1234=[]\n",
    "for idx in range(10):\n",
    "    acc_samen = (sigmoid(np.array(acclist1[idx]))+sigmoid(np.array(acclist2[idx]))+sigmoid(np.array(acclist3[idx])))/3\n",
    "    rep123.append(balanced_accuracy_score(lablist1[idx], np.argmax(acc_samen, axis=1).tolist()))\n",
    "    acc_samen = (sigmoid(np.array(acclist1[idx]))+sigmoid(np.array(acclist2[idx]))+sigmoid(np.array(acclist3[idx])))/3\n",
    "    rep124.append(balanced_accuracy_score(lablist1[idx], np.argmax(acc_samen, axis=1).tolist()))\n",
    "    acc_samen = (sigmoid(np.array(acclist1[idx]))+sigmoid(np.array(acclist2[idx]))+sigmoid(np.array(acclist3[idx]))+sigmoid(np.array(acclist4[idx])))/4\n",
    "    rep1234.append(balanced_accuracy_score(lablist1[idx], np.argmax(acc_samen, axis=1).tolist()))\n",
    "print(\"%.2f+/-%.2f\" % (100*np.mean(rep123), 100*np.std(rep123)))\n",
    "print(\"%.2f+/-%.2f\" % (100*np.mean(rep124), 100*np.std(rep124)))\n",
    "print(\"%.2f+/-%.2f\" % (100*np.mean(rep1234), 100*np.std(rep1234)))"
   ]
  },
  {
   "cell_type": "code",
   "execution_count": 18,
   "metadata": {},
   "outputs": [
    {
     "name": "stdout",
     "output_type": "stream",
     "text": [
      "80.88+/-4.35\n",
      "80.88+/-4.35\n",
      "81.97+/-4.88\n"
     ]
    }
   ],
   "source": [
    "rep123=[]\n",
    "rep124=[]\n",
    "rep1234=[]\n",
    "for idx in range(10):\n",
    "    acc_samen = (sigmoid(np.array(acclist1[idx]))+sigmoid(np.array(acclist2[idx]))+sigmoid(np.array(acclist3[idx])))/3\n",
    "    rep123.append(balanced_accuracy_score(lablist1[idx], np.argmax(acc_samen, axis=1).tolist()))\n",
    "    acc_samen = (sigmoid(np.array(acclist1[idx]))+sigmoid(np.array(acclist2[idx]))+sigmoid(np.array(acclist3[idx])))/3\n",
    "    rep124.append(balanced_accuracy_score(lablist1[idx], np.argmax(acc_samen, axis=1).tolist()))\n",
    "    acc_samen = (sigmoid(np.array(acclist1[idx]))+sigmoid(np.array(acclist2[idx]))+sigmoid(np.array(acclist3[idx]))+sigmoid(np.array(acclist4[idx])))/4\n",
    "    rep1234.append(balanced_accuracy_score(lablist1[idx], np.argmax(acc_samen, axis=1).tolist()))\n",
    "print(\"%.2f+/-%.2f\" % (100*np.mean(rep123), 100*np.std(rep123)))\n",
    "print(\"%.2f+/-%.2f\" % (100*np.mean(rep124), 100*np.std(rep124)))\n",
    "print(\"%.2f+/-%.2f\" % (100*np.mean(rep1234), 100*np.std(rep1234)))"
   ]
  },
  {
   "cell_type": "code",
   "execution_count": 19,
   "metadata": {},
   "outputs": [
    {
     "name": "stdout",
     "output_type": "stream",
     "text": [
      "1\n",
      "[[335  46]\n",
      " [ 87 184]]\n",
      "2\n",
      "[[342  39]\n",
      " [ 77 194]]\n",
      "3\n",
      "[[340  41]\n",
      " [ 86 185]]\n",
      "4\n",
      "[[342  39]\n",
      " [ 83 188]]\n"
     ]
    }
   ],
   "source": [
    "accs = []\n",
    "for idx1, acc1 in enumerate(accuracies):\n",
    "    pred = []\n",
    "    acc_samen = (sigmoid(np.array(accs1))+sigmoid(np.array(acc1)))/2\n",
    "    print(idx1+1)\n",
    "    print(confusion_matrix(labels1, np.argmax(acc_samen, axis=1).tolist()))"
   ]
  },
  {
   "cell_type": "code",
   "execution_count": 20,
   "metadata": {},
   "outputs": [
    {
     "name": "stdout",
     "output_type": "stream",
     "text": [
      "[[345  36]\n",
      " [ 78 193]]\n",
      "[[352  29]\n",
      " [ 79 192]]\n",
      "[[349  32]\n",
      " [ 75 196]]\n"
     ]
    }
   ],
   "source": [
    "acc_samen = (sigmoid(np.array(accs1))+sigmoid(np.array(accs2))+sigmoid(np.array(accs3)))/4\n",
    "print(confusion_matrix(labels1, np.argmax(acc_samen, axis=1).tolist()))\n",
    "acc_samen = (sigmoid(np.array(accs1))+sigmoid(np.array(accs2))+sigmoid(np.array(accs4)))/4\n",
    "print(confusion_matrix(labels1, np.argmax(acc_samen, axis=1).tolist()))\n",
    "acc_samen = (sigmoid(np.array(accs1))+sigmoid(np.array(accs2))+sigmoid(np.array(accs3))+sigmoid(np.array(accs4)))/4\n",
    "print(confusion_matrix(labels1, np.argmax(acc_samen, axis=1).tolist()))"
   ]
  },
  {
   "cell_type": "code",
   "execution_count": null,
   "metadata": {},
   "outputs": [],
   "source": [
    "# print(np.array(accuracies[1])[idx_allwrong])\n",
    "# print(np.array(labels1)[idx_allwrong])"
   ]
  },
  {
   "cell_type": "code",
   "execution_count": null,
   "metadata": {},
   "outputs": [],
   "source": [
    "# print(list(np.array(test)[idx_allwrong]))"
   ]
  },
  {
   "cell_type": "code",
   "execution_count": null,
   "metadata": {},
   "outputs": [],
   "source": [
    "# check  = [1, 0, 1, 1, 1, 1, 1, 1, 0, 1, 0, 0, 0, 0, 0, 0, 0, 0, 0, 0, 0, 0, 0, 0, 1, 0, 1, 1, 1, 1, 1, 1, 1, 1, 1, 0, 0, 0, 1, 1, 1, 1, 1, 1, 0, 0, 1, 1, 1, 1, 0, 0, 1, 0, 0, 0, 0, 0, 0, 0, 0, 0, 1, 0, 0, 0, 0, 0, 0, 0, 0, 0, 0, 0, 0, 1, 1, 1, 1, 0, 1, 0, 1, 1, 1, 0, 1, 1, 1, 1, 1, 1, 1, 1, 1, 1, 1, 1, 1, 0, 1, 1, 1, 1, 1, 0, 0, 0, 0, 1, 1, 0, 1, 1, 1, 1, 1, 1, 1, 1, 1, 1, 1, 1, 1, 1, 1, 1, 1, 1, 1, 1, 1, 0, 0, 1, 1, 1, 1, 0, 0, 0, 0, 1, 1, 0, 0, 1, 1, 1, 1, 1, 0, 1, 0, 0, 1, 1, 1, 1, 1, 0, 1, 1, 1, 1, 1, 1, 1, 1, 1, 1, 1, 0, 1, 1, 1, 1, 1, 1, 1, 1, 1, 0, 0, 1, 1, 0, 1, 1, 1, 0, 1, 1, 1, 0, 1, 1, 1, 0, 0, 0, 0, 1, 1, 0, 1, 1, 1, 1, 1, 1, 1, 1, 1, 1, 0, 1, 1, 1, 1, 1, 1, 1, 1, 1, 1, 1, 1, 1, 1, 1, 1, 0, 1, 1, 1, 0, 1, 1, 0, 0, 0, 1, 1, 1, 1, 1, 0, 1, 0, 0, 1, 1, 1, 1, 1, 0, 0, 0, 0, 0, 1, 0, 0, 0, 0, 0, 1, 1, 1, 0, 0, 1, 1, 0, 1, 0, 1, 1, 1, 1, 0, 0, 1, 1, 0, 0, 0, 0, 0, 1, 1, 1, 1, 1, 1, 1, 1, 0, 1, 1, 1, 1, 1, 1, 1, 1, 1, 1, 1, 1, 1, 0, 1, 1, 1, 1, 0, 0, 1, 0, 0, 0, 0, 0, 0, 0, 0, 0, 1, 0, 0, 0, 1, 0, 0, 1, 0, 0, 1, 1, 1, 1, 0, 1, 1, 0, 1, 1, 0, 1, 1, 0, 1, 1, 1, 0, 1, 0, 1, 1, 1, 1, 1, 1, 1, 1, 1, 0, 0, 0, 0, 0, 0, 0, 0, 0, 0, 0, 0, 0, 0, 0, 0, 0, 0, 0, 0, 0, 0, 0, 0, 0, 0, 0, 0, 0, 0, 0, 0, 0, 0, 0, 0, 0, 0, 0, 0, 0, 0, 0, 0, 0, 0, 0, 0, 0, 0, 0, 0, 0, 0, 0, 0, 0, 0, 0, 0, 1, 0, 0, 0, 0, 0, 0, 0, 0, 0, 0, 0, 0, 0, 0, 0, 0, 0, 0, 0, 0, 0, 0, 0, 0, 0, 0, 0, 0, 0, 0, 0, 0, 0, 0, 0, 0, 0, 0, 1, 1, 1, 0, 0, 0, 0, 0, 0, 1, 1, 1, 1, 1, 1, 1, 0, 0, 0, 1, 1, 1, 1, 1, 1, 1, 1, 1, 1, 1, 1, 0, 1, 1, 1, 1, 0, 1, 1, 1, 0, 0, 1, 1, 1, 1, 0, 0, 0, 1, 0, 0, 0, 0, 0, 0, 0, 0, 0, 0, 0, 0, 0, 0, 0, 0, 0, 0, 0, 0, 0, 0, 0, 0, 0, 0, 0, 0, 0, 0, 0, 0, 0, 0, 0, 0, 0, 0, 0, 0, 0, 0, 0, 0, 0, 0, 0, 0, 0, 0, 0, 0, 0, 0, 0, 0, 0, 0, 0, 0, 0, 0, 0, 0, 0, 0, 0, 0, 0, 0, 0, 0, 0, 0, 0, 0, 0, 0, 0, 0, 0, 0, 0, 0, 0, 0, 0, 0, 0, 0, 0, 0, 0, 0, 0, 0, 0, 0, 0, 0, 0, 0, 0, 0, 0, 0, 0, 0, 0, 0, 0, 0, 0, 0, 0, 0, 0, 0, 0, 0, 0, 0, 0, 0, 0, 0, 0, 0, 0, 0, 0, 0, 0, 0, 0, 0, 0, 0, 0, 0, 0, 0, 0, 0, 0, 0, 0, 0, 0, 0, 0, 0, 0, 0, 0, 0, 0, 0, 0, 0, 0, 0, 0, 0, 0, 0, 0, 0, 0, 0, 0, 0, 0, 0, 0, 0, 0, 0, 0, 0, 0, 0, 0, 0, 0, 0, 0, 0, 0, 0, 0, 0, 0, 0, 0, 0, 0, 0, 0, 0, 0, 0, 0, 0, 0, 0, 0, 0, 0, 0, 0, 0, 0, 0, 0, 0, 0, 0, 0, 0, 0, 0, 0, 0, 0, 0, 0, 0, 0, 0, 0, 0, 0, 0, 0, 0, 0, 0, 0, 0, 0, 0, 0, 0, 0, 0, 0, 0, 0, 0, 0, 0, 0, 0, 0, 0, 0, 0, 0, 0, 0, 0, 0, 0, 0, 0, 0, 0, 0, 0, 0, 0, 0, 0, 0, 0, 0, 0, 0, 0, 0, 0, 0, 0, 0, 0, 0, 0, 0, 0, 0, 0, 0, 0, 0, 0, 0, 0, 0, 0, 0, 0, 0, 0, 0, 0, 0, 0, 0, 0, 0, 0, 0, 0, 0, 0, 0, 0, 0, 0, 0, 0, 0, 0, 0, 0, 0, 0, 0, 0, 0, 0, 0, 0, 0, 0, 0, 0, 0, 0, 0, 0, 0, 0, 0, 0, 0, 0, 0, 0, 0, 0, 0, 0, 0, 0, 0, 0, 0, 0, 0, 0, 0, 0, 0, 0, 0, 0, 0, 0, 0, 0, 0, 0, 0, 0, 0, 0, 0, 0, 0]\n",
    "# print(np.array(check)[np.array(test)[idx_allwrong]])\n",
    "# print(np.array(labels1)[idx_allwrong])\n",
    "# print([1, 1, 1, 0, 0, 0, 0, 1, 1, 0, 0, 1, 1, 1, 1, 0, 0])\n",
    "# print(sum(np.array(check)[test] == labels1))"
   ]
  }
 ],
 "metadata": {
  "kernelspec": {
   "display_name": "Python 3",
   "language": "python",
   "name": "python3"
  },
  "language_info": {
   "codemirror_mode": {
    "name": "ipython",
    "version": 3
   },
   "file_extension": ".py",
   "mimetype": "text/x-python",
   "name": "python",
   "nbconvert_exporter": "python",
   "pygments_lexer": "ipython3",
   "version": "3.7.4"
  }
 },
 "nbformat": 4,
 "nbformat_minor": 4
}

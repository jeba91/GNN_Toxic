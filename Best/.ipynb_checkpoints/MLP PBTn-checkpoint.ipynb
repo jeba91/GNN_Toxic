{
 "cells": [
  {
   "cell_type": "code",
   "execution_count": 1,
   "metadata": {},
   "outputs": [],
   "source": [
    "\"\"\"\n",
    "    IMPORTING LIBS\n",
    "\"\"\"\n",
    "import dgl\n",
    "\n",
    "import numpy as np\n",
    "import os\n",
    "import socket\n",
    "import time\n",
    "import random\n",
    "import glob\n",
    "import argparse, json\n",
    "import pandas as pd\n",
    "\n",
    "from os import listdir\n",
    "from os.path import isfile, join\n",
    "\n",
    "import torch\n",
    "import torch.nn as nn\n",
    "import torch.nn.functional as F\n",
    "import torch.optim as optim\n",
    "from torch.utils.data import DataLoader\n",
    "\n",
    "from tensorboardX import SummaryWriter\n",
    "from tqdm import tqdm\n",
    "\n",
    "from sklearn.metrics import balanced_accuracy_score, confusion_matrix\n",
    "\n",
    "import sklearn\n",
    "import sklearn.metrics as metrics\n",
    "import matplotlib.pyplot as plt\n",
    "import math\n",
    "\n",
    "# custom function\n",
    "def sigmoid(x):\n",
    "    return 1 / (1 + np.exp(-x))"
   ]
  },
  {
   "cell_type": "code",
   "execution_count": 2,
   "metadata": {},
   "outputs": [],
   "source": [
    "# some_file.py\n",
    "import sys\n",
    "#change location to GNN_RIVM folder\n",
    "sys.path.insert(1, '/home/jeroen/Documents/Toxic/GNN_rivm/benchmark')\n",
    "\n",
    "from nets.TUs_graph_classification.load_net import gnn_model # import GNNs\n",
    "from data.data import LoadData # import dataset\n",
    "from train.train_TUs_graph_classification import train_epoch, evaluate_network, evaluate_network2 # import train functions\n",
    "\n",
    "drop_last = False\n",
    "device = torch.device(\"cpu\")"
   ]
  },
  {
   "cell_type": "code",
   "execution_count": 1,
   "metadata": {},
   "outputs": [],
   "source": [
    "def create_net_params(file_name):\n",
    "    f = open(file_name, \"r\")\n",
    "    n_params = (f.readlines()[5].split(\" \"))\n",
    "#     for i in (list(enumerate(n_params))):\n",
    "#         print(i)\n",
    "    net_params = dict()\n",
    "    pbt_params_int = [\"in_dim\", \"L\", \"hidden_dim\", \"out_dim\",\"n_classes\"]\n",
    "    int_idx = [21,1,3,5,23]\n",
    "    pbt_params_str = [ 'readout', 'gated']\n",
    "    str_idx = [7,9]\n",
    "    \n",
    "    for idx1, par in enumerate(pbt_params_int):\n",
    "        net_params[par] = int(n_params[int_idx[idx1]].split(',')[0])\n",
    "    net_params['dropout'] = float(n_params[13].split(',')[0])\n",
    "    net_params['in_feat_dropout'] = float(n_params[11].split(',')[0])\n",
    "    for idx2, par in enumerate(pbt_params_str):\n",
    "        net_params[par] =  n_params[str_idx[idx2]].split(',')[0].strip(\"'\")\n",
    "    return net_params "
   ]
  },
  {
   "cell_type": "code",
   "execution_count": 2,
   "metadata": {},
   "outputs": [],
   "source": [
    "folder = \"MLPPBTn/\"\n",
    "model_str = \"MLP\"\n",
    "\n",
    "gin1_file = \"MLP_PBT_Repn1_GPU0_12h41m37s_on_Jul_02_2020\"\n",
    "gin2_file = \"MLP_PBT_Repn2_GPU0_12h05m27s_on_Jul_02_2020\"\n",
    "gin3_file = \"MLP_PBT_Repn3_GPU0_12h43m02s_on_Jul_02_2020\"\n",
    "gin4_file = \"MLP_PBT_Repn4_GPU0_12h38m21s_on_Jul_02_2020\""
   ]
  },
  {
   "cell_type": "code",
   "execution_count": 3,
   "metadata": {},
   "outputs": [],
   "source": [
    "gin1_np = create_net_params(folder+\"config_\"+gin1_file+\".txt\")\n",
    "gin2_np = create_net_params(folder+\"config_\"+gin2_file+\".txt\")\n",
    "gin3_np = create_net_params(folder+\"config_\"+gin3_file+\".txt\")\n",
    "gin4_np = create_net_params(folder+\"config_\"+gin4_file+\".txt\")"
   ]
  },
  {
   "cell_type": "code",
   "execution_count": 4,
   "metadata": {},
   "outputs": [],
   "source": [
    "gin1_np['gated'] = False\n",
    "gin2_np['gated'] = False\n",
    "gin3_np['gated'] = False\n",
    "gin4_np['gated'] = False"
   ]
  },
  {
   "cell_type": "code",
   "execution_count": 5,
   "metadata": {},
   "outputs": [
    {
     "name": "stdout",
     "output_type": "stream",
     "text": [
      "{'in_dim': 15, 'L': 6, 'hidden_dim': 200, 'out_dim': 128, 'n_classes': 2, 'dropout': 0.5, 'in_feat_dropout': 0.5, 'readout': 'mean', 'gated': False}\n",
      "{'in_dim': 23, 'L': 2, 'hidden_dim': 150, 'out_dim': 128, 'n_classes': 2, 'dropout': 0.5, 'in_feat_dropout': 0.5, 'readout': 'mean', 'gated': False}\n",
      "{'in_dim': 19, 'L': 6, 'hidden_dim': 200, 'out_dim': 128, 'n_classes': 2, 'dropout': 0.5, 'in_feat_dropout': 0.5, 'readout': 'mean', 'gated': False}\n",
      "{'in_dim': 86, 'L': 4, 'hidden_dim': 200, 'out_dim': 128, 'n_classes': 2, 'dropout': 0.5, 'in_feat_dropout': 0.5, 'readout': 'mean', 'gated': False}\n"
     ]
    }
   ],
   "source": [
    "print(gin1_np)\n",
    "print(gin2_np)\n",
    "print(gin3_np)\n",
    "print(gin4_np)"
   ]
  },
  {
   "cell_type": "code",
   "execution_count": 25,
   "metadata": {},
   "outputs": [
    {
     "name": "stdout",
     "output_type": "stream",
     "text": [
      "971\n",
      "preparing 971 graphs for the ALL set...\n",
      "[!] Dataset:  PBT_Repn1\n",
      "Time taken: 5.8588s\n",
      "971\n",
      "preparing 971 graphs for the ALL set...\n",
      "[!] Dataset:  PBT_Repn2\n",
      "Time taken: 11.5982s\n",
      "971\n",
      "preparing 971 graphs for the ALL set...\n",
      "[!] Dataset:  PBT_Repn3\n",
      "Time taken: 11.1754s\n",
      "971\n",
      "preparing 971 graphs for the ALL set...\n",
      "[!] Dataset:  PBT_Repn4\n",
      "Time taken: 6.2023s\n"
     ]
    }
   ],
   "source": [
    "dataset1 = LoadData(\"PBT_Repn1\")\n",
    "dataset2 = LoadData(\"PBT_Repn2\")\n",
    "dataset3 = LoadData(\"PBT_Repn3\")\n",
    "dataset4 = LoadData(\"PBT_Repn4\")"
   ]
  },
  {
   "cell_type": "code",
   "execution_count": 26,
   "metadata": {},
   "outputs": [],
   "source": [
    "drop_last = False\n",
    "device = torch.device(\"cpu\")"
   ]
  },
  {
   "cell_type": "code",
   "execution_count": 27,
   "metadata": {},
   "outputs": [],
   "source": [
    "def test_model(net_params, model_name, dataset, model_str):\n",
    "    accs = []\n",
    "    for i in range(10):\n",
    "        model = gnn_model(model_str, net_params)\n",
    "        onlyfiles = [f for f in listdir(model_name + str(i)) if isfile(join(model_name + str(i), f))]\n",
    "        model.load_state_dict(torch.load(model_name + str(i) +\"/\"+ onlyfiles[-1]))\n",
    "        trainset, valset, testset = dataset.train[i], dataset.val[i], dataset.test[i]\n",
    "#         train_loader = DataLoader(trainset, batch_size=20, shuffle=True, drop_last=drop_last, collate_fn=dataset.collate)\n",
    "#         val_loader = DataLoader(valset, batch_size=20, shuffle=False, drop_last=drop_last, collate_fn=dataset.collate)\n",
    "        test_loader = DataLoader(testset, batch_size=1, shuffle=False, drop_last=drop_last, collate_fn=dataset.collate)\n",
    "        epoch_val_loss, epoch_val_acc = evaluate_network(model, device, test_loader, 999)\n",
    "        accs.append(epoch_val_acc)\n",
    "    print(np.mean(accs),np.std(accs))\n",
    "#     print(accs)"
   ]
  },
  {
   "cell_type": "code",
   "execution_count": 28,
   "metadata": {},
   "outputs": [],
   "source": [
    "def test_model2(net_params, model_name, dataset, model_str):\n",
    "    accs = []\n",
    "    labs = []\n",
    "    for i in range(10):\n",
    "        model = gnn_model(model_str, net_params)\n",
    "        onlyfiles = [f for f in listdir(model_name + str(i)) if isfile(join(model_name + str(i), f))]\n",
    "        model.load_state_dict(torch.load(model_name + str(i) +\"/\"+ onlyfiles[-1]))\n",
    "        trainset, valset, testset = dataset.train[i], dataset.val[i], dataset.test[i]\n",
    "        test_loader = DataLoader(testset, batch_size=1, shuffle=False, drop_last=drop_last, collate_fn=dataset.collate)\n",
    "        epoch_val_loss, labels, score = evaluate_network2(model, device, test_loader, 999)\n",
    "        accs.extend(score)\n",
    "        labs.extend(labels)\n",
    "    return accs, labs"
   ]
  },
  {
   "cell_type": "code",
   "execution_count": 29,
   "metadata": {},
   "outputs": [],
   "source": [
    "def test_model3(net_params, model_name, dataset, model_str):\n",
    "    accs = []\n",
    "    labs = []\n",
    "    for i in range(10):\n",
    "        model = gnn_model(model_str, net_params)\n",
    "        onlyfiles = [f for f in listdir(model_name + str(i)) if isfile(join(model_name + str(i), f))]\n",
    "        model.load_state_dict(torch.load(model_name + str(i) +\"/\"+ onlyfiles[-1]))\n",
    "        trainset, valset, testset = dataset.train[i], dataset.val[i], dataset.test[i]\n",
    "        test_loader = DataLoader(testset, batch_size=1, shuffle=False, drop_last=drop_last, collate_fn=dataset.collate)\n",
    "        epoch_val_loss, labels, score = evaluate_network2(model, device, test_loader, 999)\n",
    "        accs.append(score)\n",
    "        labs.append(labels)\n",
    "    return accs, labs"
   ]
  },
  {
   "cell_type": "code",
   "execution_count": 30,
   "metadata": {},
   "outputs": [
    {
     "name": "stdout",
     "output_type": "stream",
     "text": [
      "0.775538386601998 0.06444847945305374\n",
      "0.8304547527256145 0.02864802065707296\n",
      "0.8438298511793725 0.047534364207340765\n",
      "0.8537321228702897 0.044260539516264616\n"
     ]
    }
   ],
   "source": [
    "test_model(gin1_np, folder+gin1_file+\"/RUN_\", dataset1, model_str)\n",
    "test_model(gin2_np, folder+gin2_file+\"/RUN_\", dataset2, model_str)\n",
    "test_model(gin3_np, folder+gin3_file+\"/RUN_\", dataset3, model_str)\n",
    "test_model(gin4_np, folder+gin4_file+\"/RUN_\", dataset4, model_str)"
   ]
  },
  {
   "cell_type": "code",
   "execution_count": 31,
   "metadata": {},
   "outputs": [],
   "source": [
    "accs1, labels1 = test_model2(gin1_np, folder+gin1_file+\"/RUN_\", dataset1, model_str)\n",
    "accs2, labels2 = test_model2(gin2_np, folder+gin2_file+\"/RUN_\", dataset2, model_str)\n",
    "accs3, labels3 = test_model2(gin3_np, folder+gin3_file+\"/RUN_\", dataset3, model_str)\n",
    "accs4, labels4 = test_model2(gin4_np, folder+gin4_file+\"/RUN_\", dataset4, model_str)"
   ]
  },
  {
   "cell_type": "code",
   "execution_count": 32,
   "metadata": {},
   "outputs": [],
   "source": [
    "acclist1, lablist1 = test_model3(gin1_np, folder+gin1_file+\"/RUN_\", dataset1, model_str)\n",
    "acclist2, lablist2 = test_model3(gin2_np, folder+gin2_file+\"/RUN_\", dataset2, model_str)\n",
    "acclist3, lablist3 = test_model3(gin3_np, folder+gin3_file+\"/RUN_\", dataset3, model_str)\n",
    "acclist4, lablist4 = test_model3(gin4_np, folder+gin4_file+\"/RUN_\", dataset4, model_str)"
   ]
  },
  {
   "cell_type": "code",
   "execution_count": 33,
   "metadata": {},
   "outputs": [
    {
     "data": {
      "image/png": "[encoded data removed]",
      "text/plain": [
       "<Figure size 432x288 with 1 Axes>"
      ]
     },
     "metadata": {
      "needs_background": "light"
     },
     "output_type": "display_data"
    }
   ],
   "source": [
    "accuracies = [accs1, accs2, accs3, accs4]\n",
    "acclists = [acclist1, acclist2, acclist3, acclist4]\n",
    "\n",
    "labels = [\"Conventional\", \"Hydro/Arom prior\", \"Bonds prior\", \"Protein prior\"]\n",
    "for idx, ac in enumerate(accuracies):\n",
    "    fpr, tpr, threshold = metrics.roc_curve(labels1, sigmoid(np.array(ac))[:,1])\n",
    "    roc_auc = metrics.roc_auc_score(labels1, sigmoid(np.array(ac))[:,1])\n",
    "    plt.title('Receiver Operating Characteristic - MLP PBT+')\n",
    "    plt.plot(fpr, tpr, label = labels[idx]+' / AUC = %0.2f' % roc_auc)\n",
    "    plt.legend(loc = 'lower right')\n",
    "    \n",
    "plt.plot([0, 1], [0, 1],'r--')\n",
    "plt.xlim([0, 1])\n",
    "plt.ylim([0, 1])\n",
    "plt.ylabel('True Positive Rate')\n",
    "plt.xlabel('False Positive Rate')\n",
    "plt.show()"
   ]
  },
  {
   "cell_type": "code",
   "execution_count": 42,
   "metadata": {},
   "outputs": [
    {
     "name": "stdout",
     "output_type": "stream",
     "text": [
      "0.5768 0.6174\n",
      "0.7384 0.6970\n",
      "0.5976 0.7598\n",
      "0.6118 0.7773\n"
     ]
    }
   ],
   "source": [
    "for acc in acclists:\n",
    "    rec = []\n",
    "    pre = []\n",
    "    for idx, acc_fold in enumerate(acc):\n",
    "        rec.append(sklearn.metrics.recall_score(lablist1[idx], np.argmax(acc_fold, axis=1)))\n",
    "        pre.append(sklearn.metrics.precision_score(lablist1[idx], np.argmax(acc_fold, axis=1)))\n",
    "#     print(rec)\n",
    "    print(\"%.4f %.4f\" % (np.mean(pre), np.mean(rec)))\n",
    "#     print(\"%.4f\" % np.mean(pre), np.std(pre))"
   ]
  },
  {
   "cell_type": "code",
   "execution_count": 35,
   "metadata": {},
   "outputs": [
    {
     "name": "stdout",
     "output_type": "stream",
     "text": [
      "[[802  57]\n",
      " [ 43  69]]\n",
      "[[828  31]\n",
      " [ 34  78]]\n",
      "[[797  62]\n",
      " [ 27  85]]\n",
      "[[799  60]\n",
      " [ 25  87]]\n"
     ]
    }
   ],
   "source": [
    "accuracies = [accs1, accs2, accs3, accs4]\n",
    "for acc in accuracies:\n",
    "    print(confusion_matrix(labels1, np.argmax(acc, axis=1)))"
   ]
  },
  {
   "cell_type": "code",
   "execution_count": 37,
   "metadata": {},
   "outputs": [
    {
     "name": "stdout",
     "output_type": "stream",
     "text": [
      "   0         1         2\n",
      "0  0  0.775538  0.064448\n",
      "1  1  0.781186  0.067362\n",
      "2  2  0.777857  0.061040\n",
      "3  3  0.799841  0.063650\n"
     ]
    }
   ],
   "source": [
    "accs = []\n",
    "for idx1, acc1 in enumerate(acclists):\n",
    "    acc_temp = []\n",
    "    for idx, acc_fold in enumerate(acc1):\n",
    "        acc_samen = (sigmoid(np.array(acclists[0][idx]))+sigmoid(np.array(acclists[idx1][idx])))/2\n",
    "        acc_temp.append(balanced_accuracy_score(lablist1[idx], np.argmax(acc_samen, axis=1).tolist()))\n",
    "    accs.append([idx1, np.mean(acc_temp), np.std(acc_temp)])\n",
    "        \n",
    "df = pd.DataFrame(accs)\n",
    "print(df)"
   ]
  },
  {
   "cell_type": "code",
   "execution_count": 38,
   "metadata": {},
   "outputs": [
    {
     "name": "stdout",
     "output_type": "stream",
     "text": [
      "0.781073353231356 0.0668751830595134\n",
      "0.781073353231356 0.0668751830595134\n",
      "0.8276378352609542 0.05341601355426593\n"
     ]
    }
   ],
   "source": [
    "rep123=[]\n",
    "rep124=[]\n",
    "rep1234=[]\n",
    "for idx in range(10):\n",
    "    acc_samen = (sigmoid(np.array(acclist1[idx]))+sigmoid(np.array(acclist2[idx]))+sigmoid(np.array(acclist3[idx])))/3\n",
    "    rep123.append(balanced_accuracy_score(lablist1[idx], np.argmax(acc_samen, axis=1).tolist()))\n",
    "    acc_samen = (sigmoid(np.array(acclist1[idx]))+sigmoid(np.array(acclist2[idx]))+sigmoid(np.array(acclist3[idx])))/3\n",
    "    rep124.append(balanced_accuracy_score(lablist1[idx], np.argmax(acc_samen, axis=1).tolist()))\n",
    "    acc_samen = (sigmoid(np.array(acclist1[idx]))+sigmoid(np.array(acclist2[idx]))+sigmoid(np.array(acclist3[idx]))+sigmoid(np.array(acclist4[idx])))/4\n",
    "    rep1234.append(balanced_accuracy_score(lablist1[idx], np.argmax(acc_samen, axis=1).tolist()))\n",
    "print(np.mean(rep123), np.std(rep123))\n",
    "print(np.mean(rep124), np.std(rep124))\n",
    "print(np.mean(rep1234), np.std(rep1234))"
   ]
  },
  {
   "cell_type": "code",
   "execution_count": 40,
   "metadata": {},
   "outputs": [
    {
     "name": "stdout",
     "output_type": "stream",
     "text": [
      "1\n",
      "[[802  57]\n",
      " [ 43  69]]\n",
      "2\n",
      "[[826  33]\n",
      " [ 45  67]]\n",
      "3\n",
      "[[806  53]\n",
      " [ 43  69]]\n",
      "4\n",
      "[[806  53]\n",
      " [ 38  74]]\n"
     ]
    }
   ],
   "source": [
    "accs = []\n",
    "for idx1, acc1 in enumerate(accuracies):\n",
    "    pred = []\n",
    "    acc_samen = (sigmoid(np.array(accs1))+sigmoid(np.array(acc1)))/2\n",
    "    print(idx1+1)\n",
    "    print(confusion_matrix(labels1, np.argmax(acc_samen, axis=1).tolist()))"
   ]
  },
  {
   "cell_type": "code",
   "execution_count": 41,
   "metadata": {},
   "outputs": [
    {
     "name": "stdout",
     "output_type": "stream",
     "text": [
      "[[818  41]\n",
      " [ 44  68]]\n",
      "[[815  44]\n",
      " [ 40  72]]\n",
      "[[816  43]\n",
      " [ 33  79]]\n"
     ]
    }
   ],
   "source": [
    "acc_samen = (sigmoid(np.array(accs1))+sigmoid(np.array(accs2))+sigmoid(np.array(accs3)))/4\n",
    "print(confusion_matrix(labels1, np.argmax(acc_samen, axis=1).tolist()))\n",
    "acc_samen = (sigmoid(np.array(accs1))+sigmoid(np.array(accs2))+sigmoid(np.array(accs4)))/4\n",
    "print(confusion_matrix(labels1, np.argmax(acc_samen, axis=1).tolist()))\n",
    "acc_samen = (sigmoid(np.array(accs1))+sigmoid(np.array(accs2))+sigmoid(np.array(accs3))+sigmoid(np.array(accs4)))/4\n",
    "print(confusion_matrix(labels1, np.argmax(acc_samen, axis=1).tolist()))"
   ]
  },
  {
   "cell_type": "code",
   "execution_count": null,
   "metadata": {},
   "outputs": [],
   "source": []
  }
 ],
 "metadata": {
  "kernelspec": {
   "display_name": "Python 3",
   "language": "python",
   "name": "python3"
  },
  "language_info": {
   "codemirror_mode": {
    "name": "ipython",
    "version": 3
   },
   "file_extension": ".py",
   "mimetype": "text/x-python",
   "name": "python",
   "nbconvert_exporter": "python",
   "pygments_lexer": "ipython3",
   "version": "3.7.4"
  }
 },
 "nbformat": 4,
 "nbformat_minor": 4
}

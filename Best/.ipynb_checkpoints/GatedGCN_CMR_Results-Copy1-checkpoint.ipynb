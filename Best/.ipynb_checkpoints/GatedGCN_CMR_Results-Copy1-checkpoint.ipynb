{
 "cells": [
  {
   "cell_type": "code",
   "execution_count": 1,
   "metadata": {},
   "outputs": [],
   "source": [
    "\"\"\"\n",
    "    IMPORTING LIBS\n",
    "\"\"\"\n",
    "import dgl\n",
    "\n",
    "import numpy as np\n",
    "import os\n",
    "import socket\n",
    "import time\n",
    "import random\n",
    "import glob\n",
    "import argparse, json\n",
    "import pandas as pd\n",
    "\n",
    "from os import listdir\n",
    "from os.path import isfile, join\n",
    "\n",
    "import torch\n",
    "import torch.nn as nn\n",
    "import torch.nn.functional as F\n",
    "import torch.optim as optim\n",
    "from torch.utils.data import DataLoader\n",
    "\n",
    "from tensorboardX import SummaryWriter\n",
    "from tqdm import tqdm\n",
    "\n",
    "from sklearn.metrics import balanced_accuracy_score, confusion_matrix\n",
    "\n",
    "import sklearn\n",
    "import sklearn.metrics as metrics\n",
    "import matplotlib.pyplot as plt\n",
    "import math\n",
    "\n",
    "# custom function\n",
    "def sigmoid(x):\n",
    "    return 1 / (1 + np.exp(-x))"
   ]
  },
  {
   "cell_type": "code",
   "execution_count": 2,
   "metadata": {},
   "outputs": [],
   "source": [
    "from nets.TUs_graph_classification.load_net import gnn_model # import GNNs\n",
    "from data.data import LoadData # import dataset\n",
    "from train.train_TUs_graph_classification import train_epoch, evaluate_network, evaluate_network2 # import train functions"
   ]
  },
  {
   "cell_type": "code",
   "execution_count": 1,
   "metadata": {},
   "outputs": [],
   "source": [
    "def create_net_params(file_name):\n",
    "    f = open(file_name, \"r\")\n",
    "    n_params = (f.readlines()[5].split(\" \"))\n",
    "    net_params = dict()\n",
    "    pbt_params_int = ['in_dim', 'hidden_dim', 'out_dim', 'n_classes', 'L']\n",
    "    int_idx = [27,3,5,29,1]\n",
    "    pbt_params_str = ['readout', 'graph_norm', 'batch_norm', 'residual']\n",
    "    str_idx = [9,15,17,7]\n",
    "    \n",
    "    for idx1, par in enumerate(pbt_params_int):\n",
    "        net_params[par] = int(n_params[int_idx[idx1]].split(',')[0])\n",
    "    net_params['dropout'] = float(n_params[13].split(',')[0])\n",
    "    for idx2, par in enumerate(pbt_params_str):\n",
    "        net_params[par] =  n_params[str_idx[idx2]].split(',')[0].strip(\"'\")\n",
    "    return net_params "
   ]
  },
  {
   "cell_type": "code",
   "execution_count": 2,
   "metadata": {},
   "outputs": [],
   "source": [
    "folder = \"GatedCMR/\"\n",
    "model_str = \"GatedGCN\"\n",
    "\n",
    "gin1_file = \"GatedGCN_CMR_Rep1_GPU0_22h13m22s_on_Jul_03_2020\"\n",
    "gin2_file = \"GatedGCN_CMR_Rep2_GPU0_22h13m35s_on_Jul_03_2020\"\n",
    "gin3_file = \"GatedGCN_CMR_Rep3_GPU0_22h13m30s_on_Jul_03_2020\"\n",
    "gin4_file = \"GatedGCN_CMR_Rep4_GPU0_22h13m33s_on_Jul_03_2020\""
   ]
  },
  {
   "cell_type": "code",
   "execution_count": 3,
   "metadata": {},
   "outputs": [],
   "source": [
    "gin1_np = create_net_params(folder+\"config_\"+gin1_file+\".txt\")\n",
    "gin2_np = create_net_params(folder+\"config_\"+gin2_file+\".txt\")\n",
    "gin3_np = create_net_params(folder+\"config_\"+gin3_file+\".txt\")\n",
    "gin4_np = create_net_params(folder+\"config_\"+gin4_file+\".txt\")"
   ]
  },
  {
   "cell_type": "code",
   "execution_count": 4,
   "metadata": {},
   "outputs": [
    {
     "name": "stdout",
     "output_type": "stream",
     "text": [
      "{'in_dim': 17, 'hidden_dim': 96, 'out_dim': 96, 'n_classes': 2, 'L': 4, 'dropout': 0.5, 'readout': 'mean', 'graph_norm': 'True', 'batch_norm': 'True', 'residual': 'True'}\n",
      "{'in_dim': 25, 'hidden_dim': 96, 'out_dim': 96, 'n_classes': 2, 'L': 6, 'dropout': 0.5, 'readout': 'mean', 'graph_norm': 'True', 'batch_norm': 'True', 'residual': 'True'}\n",
      "{'in_dim': 21, 'hidden_dim': 96, 'out_dim': 96, 'n_classes': 2, 'L': 6, 'dropout': 0.5, 'readout': 'mean', 'graph_norm': 'True', 'batch_norm': 'True', 'residual': 'True'}\n",
      "{'in_dim': 88, 'hidden_dim': 96, 'out_dim': 96, 'n_classes': 2, 'L': 6, 'dropout': 0.5, 'readout': 'mean', 'graph_norm': 'True', 'batch_norm': 'True', 'residual': 'True'}\n"
     ]
    }
   ],
   "source": [
    "print(gin1_np)\n",
    "print(gin2_np)\n",
    "print(gin3_np)\n",
    "print(gin4_np)"
   ]
  },
  {
   "cell_type": "code",
   "execution_count": 6,
   "metadata": {},
   "outputs": [
    {
     "name": "stdout",
     "output_type": "stream",
     "text": [
      "652\n",
      "preparing 652 graphs for the ALL set...\n",
      "[!] Dataset:  CMR_Rep1\n",
      "Time taken: 4.6481s\n",
      "652\n",
      "preparing 652 graphs for the ALL set...\n",
      "[!] Dataset:  CMR_Rep2\n",
      "Time taken: 9.5757s\n",
      "652\n",
      "preparing 652 graphs for the ALL set...\n",
      "[!] Dataset:  CMR_Rep3\n",
      "Time taken: 8.3679s\n",
      "652\n",
      "preparing 652 graphs for the ALL set...\n",
      "[!] Dataset:  CMR_Rep4\n",
      "Time taken: 4.9710s\n"
     ]
    }
   ],
   "source": [
    "dataset1 = LoadData(\"CMR_Rep1\")\n",
    "dataset2 = LoadData(\"CMR_Rep2\")\n",
    "dataset3 = LoadData(\"CMR_Rep3\")\n",
    "dataset4 = LoadData(\"CMR_Rep4\")"
   ]
  },
  {
   "cell_type": "code",
   "execution_count": 7,
   "metadata": {},
   "outputs": [],
   "source": [
    "drop_last = True\n",
    "device = torch.device(\"cpu\")"
   ]
  },
  {
   "cell_type": "code",
   "execution_count": 8,
   "metadata": {},
   "outputs": [],
   "source": [
    "def test_model(net_params, model_name, dataset, model_str):\n",
    "    accs = []\n",
    "    for i in range(10):\n",
    "        model = gnn_model(model_str, net_params)\n",
    "        onlyfiles = [f for f in listdir(model_name + str(i)) if isfile(join(model_name + str(i), f))]\n",
    "        model.load_state_dict(torch.load(model_name + str(i) +\"/\"+ onlyfiles[-1]))\n",
    "        trainset, valset, testset = dataset.train[i], dataset.val[i], dataset.test[i]\n",
    "#         train_loader = DataLoader(trainset, batch_size=20, shuffle=True, drop_last=drop_last, collate_fn=dataset.collate)\n",
    "#         val_loader = DataLoader(valset, batch_size=20, shuffle=False, drop_last=drop_last, collate_fn=dataset.collate)\n",
    "        test_loader = DataLoader(testset, batch_size=1, shuffle=False, drop_last=drop_last, collate_fn=dataset.collate)\n",
    "        epoch_val_loss, epoch_val_acc = evaluate_network(model, device, test_loader, 999)\n",
    "        accs.append(epoch_val_acc)\n",
    "    print(np.mean(accs),np.std(accs))\n",
    "#     print(accs)"
   ]
  },
  {
   "cell_type": "code",
   "execution_count": 9,
   "metadata": {},
   "outputs": [],
   "source": [
    "def test_model2(net_params, model_name, dataset, model_str):\n",
    "    accs = []\n",
    "    labs = []\n",
    "    for i in range(10):\n",
    "        model = gnn_model(model_str, net_params)\n",
    "        onlyfiles = [f for f in listdir(model_name + str(i)) if isfile(join(model_name + str(i), f))]\n",
    "        model.load_state_dict(torch.load(model_name + str(i) +\"/\"+ onlyfiles[-1]))\n",
    "        trainset, valset, testset = dataset.train[i], dataset.val[i], dataset.test[i]\n",
    "        test_loader = DataLoader(testset, batch_size=1, shuffle=False, drop_last=drop_last, collate_fn=dataset.collate)\n",
    "        epoch_val_loss, labels, score = evaluate_network2(model, device, test_loader, 999)\n",
    "        accs.extend(score)\n",
    "        labs.extend(labels)\n",
    "    return accs, labs"
   ]
  },
  {
   "cell_type": "code",
   "execution_count": 10,
   "metadata": {},
   "outputs": [],
   "source": [
    "def test_model3(net_params, model_name, dataset, model_str):\n",
    "    accs = []\n",
    "    labs = []\n",
    "    for i in range(10):\n",
    "        model = gnn_model(model_str, net_params)\n",
    "        onlyfiles = [f for f in listdir(model_name + str(i)) if isfile(join(model_name + str(i), f))]\n",
    "        model.load_state_dict(torch.load(model_name + str(i) +\"/\"+ onlyfiles[-1]))\n",
    "        trainset, valset, testset = dataset.train[i], dataset.val[i], dataset.test[i]\n",
    "        test_loader = DataLoader(testset, batch_size=1, shuffle=False, drop_last=drop_last, collate_fn=dataset.collate)\n",
    "        epoch_val_loss, labels, score = evaluate_network2(model, device, test_loader, 999)\n",
    "        accs.append(score)\n",
    "        labs.append(labels)\n",
    "    return accs, labs"
   ]
  },
  {
   "cell_type": "code",
   "execution_count": 11,
   "metadata": {},
   "outputs": [
    {
     "name": "stdout",
     "output_type": "stream",
     "text": [
      "0.8132537540432278 0.05522495626413697\n",
      "0.8231915258231048 0.04527051065838395\n",
      "0.7684542552963605 0.056117893347354154\n",
      "0.8083839406207826 0.03328353881112723\n"
     ]
    }
   ],
   "source": [
    "test_model(gin1_np, folder+gin1_file+\"/RUN_\", dataset1, model_str)\n",
    "test_model(gin2_np, folder+gin2_file+\"/RUN_\", dataset2, model_str)\n",
    "test_model(gin3_np, folder+gin3_file+\"/RUN_\", dataset3, model_str)\n",
    "test_model(gin4_np, folder+gin4_file+\"/RUN_\", dataset4, model_str)"
   ]
  },
  {
   "cell_type": "code",
   "execution_count": 12,
   "metadata": {},
   "outputs": [],
   "source": [
    "accs1, labels1 = test_model2(gin1_np, folder+gin1_file+\"/RUN_\", dataset1, model_str)\n",
    "accs2, labels2 = test_model2(gin2_np, folder+gin2_file+\"/RUN_\", dataset2, model_str)\n",
    "accs3, labels3 = test_model2(gin3_np, folder+gin3_file+\"/RUN_\", dataset3, model_str)\n",
    "accs4, labels4 = test_model2(gin4_np, folder+gin4_file+\"/RUN_\", dataset4, model_str)"
   ]
  },
  {
   "cell_type": "code",
   "execution_count": 13,
   "metadata": {},
   "outputs": [],
   "source": [
    "acclist1, lablist1 = test_model3(gin1_np, folder+gin1_file+\"/RUN_\", dataset1, model_str)\n",
    "acclist2, lablist2 = test_model3(gin2_np, folder+gin2_file+\"/RUN_\", dataset2, model_str)\n",
    "acclist3, lablist3 = test_model3(gin3_np, folder+gin3_file+\"/RUN_\", dataset3, model_str)\n",
    "acclist4, lablist4 = test_model3(gin4_np, folder+gin4_file+\"/RUN_\", dataset4, model_str)"
   ]
  },
  {
   "cell_type": "code",
   "execution_count": 14,
   "metadata": {},
   "outputs": [
    {
     "data": {
      "image/png": "[encoded data removed]",
      "text/plain": [
       "<Figure size 432x288 with 1 Axes>"
      ]
     },
     "metadata": {
      "needs_background": "light"
     },
     "output_type": "display_data"
    }
   ],
   "source": [
    "accuracies = [accs1, accs2, accs3, accs4]\n",
    "acclists = [acclist1, acclist2, acclist3, acclist4]\n",
    "\n",
    "labels = [\"Conventional\", \"Hydro/Arom prior\", \"Bonds prior\", \"Protein prior\"]\n",
    "for idx, ac in enumerate(accuracies):\n",
    "    fpr, tpr, threshold = metrics.roc_curve(labels1, sigmoid(np.array(ac))[:,1])\n",
    "    roc_auc = metrics.roc_auc_score(labels1, sigmoid(np.array(ac))[:,1])\n",
    "    plt.title('Receiver Operating Characteristic - GatedGCN CMR')\n",
    "    plt.plot(fpr, tpr, label = labels[idx]+' / AUC = %0.2f' % roc_auc)\n",
    "    plt.legend(loc = 'lower right')\n",
    "    \n",
    "plt.plot([0, 1], [0, 1],'r--')\n",
    "plt.xlim([0, 1])\n",
    "plt.ylim([0, 1])\n",
    "plt.ylabel('True Positive Rate')\n",
    "plt.xlabel('False Positive Rate')\n",
    "plt.show()"
   ]
  },
  {
   "cell_type": "code",
   "execution_count": 15,
   "metadata": {},
   "outputs": [
    {
     "name": "stdout",
     "output_type": "stream",
     "text": [
      "0.8321 0.7339\n",
      "0.8424 0.7487\n",
      "0.7954 0.6601\n",
      "0.8534 0.7083\n"
     ]
    }
   ],
   "source": [
    "for acc in acclists:\n",
    "    rec = []\n",
    "    pre = []\n",
    "    for idx, acc_fold in enumerate(acc):\n",
    "        rec.append(sklearn.metrics.recall_score(lablist1[idx], np.argmax(acc_fold, axis=1)))\n",
    "        pre.append(sklearn.metrics.precision_score(lablist1[idx], np.argmax(acc_fold, axis=1)))\n",
    "#     print(rec)\n",
    "    print(\"%.4f %.4f\" % (np.mean(pre), np.mean(rec)))\n",
    "#     print(\"%.4f\" % np.mean(pre), np.std(pre))"
   ]
  },
  {
   "cell_type": "code",
   "execution_count": 16,
   "metadata": {},
   "outputs": [
    {
     "name": "stdout",
     "output_type": "stream",
     "text": [
      "Counter({1: 77, 2: 55, 4: 52, 3: 26})\n",
      "210\n"
     ]
    }
   ],
   "source": [
    "from collections import Counter\n",
    "idx_wrong = []\n",
    "idx_wrong2 = []\n",
    "for acc in accuracies:\n",
    "    idx_wrong.append(([i for i,x in enumerate(labels1 == np.argmax(acc,axis=1)) if x == False]))\n",
    "    idx_wrong2.extend(([i for i,x in enumerate(labels1 == np.argmax(acc,axis=1)) if x == False]))\n",
    "    \n",
    "idx_allwrong  = sorted(list(set(idx_wrong[0])&set(idx_wrong[1])&set(idx_wrong[2])&set(idx_wrong[3])))\n",
    "print(Counter(Counter(idx_wrong2).values()))\n",
    "print(len(Counter(idx_wrong2)))"
   ]
  },
  {
   "cell_type": "code",
   "execution_count": 17,
   "metadata": {},
   "outputs": [],
   "source": [
    "test = [10,14,31,40,67,69,86,87,90,110,133,138,142,160,170,192,197,199,210,214,233,237,238,249,251,254,261,270,271,280,286,296,304,310,313,317,326,328,343,348,353,355,365,375,379,395,429,434,463,466,473,481,493,504,518,524,533,537,546,561,589,613,624,627,631,632,635,\n",
    "2,19,25,30,44,55,63,65,71,130,132,145,154,156,172,174,181,203,206,212,213,218,231,252,256,257,260,274,276,289,293,301,302,316,327,334,344,347,361,372,381,385,389,403,408,410,436,444,447,482,500,516,519,520,551,569,576,593,612,616,622,628,640,641,643,\n",
    "6,13,17,26,37,39,49,72,76,78,81,101,103,118,135,141,147,148,155,164,168,176,177,205,209,255,269,278,287,288,290,295,331,337,346,349,350,364,380,384,387,397,411,419,423,428,446,508,510,517,521,536,542,543,552,554,568,583,588,602,604,608,626,639,648,\n",
    "8,24,27,41,48,56,60,70,77,82,96,97,106,109,120,161,171,173,186,187,200,222,243,244,258,262,264,277,281,307,330,352,374,382,390,412,416,424,426,438,439,451,453,464,465,469,479,494,495,498,503,515,526,532,545,548,549,556,557,563,581,595,606,638,647,\n",
    "16,20,29,35,36,58,74,111,112,122,131,150,163,165,166,196,207,211,225,229,232,234,241,245,246,250,265,294,308,338,339,340,357,360,363,367,368,393,394,396,400,414,415,417,418,443,448,452,454,467,474,480,490,539,558,559,572,575,582,587,591,592,633,634,646,\n",
    "7,11,34,42,43,45,64,66,73,80,94,104,114,129,134,140,158,162,183,201,202,219,228,235,239,240,253,273,282,297,300,309,345,354,383,386,388,391,398,407,425,435,450,456,468,470,475,489,491,496,505,513,562,570,571,585,597,598,600,605,610,621,623,637,644,\n",
    "1,3,9,23,32,38,79,83,84,99,127,137,151,159,175,180,193,198,208,215,216,221,224,227,236,259,268,275,283,299,306,312,315,322,336,341,356,366,378,402,404,413,421,430,441,449,455,457,477,492,499,502,509,511,525,529,553,555,560,565,573,603,620,625,629,\n",
    "15,21,28,33,47,68,75,85,88,92,95,117,125,153,178,184,188,190,191,194,204,220,226,242,247,248,266,279,285,298,303,311,318,332,333,335,369,371,399,406,409,427,433,442,471,478,483,484,486,487,497,501,507,527,531,538,550,567,578,594,596,607,609,611,650,\n",
    "0,12,18,22,51,61,89,91,105,113,116,119,121,123,126,128,136,139,143,144,146,157,182,217,230,263,267,272,284,305,314,320,323,324,351,359,362,376,405,432,437,461,472,476,488,512,514,522,530,534,535,540,544,566,574,577,580,586,590,599,617,618,636,642,645,\n",
    "4,5,46,50,52,53,54,57,59,62,93,98,100,102,107,108,115,124,149,152,167,169,179,185,189,195,223,291,292,319,321,325,329,342,358,370,373,377,392,401,420,422,431,440,445,458,459,460,462,485,506,523,528,541,547,564,579,584,601,614,615,619,630,649,651]\n"
   ]
  },
  {
   "cell_type": "code",
   "execution_count": 18,
   "metadata": {},
   "outputs": [
    {
     "name": "stdout",
     "output_type": "stream",
     "text": [
      "[1 1 1 1 0 0 1 1 1 0 1 1 1 1 0 0 1 1 1 1 1 0 0 1 1 1 1 1 1 0 1 1 1 1 0 0 1\n",
      " 1 1 1 0 1 1 1 1 1 1 1 0 0 1 1]\n",
      "[42, 28, 18, 9, 32, 40, 6, 5, 37, 15, 45, 20, 17, 10, 24, 50, 36, 4, 19, 12, 11, 43, 44, 27, 30, 39, 46, 13, 14, 38, 2, 25, 7, 26, 16, 1, 47, 35, 41, 0, 31, 34, 8, 51, 23, 33, 3, 21, 48, 49, 22, 29]\n",
      "[365 271 210 110 304]\n",
      "[237 463 466 238 280]\n",
      "[0 0 1 1 0]\n",
      "[1 0 0 1 0]\n"
     ]
    }
   ],
   "source": [
    "check_list = idx_allwrong\n",
    "print(np.array(labels1)[check_list])\n",
    "# print(np.argmax(sigmoid(np.array(accs1)),axis=1)[check_list])\n",
    "# print(np.argmax(sigmoid(np.array(accs2)),axis=1)[check_list])\n",
    "# print(np.argmax(sigmoid(np.array(accs3)),axis=1)[check_list])\n",
    "# print(np.argmax(sigmoid(np.array(accs4)),axis=1)[check_list])\n",
    "a = (np.diff(sigmoid(np.array(accs1))[check_list]))\n",
    "b = (np.diff(sigmoid(np.array(accs2))[check_list]))\n",
    "c = (np.diff(sigmoid(np.array(accs3))[check_list]))\n",
    "d = (np.diff(sigmoid(np.array(accs4))[check_list]))\n",
    "e = np.abs(a)+np.abs(b)+np.abs(c)+np.abs(d)\n",
    "print([i[0] for i in sorted(enumerate(e), key=lambda x:x[1])])\n",
    "print(np.array(test)[[42,28,18,9,32]])\n",
    "print(np.array(test)[[21,48,49,22,29]])\n",
    "print(np.array(labels1)[[42,28,18,9,32]])\n",
    "print(np.array(labels1)[[21,48,49,22,29]])"
   ]
  },
  {
   "cell_type": "code",
   "execution_count": 26,
   "metadata": {},
   "outputs": [
    {
     "name": "stdout",
     "output_type": "stream",
     "text": [
      "[[340  41]\n",
      " [ 72 199]]\n",
      "[[334  47]\n",
      " [ 92 179]]\n",
      "[[342  39]\n",
      " [ 68 203]]\n",
      "[[346  35]\n",
      " [ 79 192]]\n"
     ]
    }
   ],
   "source": [
    "accuracies = [accs1, accs3, accs2, accs4]\n",
    "for acc in accuracies:\n",
    "    print(confusion_matrix(labels1, np.argmax(acc, axis=1)))"
   ]
  },
  {
   "cell_type": "code",
   "execution_count": 20,
   "metadata": {},
   "outputs": [
    {
     "name": "stdout",
     "output_type": "stream",
     "text": [
      "81.33+/-5.52\n",
      "83.38+/-4.28\n",
      "79.45+/-5.67\n",
      "83.41+/-3.84\n",
      "81.61+/-5.02\n",
      "81.61+/-5.02\n",
      "84.09+/-4.71\n"
     ]
    }
   ],
   "source": [
    "accs = []\n",
    "for idx1, acc1 in enumerate(acclists):\n",
    "    acc_temp = []\n",
    "    for idx, acc_fold in enumerate(acc1):\n",
    "        acc_samen = (sigmoid(np.array(acclists[0][idx]))+sigmoid(np.array(acclists[idx1][idx])))/2\n",
    "        acc_temp.append(balanced_accuracy_score(lablist1[idx], np.argmax(acc_samen, axis=1).tolist()))\n",
    "    accs.append([idx1, np.mean(acc_temp), np.std(acc_temp)])\n",
    "        \n",
    "df = pd.DataFrame(accs)\n",
    "for a in list(df.values):\n",
    "    print(\"%.2f+/-%.2f\" % (100*a[1],100*a[2]))\n",
    "rep123=[]\n",
    "rep124=[]\n",
    "rep1234=[]\n",
    "for idx in range(10):\n",
    "    acc_samen = (sigmoid(np.array(acclist1[idx]))+sigmoid(np.array(acclist2[idx]))+sigmoid(np.array(acclist3[idx])))/3\n",
    "    rep123.append(balanced_accuracy_score(lablist1[idx], np.argmax(acc_samen, axis=1).tolist()))\n",
    "    acc_samen = (sigmoid(np.array(acclist1[idx]))+sigmoid(np.array(acclist2[idx]))+sigmoid(np.array(acclist3[idx])))/3\n",
    "    rep124.append(balanced_accuracy_score(lablist1[idx], np.argmax(acc_samen, axis=1).tolist()))\n",
    "    acc_samen = (sigmoid(np.array(acclist1[idx]))+sigmoid(np.array(acclist2[idx]))+sigmoid(np.array(acclist3[idx]))+sigmoid(np.array(acclist4[idx])))/4\n",
    "    rep1234.append(balanced_accuracy_score(lablist1[idx], np.argmax(acc_samen, axis=1).tolist()))\n",
    "print(\"%.2f+/-%.2f\" % (100*np.mean(rep123), 100*np.std(rep123)))\n",
    "print(\"%.2f+/-%.2f\" % (100*np.mean(rep124), 100*np.std(rep124)))\n",
    "print(\"%.2f+/-%.2f\" % (100*np.mean(rep1234), 100*np.std(rep1234)))"
   ]
  },
  {
   "cell_type": "code",
   "execution_count": 21,
   "metadata": {},
   "outputs": [],
   "source": [
    "GIN4 = [[[-5.803879737854004, -1.6726908683776855], [-1.5609371662139893, 2.3732528686523438], [5.581849575042725, 9.669282913208008], [7.916370391845703, 2.701362133026123], [-1.232407569885254, 16.939979553222656], [-0.5121092200279236, 9.928282737731934], [10.142145156860352, 5.326882839202881], [-38.52959060668945, -30.803388595581055], [5.287691593170166, 5.113245964050293], [1.0373039245605469, 4.196743965148926], [8.273502349853516, 13.36659049987793], [-11.752012252807617, 1.6577215194702148], [5.461765289306641, 5.440145492553711], [-14.686874389648438, 0.7376935482025146], [17.602184295654297, 6.132725715637207], [5.391784191131592, 8.97566032409668], [4.2256622314453125, 2.648202419281006], [-7.697665214538574, 0.35849666595458984], [15.43150520324707, 20.009029388427734], [-2.9849636554718018, -2.125197172164917], [-0.9951220750808716, 3.715883731842041], [2.225735902786255, 3.162278413772583], [7.236000061035156, 3.0891318321228027], [-4.112631320953369, 3.0282626152038574], [-27.62602424621582, -15.241052627563477], [-9.80534553527832, -6.47105598449707], [0.12101221084594727, 16.026784896850586], [-3.920997142791748, 5.184813976287842], [4.792167663574219, 0.4736514091491699], [4.889283180236816, 2.9535460472106934], [3.2834525108337402, -1.8216743469238281], [6.159967422485352, 2.7734944820404053], [1.4139630794525146, -2.975130319595337], [13.413267135620117, -0.8753013610839844], [24.243818283081055, 6.374324798583984], [12.104772567749023, 1.1499419212341309], [1.4883750677108765, 2.318025588989258], [11.098359107971191, 1.3082842826843262], [18.477392196655273, 10.687274932861328], [10.834959983825684, -1.5129146575927734], [5.102145671844482, 6.574731826782227], [4.309023857116699, 5.784012794494629], [11.019182205200195, 8.379535675048828], [4.683047771453857, 3.753847360610962], [9.937612533569336, 4.9381608963012695], [12.540018081665039, 8.847006797790527], [13.016952514648438, 8.416878700256348], [6.14853572845459, 1.3859257698059082], [19.343063354492188, 6.39386510848999], [4.530955791473389, -2.366832971572876], [13.366998672485352, 11.44906997680664], [9.325113296508789, 3.207878589630127], [21.920982360839844, 3.800464630126953], [13.213685989379883, 2.566807746887207], [7.98245096206665, 4.25685977935791], [7.811574935913086, 8.207649230957031], [3.2788467407226562, 4.256706237792969], [1.6090772151947021, 5.284390926361084], [17.19121551513672, 11.184965133666992], [18.955581665039062, 11.801423072814941], [-0.12453269958496094, 4.822411060333252], [10.556665420532227, 5.703513145446777], [12.708070755004883, 11.120854377746582], [-9.546323776245117, -2.8496570587158203], [-0.23105239868164062, -3.508749485015869], [-2.507711410522461, 0.008031845092773438], [2.11299467086792, 2.0915369987487793]], [[4.0050249099731445, 4.632608413696289], [-1.9151756763458252, 1.9542094469070435], [-4.840612888336182, -4.0369367599487305], [-0.7822088003158569, 2.759357213973999], [16.4130916595459, 15.876753807067871], [-0.848921537399292, 0.2868332862854004], [4.565473556518555, 17.81511878967285], [8.625248908996582, 10.790714263916016], [7.272112846374512, 2.0914154052734375], [-3.2945704460144043, 3.6516590118408203], [-0.8212788105010986, 5.187650203704834], [6.902409553527832, 9.339685440063477], [4.01770544052124, 6.047615051269531], [-2.2805275917053223, -8.99512004852295], [14.468772888183594, 15.301826477050781], [-6.838240623474121, -10.014810562133789], [-1.1172666549682617, -7.4364190101623535], [6.574075698852539, 8.00615119934082], [10.197092056274414, 12.90146255493164], [7.620992660522461, -0.5264937877655029], [3.472717761993408, 9.366131782531738], [-9.846258163452148, -5.04818868637085], [-4.5698981285095215, 2.2511608600616455], [-4.67675256729126, -0.9823141098022461], [11.933055877685547, 14.155166625976562], [10.686028480529785, 17.384525299072266], [4.428954601287842, 8.510098457336426], [-1.3841360807418823, -10.627110481262207], [1.0195329189300537, -5.784512519836426], [5.321297645568848, 1.6714959144592285], [5.104895114898682, 3.3371353149414062], [-2.5205931663513184, -2.5266194343566895], [-6.384067058563232, -12.043391227722168], [10.807084083557129, 9.52933406829834], [5.500054359436035, 2.521871328353882], [8.772363662719727, 2.794006109237671], [-3.234656572341919, -19.64141082763672], [6.562795639038086, 2.200671434402466], [-3.0774412155151367, -7.407161235809326], [7.3486714363098145, 0.21595579385757446], [9.566522598266602, 7.077238082885742], [9.190045356750488, 2.9119181632995605], [11.535806655883789, 9.108840942382812], [7.126340866088867, -5.280395984649658], [1.8517634868621826, -2.0993714332580566], [2.9375319480895996, 0.46347135305404663], [8.939057350158691, 2.5119054317474365], [10.464151382446289, 8.831668853759766], [7.6040778160095215, 3.9267702102661133], [16.307281494140625, 14.388509750366211], [8.760237693786621, -3.3090128898620605], [13.67667293548584, 5.105837345123291], [7.227912425994873, 1.4730037450790405], [-1.6400878429412842, -4.75145149230957], [5.641801357269287, -6.962594985961914], [10.810519218444824, -7.483107089996338], [6.461848258972168, 0.594562292098999], [17.328506469726562, 7.459010124206543], [9.268343925476074, 6.605855941772461], [6.3274126052856445, 0.7670267820358276], [9.415295600891113, 4.926115036010742], [12.786589622497559, 12.12979507446289], [-0.18891000747680664, -3.112035036087036], [0.27389466762542725, -4.371437072753906], [4.260951995849609, 1.392910122871399]], [[3.7046122550964355, -1.4548873901367188], [-8.371566772460938, -4.727372169494629], [8.889274597167969, 10.22667121887207], [6.44482946395874, 11.672222137451172], [0.39006853103637695, 7.208929061889648], [7.7033820152282715, 0.21637964248657227], [11.070405006408691, 8.096515655517578], [10.528119087219238, 21.135265350341797], [8.01965045928955, 8.564340591430664], [11.424964904785156, 13.719141006469727], [19.15085220336914, 26.08774757385254], [29.837987899780273, 48.039512634277344], [7.992193698883057, 10.302363395690918], [1.1945323944091797, -9.468782424926758], [0.5469635725021362, 10.44724178314209], [0.8383908271789551, 4.163134574890137], [-10.804713249206543, -6.467907905578613], [-31.956512451171875, -35.873130798339844], [1.4647727012634277, -1.249189853668213], [0.9183943271636963, -1.8521969318389893], [-3.000004529953003, -1.649467945098877], [4.176957607269287, 5.655953407287598], [11.565652847290039, 14.053651809692383], [5.859821319580078, 6.929439067840576], [-10.96992301940918, -9.48286247253418], [19.561351776123047, 29.3663330078125], [-12.329065322875977, -12.870428085327148], [-0.6751423478126526, 0.21698033809661865], [4.767760753631592, 1.1154861450195312], [9.614361763000488, 6.510769844055176], [1.9691038131713867, 1.4937362670898438], [16.75723648071289, 16.24834442138672], [-2.133434772491455, -8.711918830871582], [-0.9125194549560547, -3.465456485748291], [5.553210258483887, -1.6659374237060547], [-2.3194777965545654, -9.118896484375], [-5.119637489318848, -6.884317874908447], [0.12405276298522949, -4.304574012756348], [-3.8007898330688477, -2.23622989654541], [7.0977678298950195, -3.0079078674316406], [0.9566717147827148, -4.657501220703125], [4.50438117980957, -7.540085792541504], [-2.7666237354278564, -2.988593339920044], [24.83734130859375, 24.6512393951416], [9.52879524230957, 1.8975379467010498], [10.246044158935547, -2.0319390296936035], [3.1187615394592285, -8.253573417663574], [-0.6950192451477051, -7.224081993103027], [1.121178388595581, -2.011880874633789], [13.321399688720703, 2.3566112518310547], [16.028648376464844, 10.610822677612305], [-0.03064104914665222, -1.6250004768371582], [13.78200626373291, 11.61431884765625], [1.7107185125350952, -2.949627161026001], [14.75146484375, 9.547128677368164], [2.180588960647583, -1.8740355968475342], [-0.4966259002685547, -6.071577072143555], [1.0966980457305908, -3.7820181846618652], [4.498235702514648, 0.5054631233215332], [5.457972526550293, 11.402570724487305], [-4.98295259475708, -18.647558212280273], [8.193341255187988, 5.562333106994629], [10.037163734436035, 6.324047088623047], [-1.5887451171875, -5.528685092926025], [0.9708764553070068, -5.152072906494141]], [[0.12476682662963867, 3.987302780151367], [-1.2320034503936768, -1.3560523986816406], [-3.0579094886779785, 1.6237082481384277], [0.25540536642074585, 2.0765445232391357], [4.169800281524658, 2.393787145614624], [-1.418839693069458, 1.8187944889068604], [2.822014808654785, -6.93585729598999], [-4.924172401428223, 14.02468490600586], [-2.4004945755004883, -12.531946182250977], [-3.2848286628723145, -5.229211807250977], [2.07666015625, 4.584834098815918], [2.4417152404785156, 4.93626070022583], [3.117788314819336, 13.08890151977539], [-0.3789021968841553, 3.1186981201171875], [2.415212631225586, 5.882052898406982], [1.7969012260437012, 7.840216636657715], [-16.09476089477539, -23.187013626098633], [-4.2015180587768555, -14.925201416015625], [-5.440480709075928, -7.994514465332031], [2.511796712875366, 2.6252400875091553], [-4.873278617858887, -5.980227470397949], [7.848077774047852, 1.2404956817626953], [5.608063697814941, 5.65595006942749], [4.62877082824707, 5.680142879486084], [-1.43522310256958, 1.3925745487213135], [-1.215010643005371, 1.135225534439087], [8.35201358795166, 18.80192756652832], [19.47833251953125, 14.539094924926758], [4.422651290893555, -0.7169070243835449], [-1.6138222217559814, -0.9617557525634766], [-12.720840454101562, -16.751394271850586], [2.379160165786743, -4.033679962158203], [-3.5133590698242188, -9.253721237182617], [16.604530334472656, 7.853271484375], [2.494595527648926, 0.11294364929199219], [-8.933664321899414, -18.6739501953125], [-0.18441367149353027, -9.3645601272583], [5.769430637359619, -1.7333145141601562], [-0.9967865943908691, -6.693718910217285], [6.810856819152832, -5.024965286254883], [2.510416030883789, -2.1524038314819336], [1.3962016105651855, -2.739673614501953], [3.2821156978607178, -0.26291322708129883], [-23.5364990234375, -3.8562674522399902], [-1.194852352142334, -6.5066938400268555], [3.47550630569458, 0.3360252380371094], [8.868900299072266, 7.271613597869873], [0.5513513088226318, -2.4176440238952637], [1.2352092266082764, -4.479714870452881], [-0.510789155960083, -4.507855415344238], [4.576120376586914, 2.364762783050537], [-6.850255012512207, -17.52235221862793], [4.269963264465332, 2.5687849521636963], [-7.611915111541748, -3.8747663497924805], [0.3141286373138428, -3.073258876800537], [-0.8014334440231323, -6.158901691436768], [-4.0314040184021, -8.503334045410156], [-8.704923629760742, -25.707107543945312], [2.9753527641296387, -20.827110290527344], [3.427302837371826, -0.19513750076293945], [0.852240800857544, -3.6190478801727295], [-2.071080207824707, -10.077600479125977], [-3.112222671508789, -13.564201354980469], [-7.122634410858154, -6.262821674346924], [1.4626502990722656, -3.624117374420166]], [[-32.52994918823242, -19.48978042602539], [-2.884098768234253, -1.4290653467178345], [-11.997915267944336, -0.32477617263793945], [-1.319819450378418, 2.2669970989227295], [2.6891331672668457, 5.326806545257568], [-1.0958654880523682, 1.9976959228515625], [-3.6122350692749023, 6.215841293334961], [1.2577507495880127, -6.097266674041748], [1.036031723022461, 1.1247808933258057], [7.047616481781006, 10.779474258422852], [7.190679550170898, 12.40737533569336], [9.399654388427734, 19.022737503051758], [7.837085247039795, 10.864531517028809], [13.769954681396484, 2.6221096515655518], [0.5956693887710571, 5.076369285583496], [4.256431579589844, 3.605712890625], [2.2970056533813477, 10.944275856018066], [-10.16461181640625, -2.6806931495666504], [9.976686477661133, -0.7469782829284668], [2.782949447631836, -2.82985258102417], [7.972455978393555, 10.13109016418457], [6.859091758728027, 11.011008262634277], [13.367048263549805, 16.43761444091797], [14.385709762573242, 13.446687698364258], [13.652018547058105, 14.587517738342285], [4.855423450469971, -0.8562288284301758], [7.972455978393555, 10.13109016418457], [11.231252670288086, 7.297050952911377], [20.241527557373047, 15.145591735839844], [11.977418899536133, 11.12234878540039], [0.22667723894119263, -2.51552677154541], [-0.6749207973480225, -3.6545820236206055], [8.714611053466797, 1.8667879104614258], [11.252123832702637, 5.983689785003662], [3.487298011779785, -2.2452828884124756], [10.906373977661133, 4.33311128616333], [8.72068977355957, 3.02640438079834], [11.441888809204102, 6.139921188354492], [15.710517883300781, 8.97901725769043], [20.12788963317871, 15.538925170898438], [11.159727096557617, 5.138753890991211], [16.934690475463867, 7.3823652267456055], [1.702209234237671, 1.0651671886444092], [13.97002124786377, 3.494400978088379], [0.7645533084869385, -4.964409828186035], [20.83540916442871, 9.439493179321289], [10.137577056884766, 8.751888275146484], [10.78955364227295, 4.903738975524902], [2.9826910495758057, -2.0402028560638428], [10.325450897216797, 7.107534885406494], [12.293787002563477, 1.8480587005615234], [14.832225799560547, 3.8052167892456055], [14.109312057495117, 9.759126663208008], [13.568928718566895, 11.07399845123291], [3.4026856422424316, 7.524518013000488], [6.949446678161621, -0.8623867034912109], [10.768256187438965, 9.424245834350586], [13.501296997070312, 7.869121551513672], [9.471396446228027, 3.9323785305023193], [8.223939895629883, 5.113140106201172], [7.809406280517578, 1.014341115951538], [-4.756220817565918, -9.678584098815918], [21.856969833374023, 18.39434814453125], [39.31428909301758, 23.536697387695312], [8.483575820922852, -1.4493083953857422]], [[-0.4682447910308838, 4.569083213806152], [-8.908466339111328, -4.07661247253418], [10.195755004882812, 3.3603804111480713], [2.5847740173339844, 1.9455811977386475], [13.871072769165039, 19.660953521728516], [-1.200124740600586, 4.397158622741699], [4.617947101593018, 8.531152725219727], [-5.67943811416626, 0.45992016792297363], [-5.209430694580078, 2.389437675476074], [-9.234187126159668, -0.7842879295349121], [8.414007186889648, 11.087811470031738], [1.6788501739501953, 5.89376974105835], [10.334270477294922, 6.142816066741943], [10.236534118652344, 14.780942916870117], [7.760214805603027, 10.693413734436035], [1.4866653680801392, 3.816664695739746], [5.148759365081787, 1.311723232269287], [-4.296098709106445, 2.041506052017212], [-0.8479208946228027, 3.8987479209899902], [8.968781471252441, 11.16530990600586], [0.8672940731048584, 6.591784477233887], [6.977499961853027, -2.912497043609619], [3.8262200355529785, 1.964874505996704], [4.041744232177734, 5.796417236328125], [9.150856971740723, 4.550930023193359], [11.218375205993652, 13.337091445922852], [-4.65574312210083, 6.652287006378174], [-1.9056789875030518, -7.1858086585998535], [5.388028144836426, -0.3476591110229492], [4.71405029296875, 5.323253631591797], [1.404320240020752, -2.1256558895111084], [13.597198486328125, 3.5941648483276367], [16.696666717529297, 6.207634925842285], [9.693629264831543, 3.178168773651123], [-16.501380920410156, -16.026123046875], [4.568615436553955, 4.774477005004883], [10.243409156799316, -1.9070281982421875], [5.140030860900879, -0.8601243495941162], [2.6303892135620117, -1.5407447814941406], [13.548245429992676, 4.192296028137207], [13.612894058227539, 8.135159492492676], [17.26074981689453, 5.29204797744751], [13.81102466583252, 1.2641620635986328], [3.5345733165740967, -2.6378824710845947], [11.77498722076416, 2.748879909515381], [16.265771865844727, 4.549389839172363], [23.084430694580078, 6.871651649475098], [7.217728614807129, -0.619969367980957], [13.516801834106445, 3.9999659061431885], [13.290740966796875, 2.0023229122161865], [5.157682418823242, 6.545960426330566], [-8.491514205932617, -5.141266822814941], [9.456732749938965, 1.1156153678894043], [2.142191171646118, 8.81736946105957], [5.651255130767822, 1.0655574798583984], [5.6727776527404785, -1.4939014911651611], [10.428971290588379, -6.894796371459961], [12.304637908935547, 7.184228897094727], [0.4710996150970459, 2.6582727432250977], [7.20318078994751, -6.747925281524658], [3.156902313232422, -3.5594606399536133], [5.12138557434082, 0.48768556118011475], [8.693750381469727, -1.7157480716705322], [17.68581199645996, 7.048975944519043], [14.744047164916992, 6.086823463439941]], [[-5.367412567138672, -6.140183448791504], [8.435943603515625, -1.9676649570465088], [-22.95408821105957, -17.843252182006836], [-4.422535419464111, -10.262176513671875], [-4.002747535705566, 4.775722026824951], [3.9810354709625244, 5.819942474365234], [-3.8345119953155518, -3.659663200378418], [0.2373051643371582, 0.5722585916519165], [0.4312847852706909, 7.162135601043701], [-0.977757453918457, 0.9487472176551819], [-9.759725570678711, -1.838257074356079], [0.41423285007476807, 0.9632627367973328], [-5.897209167480469, 5.271353721618652], [-13.654014587402344, -5.565768241882324], [-8.862960815429688, -6.757707595825195], [-9.099249839782715, -12.72268009185791], [0.5543444156646729, -2.842576026916504], [1.593037486076355, 4.6644368171691895], [-30.6491756439209, -12.805314064025879], [5.06907844543457, 5.434694290161133], [-1.4688971042633057, 8.968729019165039], [-18.279808044433594, -11.717217445373535], [-20.18484878540039, -11.741591453552246], [-9.522933959960938, -12.1350679397583], [1.1882259845733643, 12.704559326171875], [-26.495332717895508, -15.457099914550781], [-8.735260009765625, -7.372673034667969], [-3.113426685333252, -7.109014987945557], [-11.66598892211914, -18.514284133911133], [-9.609071731567383, -13.153903007507324], [11.639488220214844, -6.17929220199585], [3.1094934940338135, 2.242708444595337], [5.542045593261719, -3.5330679416656494], [-1.1179168224334717, -3.0220484733581543], [9.003211975097656, -0.03132128715515137], [-6.945861339569092, -8.579767227172852], [6.320494651794434, 4.1922101974487305], [4.59764289855957, 1.75114905834198], [6.602854251861572, -6.484030723571777], [5.606855869293213, -6.403090476989746], [-1.5640506744384766, -3.1483652591705322], [-2.036421537399292, -9.845786094665527], [5.03740119934082, -0.8377656936645508], [6.974145889282227, 1.7199687957763672], [16.552204132080078, -1.1007094383239746], [-1.106743574142456, -11.865238189697266], [-1.579448938369751, -4.8679680824279785], [6.227072715759277, -0.9418907165527344], [5.896728515625, -0.8024337291717529], [7.474100112915039, -2.3943099975585938], [11.394135475158691, 5.719959259033203], [-0.6198240518569946, -2.7860679626464844], [7.139538764953613, -0.3734629154205322], [11.787698745727539, -8.425024032592773], [1.1982110738754272, -0.06525766849517822], [5.971566677093506, 4.076600551605225], [6.072636127471924, 9.715311050415039], [1.1838148832321167, -0.6224091053009033], [6.070655345916748, 1.3652794361114502], [10.924331665039062, -6.1015520095825195], [8.635690689086914, -11.734197616577148], [16.446365356445312, 6.341639041900635], [-0.20953774452209473, -3.0639872550964355], [-1.9669208526611328, -1.7411627769470215], [-4.457818031311035, -4.838990211486816]], [[-0.7345750331878662, 8.25242805480957], [6.116883754730225, 6.304062843322754], [-2.578712224960327, -2.3052256107330322], [-9.732234954833984, -15.543423652648926], [0.4925130605697632, 5.503093719482422], [-4.933197498321533, 4.750527858734131], [5.653937339782715, 11.380842208862305], [4.534811019897461, 6.221867561340332], [-5.7580413818359375, -0.5447661876678467], [5.221656322479248, 11.897001266479492], [4.822379112243652, 8.637012481689453], [-0.23296308517456055, -5.541375160217285], [-17.88640594482422, -10.120009422302246], [5.511040210723877, 9.934392929077148], [-30.86786651611328, -22.18463706970215], [1.1111247539520264, -2.6612279415130615], [-7.716108798980713, 0.29868078231811523], [-17.55908203125, -13.171737670898438], [7.180326461791992, -4.685399055480957], [6.29892635345459, 10.19445514678955], [0.22369098663330078, -22.661964416503906], [-17.52373695373535, -6.4918599128723145], [-12.660196304321289, -7.7005109786987305], [-16.940950393676758, -13.496330261230469], [15.585018157958984, 17.681079864501953], [-6.081569671630859, -0.4867260456085205], [-15.893672943115234, -11.848597526550293], [6.140727519989014, -5.716607093811035], [4.898553848266602, -12.553937911987305], [5.665004253387451, 4.456048011779785], [-4.315706729888916, -5.557085990905762], [0.9444870948791504, -4.018698215484619], [0.11842775344848633, -15.465838432312012], [-2.869479179382324, -6.919198036193848], [-7.781746864318848, -3.471921920776367], [8.603677749633789, -6.098008155822754], [-0.05395054817199707, -12.583128929138184], [2.2138266563415527, 0.8066668510437012], [11.603116989135742, 4.305689811706543], [0.8735799789428711, -9.437604904174805], [-0.4577946662902832, -4.749144077301025], [-2.684114456176758, -5.071982383728027], [3.411184549331665, -0.6854836940765381], [1.5115633010864258, -4.632408142089844], [-2.725146770477295, -1.943788766860962], [-8.105733871459961, -9.282807350158691], [8.220476150512695, 4.853996276855469], [8.155688285827637, -6.2725067138671875], [3.86167311668396, -2.846649646759033], [8.634683609008789, 5.496943473815918], [1.1418352127075195, -7.436675071716309], [9.60739517211914, 0.5081114768981934], [10.076444625854492, 6.842662811279297], [2.132361650466919, -0.5108175277709961], [7.303550720214844, -4.838725566864014], [-11.555519104003906, -21.819469451904297], [2.293837308883667, -4.7869086265563965], [1.8258192539215088, -1.056905746459961], [-3.7830095291137695, 0.6888942718505859], [2.3005168437957764, -2.6493000984191895], [-20.004072189331055, -23.195892333984375], [-8.53573989868164, -10.263838768005371], [9.831432342529297, 2.1602783203125], [-9.186779022216797, -7.117365837097168], [0.9652688503265381, 0.008919239044189453]], [[16.503170013427734, 6.494227409362793], [0.7013660669326782, 2.4985883235931396], [3.3249385356903076, 7.794384002685547], [25.897258758544922, 28.514373779296875], [12.453604698181152, 15.376213073730469], [14.069639205932617, 16.41961669921875], [30.83481788635254, 39.4190673828125], [3.1189727783203125, 7.428923606872559], [7.907796382904053, 11.705564498901367], [13.067192077636719, 14.113555908203125], [-4.251361846923828, 4.5845842361450195], [1.7882390022277832, 8.640206336975098], [6.269038677215576, 2.8238000869750977], [5.076079368591309, 4.124772548675537], [7.664804935455322, 3.720153570175171], [12.571317672729492, 16.129188537597656], [17.784381866455078, 30.970890045166016], [14.793859481811523, 17.791580200195312], [11.374853134155273, 14.463716506958008], [8.560959815979004, 11.725831985473633], [8.405118942260742, 14.256900787353516], [18.273056030273438, 29.051692962646484], [-21.815109252929688, -12.315942764282227], [15.23575210571289, 5.935410499572754], [-3.0953869819641113, 4.386075019836426], [9.461811065673828, 17.323352813720703], [1.0058817863464355, 2.236433506011963], [4.078357696533203, -2.46414852142334], [14.671457290649414, 10.353784561157227], [2.5943355560302734, 1.526930809020996], [6.796889305114746, 3.6765599250793457], [9.746496200561523, 5.41725492477417], [10.532790184020996, 1.102187156677246], [5.952652931213379, -1.7220940589904785], [15.098089218139648, 11.539751052856445], [10.182445526123047, 5.89896297454834], [1.2597298622131348, 0.8594002723693848], [19.325153350830078, 17.7684383392334], [13.19165325164795, 12.481204986572266], [14.323866844177246, 7.163241386413574], [2.8151681423187256, 0.3348226547241211], [12.883472442626953, 14.383829116821289], [13.527097702026367, 6.616080284118652], [8.640860557556152, 0.6696505546569824], [6.066645622253418, 2.6831307411193848], [6.149345397949219, 2.4311399459838867], [25.172855377197266, 24.344745635986328], [5.677567005157471, -2.5724992752075195], [10.355705261230469, 6.617128372192383], [4.932202339172363, 1.119875431060791], [-0.18073320388793945, 0.40129733085632324], [4.911874771118164, -1.719935417175293], [19.344423294067383, 16.420303344726562], [5.160353660583496, 0.7155499458312988], [3.583866596221924, 3.1662216186523438], [2.469391345977783, -5.7515974044799805], [22.79559326171875, 16.178688049316406], [-0.8014259338378906, 0.29836344718933105], [12.786901473999023, 11.242996215820312], [2.9108285903930664, -4.664878845214844], [5.589635848999023, 5.541492462158203], [10.702533721923828, 3.9683642387390137], [14.606077194213867, 8.272686958312988], [3.6202971935272217, 2.6826276779174805], [3.822112560272217, 7.473715782165527]], [[5.794013500213623, 4.775172233581543], [1.2106175422668457, 1.853349208831787], [12.185941696166992, 13.567026138305664], [9.113445281982422, 12.501165390014648], [11.134300231933594, 5.451646327972412], [-0.3478875160217285, 0.5113153457641602], [15.830819129943848, 11.093067169189453], [-1.6560053825378418, 3.327423095703125], [5.608107566833496, 8.001178741455078], [15.534139633178711, 17.135271072387695], [-0.5504965782165527, 2.3129515647888184], [4.632874488830566, 7.184323310852051], [-3.554643154144287, -3.011593818664551], [8.175064086914062, 7.768862724304199], [-7.91793966293335, -4.128159523010254], [-1.5827641487121582, 6.278066158294678], [-2.642364263534546, -1.0134963989257812], [6.982246398925781, 2.1651999950408936], [-5.205268859863281, -2.020012855529785], [7.502960205078125, 9.643198013305664], [-1.1895263195037842, -5.14823579788208], [28.4468994140625, 11.638187408447266], [-1.1895263195037842, -5.14823579788208], [14.00645637512207, 19.5866756439209], [17.459678649902344, 23.354084014892578], [-2.3848538398742676, -4.767215251922607], [-22.221586227416992, -17.137815475463867], [7.912702560424805, 5.467266082763672], [7.276766300201416, 5.189850330352783], [9.206507682800293, -2.3304381370544434], [2.3897931575775146, -0.7193193435668945], [-1.7412981986999512, -5.960541725158691], [4.0984601974487305, -0.8845853805541992], [1.9245896339416504, -3.0003976821899414], [8.044988632202148, 3.421679973602295], [0.2476189136505127, -11.921815872192383], [1.7443526983261108, 5.530450820922852], [5.970602989196777, 1.283179759979248], [2.5006630420684814, 1.0822525024414062], [5.417598724365234, 0.9247221946716309], [1.2462701797485352, -1.1752829551696777], [1.194298267364502, -1.1032204627990723], [-39.76105499267578, -66.37743377685547], [9.232662200927734, 3.1754276752471924], [1.2825500965118408, -0.5467510223388672], [7.381279945373535, -2.2724199295043945], [8.204933166503906, -1.3027877807617188], [5.063858985900879, 0.931157112121582], [2.7965357303619385, -2.832111358642578], [4.633661270141602, -8.80897045135498], [5.700529098510742, 4.230929374694824], [8.676933288574219, 2.2682719230651855], [9.221281051635742, 1.1412320137023926], [4.739266395568848, 0.8347196578979492], [4.3416748046875, -0.8761920928955078], [11.5658540725708, 13.57125186920166], [2.649843215942383, -1.081573486328125], [-1.0725789070129395, -2.364025115966797], [11.863974571228027, 3.12440824508667], [8.108470916748047, 3.048210859298706], [7.50714111328125, 1.265298843383789], [10.634642601013184, -2.0149741172790527], [6.433740615844727, 1.1931285858154297], [7.604587554931641, 3.8817901611328125], [-1.6545753479003906, -3.873894214630127]]]\n"
   ]
  },
  {
   "cell_type": "code",
   "execution_count": 22,
   "metadata": {},
   "outputs": [
    {
     "name": "stdout",
     "output_type": "stream",
     "text": [
      "[3, 0.8587969171018554, 0.7338624338624338, 0.8224305421673842]\n",
      "[3, 0.8591932157261197, 0.739484126984127, 0.8252413887282307]\n",
      "[3, 0.8464574407843305, 0.7142416225749559, 0.8095612071489263]\n",
      "[3, 0.8493632359668128, 0.7173941798941799, 0.8115901398796137]\n"
     ]
    }
   ],
   "source": [
    "accs = []\n",
    "bac = []\n",
    "rec = []\n",
    "pre = []\n",
    "for i in acclists:\n",
    "    for idx, acc_fold in enumerate(GIN4):\n",
    "        acc_samen = (sigmoid(np.array(GIN4[idx]))+sigmoid(np.array(i[idx])))/2\n",
    "        bac.append(sklearn.metrics.balanced_accuracy_score(lablist1[idx], np.argmax(acc_samen, axis=1).tolist()))\n",
    "        rec.append(sklearn.metrics.recall_score(lablist1[idx], np.argmax(acc_samen, axis=1).tolist()))\n",
    "        pre.append(sklearn.metrics.precision_score(lablist1[idx], np.argmax(acc_samen, axis=1).tolist()))\n",
    "    print([idx1, np.mean(pre), np.mean(rec), np.mean(bac)])\n",
    "    "
   ]
  },
  {
   "cell_type": "code",
   "execution_count": 23,
   "metadata": {},
   "outputs": [
    {
     "name": "stdout",
     "output_type": "stream",
     "text": [
      "107\n",
      "113\n",
      "41\n"
     ]
    }
   ],
   "source": [
    "wrong1 = ([i for i,x in enumerate(labels1 == np.argmax(accs2,axis=1)) if x == False])\n",
    "wrong2 = ([i for i,x in enumerate(labels1 == np.argmax(accs1,axis=1)) if x == False])\n",
    "print(len(wrong1))\n",
    "print(len(wrong2))\n",
    "notset1 = []\n",
    "notset2 = []\n",
    "for i in wrong2:\n",
    "    if i not in wrong1:\n",
    "        notset2.append(i)\n",
    "print(len(notset2))\n"
   ]
  },
  {
   "cell_type": "code",
   "execution_count": 24,
   "metadata": {},
   "outputs": [
    {
     "name": "stdout",
     "output_type": "stream",
     "text": [
      "[0.34986652 0.73583344] [0.5755499  0.48036531] 1\n",
      "27\n"
     ]
    },
    {
     "ename": "NameError",
     "evalue": "name 'notset' is not defined",
     "output_type": "error",
     "traceback": [
      "\u001b[0;31m---------------------------------------------------------------------------\u001b[0m",
      "\u001b[0;31mNameError\u001b[0m                                 Traceback (most recent call last)",
      "\u001b[0;32m<ipython-input-24-5dc4b8efe907>\u001b[0m in \u001b[0;36m<module>\u001b[0;34m\u001b[0m\n\u001b[1;32m      2\u001b[0m \u001b[0mprint\u001b[0m\u001b[0;34m(\u001b[0m\u001b[0mtest\u001b[0m\u001b[0;34m[\u001b[0m\u001b[0;36m199\u001b[0m\u001b[0;34m]\u001b[0m\u001b[0;34m)\u001b[0m\u001b[0;34m\u001b[0m\u001b[0;34m\u001b[0m\u001b[0m\n\u001b[1;32m      3\u001b[0m \u001b[0;34m\u001b[0m\u001b[0m\n\u001b[0;32m----> 4\u001b[0;31m \u001b[0mprint\u001b[0m\u001b[0;34m(\u001b[0m\u001b[0mnotset\u001b[0m\u001b[0;34m[\u001b[0m\u001b[0;36m9\u001b[0m\u001b[0;34m]\u001b[0m\u001b[0;34m)\u001b[0m\u001b[0;34m\u001b[0m\u001b[0;34m\u001b[0m\u001b[0m\n\u001b[0m\u001b[1;32m      5\u001b[0m \u001b[0msa1\u001b[0m \u001b[0;34m=\u001b[0m \u001b[0mlist\u001b[0m\u001b[0;34m(\u001b[0m\u001b[0mnp\u001b[0m\u001b[0;34m.\u001b[0m\u001b[0mabs\u001b[0m\u001b[0;34m(\u001b[0m\u001b[0mnp\u001b[0m\u001b[0;34m.\u001b[0m\u001b[0mdiff\u001b[0m\u001b[0;34m(\u001b[0m\u001b[0mnp\u001b[0m\u001b[0;34m.\u001b[0m\u001b[0marray\u001b[0m\u001b[0;34m(\u001b[0m\u001b[0msigmoid\u001b[0m\u001b[0;34m(\u001b[0m\u001b[0mnp\u001b[0m\u001b[0;34m.\u001b[0m\u001b[0marray\u001b[0m\u001b[0;34m(\u001b[0m\u001b[0maccs1\u001b[0m\u001b[0;34m)\u001b[0m\u001b[0;34m)\u001b[0m\u001b[0;34m)\u001b[0m\u001b[0;34m[\u001b[0m\u001b[0mnotset2\u001b[0m\u001b[0;34m]\u001b[0m\u001b[0;34m)\u001b[0m\u001b[0;34m)\u001b[0m\u001b[0;34m)\u001b[0m\u001b[0;34m\u001b[0m\u001b[0;34m\u001b[0m\u001b[0m\n\u001b[1;32m      6\u001b[0m \u001b[0msa2\u001b[0m \u001b[0;34m=\u001b[0m \u001b[0mlist\u001b[0m\u001b[0;34m(\u001b[0m\u001b[0mnp\u001b[0m\u001b[0;34m.\u001b[0m\u001b[0mabs\u001b[0m\u001b[0;34m(\u001b[0m\u001b[0mnp\u001b[0m\u001b[0;34m.\u001b[0m\u001b[0mdiff\u001b[0m\u001b[0;34m(\u001b[0m\u001b[0mnp\u001b[0m\u001b[0;34m.\u001b[0m\u001b[0marray\u001b[0m\u001b[0;34m(\u001b[0m\u001b[0msigmoid\u001b[0m\u001b[0;34m(\u001b[0m\u001b[0mnp\u001b[0m\u001b[0;34m.\u001b[0m\u001b[0marray\u001b[0m\u001b[0;34m(\u001b[0m\u001b[0maccs2\u001b[0m\u001b[0;34m)\u001b[0m\u001b[0;34m)\u001b[0m\u001b[0;34m)\u001b[0m\u001b[0;34m[\u001b[0m\u001b[0mnotset2\u001b[0m\u001b[0;34m]\u001b[0m\u001b[0;34m)\u001b[0m\u001b[0;34m)\u001b[0m\u001b[0;34m)\u001b[0m\u001b[0;34m\u001b[0m\u001b[0;34m\u001b[0m\u001b[0m\n",
      "\u001b[0;31mNameError\u001b[0m: name 'notset' is not defined"
     ]
    }
   ],
   "source": [
    "print(sigmoid(np.array(accs1))[199], sigmoid(np.array(accs2))[199], labels1[199])\n",
    "print(test[199])\n",
    "\n",
    "print(notset[9])\n",
    "sa1 = list(np.abs(np.diff(np.array(sigmoid(np.array(accs1)))[notset2])))\n",
    "sa2 = list(np.abs(np.diff(np.array(sigmoid(np.array(accs2)))[notset2])))\n",
    "for idx, _ in enumerate(sa1):\n",
    "    print(idx, sa1[idx]-sa2[idx])\n",
    "    "
   ]
  },
  {
   "cell_type": "code",
   "execution_count": 19,
   "metadata": {
    "scrolled": true
   },
   "outputs": [
    {
     "name": "stdout",
     "output_type": "stream",
     "text": [
      "83.2 73.4\n",
      "81.7 70.4\n",
      "85.0 76.7\n",
      "85.8 76.0\n",
      "85.1 72.6\n",
      "84.9 76.0\n",
      "86.2 77.1\n"
     ]
    }
   ],
   "source": [
    "acclists = [acclist1, acclist3, acclist2, acclist4]\n",
    "accs = []\n",
    "for idx1, acc1 in enumerate(acclists):\n",
    "    acc_temp = []\n",
    "    rec = []\n",
    "    pre = []\n",
    "    for idx, acc_fold in enumerate(acc1):\n",
    "        acc_samen = (sigmoid(np.array(acclists[0][idx]))+sigmoid(np.array(acclists[idx1][idx])))/2\n",
    "        rec.append(sklearn.metrics.recall_score(lablist1[idx], np.argmax(acc_samen, axis=1).tolist()))\n",
    "        pre.append(sklearn.metrics.precision_score(lablist1[idx], np.argmax(acc_samen, axis=1).tolist()))\n",
    "    accs.append([idx1, np.mean(pre), np.mean(rec)])\n",
    "        \n",
    "df = pd.DataFrame(accs)\n",
    "for a in list(df.values):\n",
    "    print(\"%.1f %.1f\" % (100*a[1],100*a[2]))\n",
    "rep123r=[]\n",
    "rep124r=[]\n",
    "rep1234r=[]\n",
    "rep123p=[]\n",
    "rep124p=[]\n",
    "rep1234p=[]\n",
    "for idx in range(10):\n",
    "    acc_samen = (sigmoid(np.array(acclist1[idx]))+sigmoid(np.array(acclist3[idx]))+sigmoid(np.array(acclist2[idx])))/3\n",
    "    rep123r.append(sklearn.metrics.recall_score(lablist1[idx], np.argmax(acc_samen, axis=1).tolist()))\n",
    "    rep123p.append(sklearn.metrics.precision_score(lablist1[idx], np.argmax(acc_samen, axis=1).tolist()))\n",
    "    acc_samen = (sigmoid(np.array(acclist1[idx]))+sigmoid(np.array(acclist3[idx]))+sigmoid(np.array(acclist4[idx])))/3\n",
    "    rep124r.append(sklearn.metrics.recall_score(lablist1[idx], np.argmax(acc_samen, axis=1).tolist()))\n",
    "    rep124p.append(sklearn.metrics.precision_score(lablist1[idx], np.argmax(acc_samen, axis=1).tolist()))\n",
    "    acc_samen = (sigmoid(np.array(acclist1[idx]))+sigmoid(np.array(acclist2[idx]))+sigmoid(np.array(acclist3[idx]))+sigmoid(np.array(acclist4[idx])))/4\n",
    "    rep1234r.append(sklearn.metrics.recall_score(lablist1[idx], np.argmax(acc_samen, axis=1).tolist()))\n",
    "    rep1234p.append(sklearn.metrics.precision_score(lablist1[idx], np.argmax(acc_samen, axis=1).tolist()))\n",
    "print(\"%.1f %.1f\" % (100*np.mean(rep123p), 100*np.mean(rep123r)))\n",
    "print(\"%.1f %.1f\" % (100*np.mean(rep124p), 100*np.mean(rep124r)))\n",
    "print(\"%.1f %.1f\" % (100*np.mean(rep1234p), 100*np.mean(rep1234r)))"
   ]
  },
  {
   "cell_type": "code",
   "execution_count": null,
   "metadata": {},
   "outputs": [],
   "source": [
    "accs = []\n",
    "for idx1, acc1 in enumerate(accuracies):\n",
    "    pred = []\n",
    "    acc_samen = (sigmoid(np.array(accs1))+sigmoid(np.array(acc1)))/2\n",
    "    print(idx1+1)\n",
    "    print(confusion_matrix(labels1, np.argmax(acc_samen, axis=1).tolist()))"
   ]
  },
  {
   "cell_type": "code",
   "execution_count": null,
   "metadata": {},
   "outputs": [],
   "source": [
    "acc_samen = (sigmoid(np.array(accs1))+sigmoid(np.array(accs2))+sigmoid(np.array(accs3)))/4\n",
    "print(confusion_matrix(labels1, np.argmax(acc_samen, axis=1).tolist()))\n",
    "acc_samen = (sigmoid(np.array(accs1))+sigmoid(np.array(accs2))+sigmoid(np.array(accs4)))/4\n",
    "print(confusion_matrix(labels1, np.argmax(acc_samen, axis=1).tolist()))\n",
    "acc_samen = (sigmoid(np.array(accs1))+sigmoid(np.array(accs2))+sigmoid(np.array(accs3))+sigmoid(np.array(accs4)))/4\n",
    "print(confusion_matrix(labels1, np.argmax(acc_samen, axis=1).tolist()))"
   ]
  },
  {
   "cell_type": "code",
   "execution_count": null,
   "metadata": {},
   "outputs": [],
   "source": [
    "# a = list(set(idx_wrong[0]).intersection(idx_wrong[1]))\n",
    "# for i in range(1,4):\n",
    "#     a = list(set(a).intersection(idx_wrong[i]))\n",
    "# print(sorted(a))\n",
    "# print(np.array(labels1)[a])"
   ]
  },
  {
   "cell_type": "code",
   "execution_count": null,
   "metadata": {},
   "outputs": [],
   "source": [
    "# trainset, valset, testset = dataset1.train[0], dataset1.val[0], dataset1.test[0]\n",
    "# test_loader = DataLoader(testset, batch_size=1, shuffle=False, drop_last=drop_last, collate_fn=dataset1.collate)"
   ]
  },
  {
   "cell_type": "code",
   "execution_count": null,
   "metadata": {},
   "outputs": [],
   "source": [
    "# print(test_loader.dataset.graph_lists[2].ndata)\n",
    "# print(test_loader.dataset.graph_lists[2].edata)\n",
    "# print(test_loader.dataset.graph_lists[2])"
   ]
  },
  {
   "cell_type": "code",
   "execution_count": null,
   "metadata": {},
   "outputs": [],
   "source": [
    "# print(sorted(list(np.array(test)[a])))"
   ]
  }
 ],
 "metadata": {
  "kernelspec": {
   "display_name": "Python 3",
   "language": "python",
   "name": "python3"
  },
  "language_info": {
   "codemirror_mode": {
    "name": "ipython",
    "version": 3
   },
   "file_extension": ".py",
   "mimetype": "text/x-python",
   "name": "python",
   "nbconvert_exporter": "python",
   "pygments_lexer": "ipython3",
   "version": "3.7.4"
  }
 },
 "nbformat": 4,
 "nbformat_minor": 4
}

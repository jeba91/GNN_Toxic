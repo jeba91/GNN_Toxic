{
 "cells": [
  {
   "cell_type": "code",
   "execution_count": 1,
   "metadata": {},
   "outputs": [],
   "source": [
    "\"\"\"\n",
    "    IMPORTING LIBS\n",
    "\"\"\"\n",
    "import dgl\n",
    "\n",
    "import numpy as np\n",
    "import os\n",
    "import socket\n",
    "import time\n",
    "import random\n",
    "import glob\n",
    "import argparse, json\n",
    "import pandas as pd\n",
    "\n",
    "from os import listdir\n",
    "from os.path import isfile, join\n",
    "\n",
    "import torch\n",
    "import torch.nn as nn\n",
    "import torch.nn.functional as F\n",
    "import torch.optim as optim\n",
    "from torch.utils.data import DataLoader\n",
    "\n",
    "from tensorboardX import SummaryWriter\n",
    "from tqdm import tqdm\n",
    "\n",
    "from sklearn.metrics import balanced_accuracy_score, confusion_matrix\n",
    "\n",
    "import sklearn\n",
    "import sklearn.metrics as metrics\n",
    "import matplotlib.pyplot as plt\n",
    "import math\n",
    "\n",
    "# custom function\n",
    "def sigmoid(x):\n",
    "    return 1 / (1 + np.exp(-x))"
   ]
  },
  {
   "cell_type": "code",
   "execution_count": 2,
   "metadata": {},
   "outputs": [],
   "source": [
    "# some_file.py\n",
    "import sys\n",
    "#change location to GNN_RIVM folder\n",
    "sys.path.insert(1, '/home/jeroen/Documents/Toxic/GNN_rivm/benchmark')\n",
    "\n",
    "from nets.TUs_graph_classification.load_net import gnn_model # import GNNs\n",
    "from data.data import LoadData # import dataset\n",
    "from train.train_TUs_graph_classification import train_epoch, evaluate_network, evaluate_network2 # import train functions\n",
    "\n",
    "drop_last = False\n",
    "device = torch.device(\"cpu\")"
   ]
  },
  {
   "cell_type": "code",
   "execution_count": 1,
   "metadata": {},
   "outputs": [],
   "source": [
    "def create_net_params(file_name):\n",
    "    f = open(file_name, \"r\")\n",
    "    n_params = (f.readlines()[5].split(\" \"))\n",
    "    \n",
    "    net_params = dict()\n",
    "    pbt_params_int = ['in_dim', 'hidden_dim', 'n_classes', 'L', 'n_mlp_GIN']\n",
    "    int_idx = [29,3,31,1,9]\n",
    "    pbt_params_str = ['learn_eps_GIN', 'neighbor_aggr_GIN', 'readout', 'graph_norm', 'batch_norm', 'residual']\n",
    "    str_idx = [11,13,7,19,21,5]\n",
    "    \n",
    "    for idx1, par in enumerate(pbt_params_int):\n",
    "        net_params[par] = int(n_params[int_idx[idx1]].split(',')[0])\n",
    "    net_params['dropout'] = float(n_params[17].split(',')[0])\n",
    "    for idx2, par in enumerate(pbt_params_str):\n",
    "        net_params[par] =  n_params[str_idx[idx2]].split(',')[0].strip(\"'\")\n",
    "    return net_params "
   ]
  },
  {
   "cell_type": "code",
   "execution_count": 2,
   "metadata": {},
   "outputs": [],
   "source": [
    "folder = \"GINPBT/\"\n",
    "model_str = \"GIN\"\n",
    "\n",
    "gin1_file = \"GIN_PBT_Rep1_GPU0_22h58m45s_on_Jun_30_2020\"\n",
    "gin2_file = \"GIN_PBT_Rep2_GPU0_22h57m48s_on_Jun_30_2020\"\n",
    "gin3_file = \"GIN_PBT_Rep3_GPU0_22h56m51s_on_Jun_30_2020\"\n",
    "gin4_file = \"GIN_PBT_Rep4_GPU0_22h58m40s_on_Jun_30_2020\""
   ]
  },
  {
   "cell_type": "code",
   "execution_count": 3,
   "metadata": {},
   "outputs": [],
   "source": [
    "gin1_np = create_net_params(folder+\"config_\"+gin1_file+\".txt\")\n",
    "gin2_np = create_net_params(folder+\"config_\"+gin2_file+\".txt\")\n",
    "gin3_np = create_net_params(folder+\"config_\"+gin3_file+\".txt\")\n",
    "gin4_np = create_net_params(folder+\"config_\"+gin4_file+\".txt\")"
   ]
  },
  {
   "cell_type": "code",
   "execution_count": 6,
   "metadata": {},
   "outputs": [],
   "source": [
    "# gin3_np['hidden_dim'] = 192\n",
    "# gin4_np['L'] = 8\n",
    "# print(gin3_np)\n",
    "# print(gin4_np)"
   ]
  },
  {
   "cell_type": "code",
   "execution_count": 4,
   "metadata": {},
   "outputs": [
    {
     "name": "stdout",
     "output_type": "stream",
     "text": [
      "{'in_dim': 15, 'hidden_dim': 96, 'n_classes': 2, 'L': 8, 'n_mlp_GIN': 2, 'dropout': 0.5, 'learn_eps_GIN': 'True', 'neighbor_aggr_GIN': 'sum', 'readout': 'sum', 'graph_norm': 'True', 'batch_norm': 'True', 'residual': 'True'}\n",
      "{'in_dim': 23, 'hidden_dim': 128, 'n_classes': 2, 'L': 8, 'n_mlp_GIN': 2, 'dropout': 0.5, 'learn_eps_GIN': 'True', 'neighbor_aggr_GIN': 'sum', 'readout': 'sum', 'graph_norm': 'True', 'batch_norm': 'True', 'residual': 'True'}\n",
      "{'in_dim': 19, 'hidden_dim': 96, 'n_classes': 2, 'L': 8, 'n_mlp_GIN': 2, 'dropout': 0.5, 'learn_eps_GIN': 'True', 'neighbor_aggr_GIN': 'sum', 'readout': 'sum', 'graph_norm': 'True', 'batch_norm': 'True', 'residual': 'True'}\n",
      "{'in_dim': 86, 'hidden_dim': 48, 'n_classes': 2, 'L': 8, 'n_mlp_GIN': 2, 'dropout': 0.5, 'learn_eps_GIN': 'True', 'neighbor_aggr_GIN': 'sum', 'readout': 'sum', 'graph_norm': 'True', 'batch_norm': 'True', 'residual': 'True'}\n"
     ]
    }
   ],
   "source": [
    "print(gin1_np)\n",
    "print(gin2_np)\n",
    "print(gin3_np)\n",
    "print(gin4_np)"
   ]
  },
  {
   "cell_type": "code",
   "execution_count": 7,
   "metadata": {},
   "outputs": [
    {
     "name": "stdout",
     "output_type": "stream",
     "text": [
      "494\n",
      "preparing 494 graphs for the ALL set...\n",
      "[!] Dataset:  PBT_Rep1\n",
      "Time taken: 5.5700s\n",
      "494\n",
      "preparing 494 graphs for the ALL set...\n",
      "[!] Dataset:  PBT_Rep2\n",
      "Time taken: 12.5967s\n",
      "494\n",
      "preparing 494 graphs for the ALL set...\n",
      "[!] Dataset:  PBT_Rep3\n",
      "Time taken: 11.3807s\n",
      "494\n",
      "preparing 494 graphs for the ALL set...\n",
      "[!] Dataset:  PBT_Rep4\n",
      "Time taken: 6.0772s\n"
     ]
    }
   ],
   "source": [
    "dataset1 = LoadData(\"PBT_Rep1\")\n",
    "dataset2 = LoadData(\"PBT_Rep2\")\n",
    "dataset3 = LoadData(\"PBT_Rep3\")\n",
    "dataset4 = LoadData(\"PBT_Rep4\")"
   ]
  },
  {
   "cell_type": "code",
   "execution_count": 8,
   "metadata": {},
   "outputs": [],
   "source": [
    "drop_last = False\n",
    "device = torch.device(\"cpu\")"
   ]
  },
  {
   "cell_type": "code",
   "execution_count": 9,
   "metadata": {},
   "outputs": [],
   "source": [
    "def test_model(net_params, model_name, dataset, model_str):\n",
    "    accs = []\n",
    "    for i in range(10):\n",
    "        model = gnn_model(model_str, net_params)\n",
    "        onlyfiles = [f for f in listdir(model_name + str(i)) if isfile(join(model_name + str(i), f))]\n",
    "        model.load_state_dict(torch.load(model_name + str(i) +\"/\"+ onlyfiles[-1]))\n",
    "        trainset, valset, testset = dataset.train[i], dataset.val[i], dataset.test[i]\n",
    "#         train_loader = DataLoader(trainset, batch_size=20, shuffle=True, drop_last=drop_last, collate_fn=dataset.collate)\n",
    "#         val_loader = DataLoader(valset, batch_size=20, shuffle=False, drop_last=drop_last, collate_fn=dataset.collate)\n",
    "        test_loader = DataLoader(testset, batch_size=1, shuffle=False, drop_last=drop_last, collate_fn=dataset.collate)\n",
    "        epoch_val_loss, epoch_val_acc = evaluate_network(model, device, test_loader, 999)\n",
    "        accs.append(epoch_val_acc)\n",
    "    print(np.mean(accs),np.std(accs))\n",
    "#     print(accs)"
   ]
  },
  {
   "cell_type": "code",
   "execution_count": 10,
   "metadata": {},
   "outputs": [],
   "source": [
    "def test_model2(net_params, model_name, dataset, model_str):\n",
    "    accs = []\n",
    "    labs = []\n",
    "    for i in range(10):\n",
    "        model = gnn_model(model_str, net_params)\n",
    "        onlyfiles = [f for f in listdir(model_name + str(i)) if isfile(join(model_name + str(i), f))]\n",
    "        model.load_state_dict(torch.load(model_name + str(i) +\"/\"+ onlyfiles[-1]))\n",
    "        trainset, valset, testset = dataset.train[i], dataset.val[i], dataset.test[i]\n",
    "        test_loader = DataLoader(testset, batch_size=1, shuffle=False, drop_last=drop_last, collate_fn=dataset.collate)\n",
    "        epoch_val_loss, labels, score = evaluate_network2(model, device, test_loader, 999)\n",
    "        accs.extend(score)\n",
    "        labs.extend(labels)\n",
    "    return accs, labs"
   ]
  },
  {
   "cell_type": "code",
   "execution_count": 11,
   "metadata": {},
   "outputs": [],
   "source": [
    "def test_model3(net_params, model_name, dataset, model_str):\n",
    "    accs = []\n",
    "    labs = []\n",
    "    for i in range(10):\n",
    "        model = gnn_model(model_str, net_params)\n",
    "        onlyfiles = [f for f in listdir(model_name + str(i)) if isfile(join(model_name + str(i), f))]\n",
    "        model.load_state_dict(torch.load(model_name + str(i) +\"/\"+ onlyfiles[-1]))\n",
    "        trainset, valset, testset = dataset.train[i], dataset.val[i], dataset.test[i]\n",
    "        test_loader = DataLoader(testset, batch_size=1, shuffle=False, drop_last=drop_last, collate_fn=dataset.collate)\n",
    "        epoch_val_loss, labels, score = evaluate_network2(model, device, test_loader, 999)\n",
    "        accs.append(score)\n",
    "        labs.append(labels)\n",
    "    return accs, labs"
   ]
  },
  {
   "cell_type": "code",
   "execution_count": 12,
   "metadata": {},
   "outputs": [
    {
     "name": "stdout",
     "output_type": "stream",
     "text": [
      "0.9366626794258373 0.046260160727813034\n",
      "0.9298122929701875 0.03889777100930508\n",
      "0.9295009814746656 0.034181833527539104\n",
      "0.9244065145380935 0.0584003336653295\n"
     ]
    }
   ],
   "source": [
    "test_model(gin1_np, folder+gin1_file+\"/RUN_\", dataset1, model_str)\n",
    "test_model(gin2_np, folder+gin2_file+\"/RUN_\", dataset2, model_str)\n",
    "test_model(gin3_np, folder+gin3_file+\"/RUN_\", dataset3, model_str)\n",
    "test_model(gin4_np, folder+gin4_file+\"/RUN_\", dataset4, model_str)"
   ]
  },
  {
   "cell_type": "code",
   "execution_count": 13,
   "metadata": {},
   "outputs": [],
   "source": [
    "accs1, labels1 = test_model2(gin1_np, folder+gin1_file+\"/RUN_\", dataset1, model_str)\n",
    "accs2, labels2 = test_model2(gin2_np, folder+gin2_file+\"/RUN_\", dataset2, model_str)\n",
    "accs3, labels3 = test_model2(gin3_np, folder+gin3_file+\"/RUN_\", dataset3, model_str)\n",
    "accs4, labels4 = test_model2(gin4_np, folder+gin4_file+\"/RUN_\", dataset4, model_str)"
   ]
  },
  {
   "cell_type": "code",
   "execution_count": 14,
   "metadata": {},
   "outputs": [],
   "source": [
    "acclist1, lablist1 = test_model3(gin1_np, folder+gin1_file+\"/RUN_\", dataset1, model_str)\n",
    "acclist2, lablist2 = test_model3(gin2_np, folder+gin2_file+\"/RUN_\", dataset2, model_str)\n",
    "acclist3, lablist3 = test_model3(gin3_np, folder+gin3_file+\"/RUN_\", dataset3, model_str)\n",
    "acclist4, lablist4 = test_model3(gin4_np, folder+gin4_file+\"/RUN_\", dataset4, model_str)"
   ]
  },
  {
   "cell_type": "code",
   "execution_count": 15,
   "metadata": {},
   "outputs": [
    {
     "name": "stderr",
     "output_type": "stream",
     "text": [
      "/home/jeroen/miniconda3/envs/benchmark_gnn/lib/python3.7/site-packages/ipykernel_launcher.py:36: RuntimeWarning: overflow encountered in exp\n"
     ]
    },
    {
     "data": {
      "image/png": "[encoded data removed]",
      "text/plain": [
       "<Figure size 432x288 with 1 Axes>"
      ]
     },
     "metadata": {
      "needs_background": "light"
     },
     "output_type": "display_data"
    }
   ],
   "source": [
    "accuracies = [accs1, accs2, accs3, accs4]\n",
    "acclists = [acclist1, acclist2, acclist3, acclist4]\n",
    "\n",
    "labels = [\"Conventional\", \"Hydro/Arom prior\", \"Bonds prior\", \"Protein prior\"]\n",
    "for idx, ac in enumerate(accuracies):\n",
    "    fpr, tpr, threshold = metrics.roc_curve(labels1, sigmoid(np.array(ac))[:,1])\n",
    "    roc_auc = metrics.roc_auc_score(labels1, sigmoid(np.array(ac))[:,1])\n",
    "    plt.title('Receiver Operating Characteristic - GIN PBT')\n",
    "    plt.plot(fpr, tpr, label = labels[idx]+' / AUC = %0.2f' % roc_auc)\n",
    "    plt.legend(loc = 'lower right')\n",
    "    \n",
    "plt.plot([0, 1], [0, 1],'r--')\n",
    "plt.xlim([0, 1])\n",
    "plt.ylim([0, 1])\n",
    "plt.ylabel('True Positive Rate')\n",
    "plt.xlabel('False Positive Rate')\n",
    "plt.show()"
   ]
  },
  {
   "cell_type": "code",
   "execution_count": 16,
   "metadata": {},
   "outputs": [
    {
     "name": "stdout",
     "output_type": "stream",
     "text": [
      "0.9137 0.9023\n",
      "0.8501 0.9121\n",
      "0.8509 0.9114\n",
      "0.8401 0.9114\n"
     ]
    }
   ],
   "source": [
    "for acc in acclists:\n",
    "    rec = []\n",
    "    pre = []\n",
    "    for idx, acc_fold in enumerate(acc):\n",
    "        rec.append(sklearn.metrics.recall_score(lablist1[idx], np.argmax(acc_fold, axis=1)))\n",
    "        pre.append(sklearn.metrics.precision_score(lablist1[idx], np.argmax(acc_fold, axis=1)))\n",
    "#     print(rec)\n",
    "    print(\"%.4f %.4f\" % (np.mean(pre), np.mean(rec)))\n",
    "#     print(\"%.4f\" % np.mean(pre), np.std(pre))"
   ]
  },
  {
   "cell_type": "code",
   "execution_count": 17,
   "metadata": {},
   "outputs": [
    {
     "name": "stdout",
     "output_type": "stream",
     "text": [
      "Counter({1: 33, 2: 17, 3: 11, 4: 4})\n",
      "65\n",
      "[117, 151, 157, 402]\n"
     ]
    }
   ],
   "source": [
    "from collections import Counter\n",
    "idx_wrong = []\n",
    "idx_wrong2 = []\n",
    "for acc in accuracies:\n",
    "    idx_wrong.append(([i for i,x in enumerate(labels1 == np.argmax(acc,axis=1)) if x == False]))\n",
    "    idx_wrong2.extend(([i for i,x in enumerate(labels1 == np.argmax(acc,axis=1)) if x == False]))\n",
    "    \n",
    "idx_allwrong  = sorted(list(set(idx_wrong[0])&set(idx_wrong[1])&set(idx_wrong[2])&set(idx_wrong[3])))\n",
    "print(Counter(Counter(idx_wrong2).values()))\n",
    "print(len(Counter(idx_wrong2)))\n",
    "print(idx_allwrong)"
   ]
  },
  {
   "cell_type": "code",
   "execution_count": 19,
   "metadata": {},
   "outputs": [
    {
     "name": "stdout",
     "output_type": "stream",
     "text": [
      "[0 1 1 1]\n",
      "[[ -3.4644959   -1.76377916]\n",
      " [ -2.42532754 -34.98254013]\n",
      " [ 19.17446518 -13.58734512]\n",
      " [  4.35366821  -6.02244282]]\n",
      "[[  13.28413773   18.22540283]\n",
      " [  28.09298325 -165.51908875]\n",
      " [ -66.827034   -138.6999054 ]\n",
      " [  30.13640213    7.15433788]]\n",
      "[[ -8.44116879  13.56958199]\n",
      " [ 47.83013535 -33.03262329]\n",
      " [ 86.94180298   1.60951614]\n",
      " [ -8.58943081  -9.59962082]]\n",
      "[[-14.64434528  12.08301735]\n",
      " [ 56.67642212 -89.44985962]\n",
      " [ -4.13857555 -63.40364456]\n",
      " [ -1.75524855 -15.96564484]]\n"
     ]
    }
   ],
   "source": [
    "check_list = idx_allwrong\n",
    "print(np.array(labels1)[check_list])\n",
    "print((np.array(accs1))[check_list])\n",
    "print((np.array(accs2))[check_list])\n",
    "print((np.array(accs3))[check_list])\n",
    "print((np.array(accs4))[check_list])"
   ]
  },
  {
   "cell_type": "code",
   "execution_count": 16,
   "metadata": {},
   "outputs": [
    {
     "name": "stdout",
     "output_type": "stream",
     "text": [
      "[[370  11]\n",
      " [ 11 102]]\n",
      "[[361  20]\n",
      " [ 10 103]]\n",
      "[[361  20]\n",
      " [ 10 103]]\n",
      "[[357  24]\n",
      " [ 10 103]]\n"
     ]
    }
   ],
   "source": [
    "accuracies = [accs1, accs3, accs2, accs4]\n",
    "for acc in accuracies:\n",
    "    print(confusion_matrix(labels1, np.argmax(acc, axis=1)))"
   ]
  },
  {
   "cell_type": "code",
   "execution_count": 19,
   "metadata": {},
   "outputs": [
    {
     "name": "stdout",
     "output_type": "stream",
     "text": [
      "93.67+/-4.63\n",
      "93.80+/-4.53\n",
      "93.18+/-4.43\n",
      "92.93+/-4.54\n",
      "93.31+/-4.35\n",
      "93.31+/-4.35\n",
      "93.59+/-4.48\n"
     ]
    },
    {
     "name": "stderr",
     "output_type": "stream",
     "text": [
      "/home/jeroen/miniconda3/envs/benchmark_gnn/lib/python3.7/site-packages/ipykernel_launcher.py:36: RuntimeWarning: overflow encountered in exp\n"
     ]
    }
   ],
   "source": [
    "accs = []\n",
    "for idx1, acc1 in enumerate(acclists):\n",
    "    acc_temp = []\n",
    "    for idx, acc_fold in enumerate(acc1):\n",
    "        acc_samen = (sigmoid(np.array(acclists[0][idx]))+sigmoid(np.array(acclists[idx1][idx])))/2\n",
    "        acc_temp.append(balanced_accuracy_score(lablist1[idx], np.argmax(acc_samen, axis=1).tolist()))\n",
    "    accs.append([idx1, np.mean(acc_temp), np.std(acc_temp)])\n",
    "        \n",
    "df = pd.DataFrame(accs)\n",
    "for a in list(df.values):\n",
    "    print(\"%.2f+/-%.2f\" % (100*a[1],100*a[2]))\n",
    "rep123=[]\n",
    "rep124=[]\n",
    "rep1234=[]\n",
    "for idx in range(10):\n",
    "    acc_samen = (sigmoid(np.array(acclist1[idx]))+sigmoid(np.array(acclist2[idx]))+sigmoid(np.array(acclist3[idx])))/3\n",
    "    rep123.append(balanced_accuracy_score(lablist1[idx], np.argmax(acc_samen, axis=1).tolist()))\n",
    "    acc_samen = (sigmoid(np.array(acclist1[idx]))+sigmoid(np.array(acclist2[idx]))+sigmoid(np.array(acclist3[idx])))/3\n",
    "    rep124.append(balanced_accuracy_score(lablist1[idx], np.argmax(acc_samen, axis=1).tolist()))\n",
    "    acc_samen = (sigmoid(np.array(acclist1[idx]))+sigmoid(np.array(acclist2[idx]))+sigmoid(np.array(acclist3[idx]))+sigmoid(np.array(acclist4[idx])))/4\n",
    "    rep1234.append(balanced_accuracy_score(lablist1[idx], np.argmax(acc_samen, axis=1).tolist()))\n",
    "print(\"%.2f+/-%.2f\" % (100*np.mean(rep123), 100*np.std(rep123)))\n",
    "print(\"%.2f+/-%.2f\" % (100*np.mean(rep124), 100*np.std(rep124)))\n",
    "print(\"%.2f+/-%.2f\" % (100*np.mean(rep1234), 100*np.std(rep1234)))"
   ]
  },
  {
   "cell_type": "code",
   "execution_count": 22,
   "metadata": {},
   "outputs": [
    {
     "name": "stdout",
     "output_type": "stream",
     "text": [
      "0.91 0.90\n",
      "0.92 0.90\n",
      "0.88 0.90\n",
      "0.88 0.90\n",
      "0.89 0.90\n",
      "0.89 0.90\n",
      "0.91 0.90\n"
     ]
    },
    {
     "name": "stderr",
     "output_type": "stream",
     "text": [
      "/home/jeroen/miniconda3/envs/benchmark_gnn/lib/python3.7/site-packages/ipykernel_launcher.py:36: RuntimeWarning: overflow encountered in exp\n"
     ]
    }
   ],
   "source": [
    "accs = []\n",
    "for idx1, acc1 in enumerate(acclists):\n",
    "    acc_temp = []\n",
    "    rec = []\n",
    "    pre = []\n",
    "    for idx, acc_fold in enumerate(acc1):\n",
    "        acc_samen = (sigmoid(np.array(acclists[0][idx]))+sigmoid(np.array(acclists[idx1][idx])))/2\n",
    "        rec.append(sklearn.metrics.recall_score(lablist1[idx], np.argmax(acc_samen, axis=1).tolist()))\n",
    "        pre.append(sklearn.metrics.precision_score(lablist1[idx], np.argmax(acc_samen, axis=1).tolist()))\n",
    "    accs.append([idx1, np.mean(pre), np.mean(rec)])\n",
    "        \n",
    "df = pd.DataFrame(accs)\n",
    "for a in list(df.values):\n",
    "    print(\"%.2f %.2f\" % (a[1],a[2]))\n",
    "rep123r=[]\n",
    "rep124r=[]\n",
    "rep1234r=[]\n",
    "rep123p=[]\n",
    "rep124p=[]\n",
    "rep1234p=[]\n",
    "for idx in range(10):\n",
    "    acc_samen = (sigmoid(np.array(acclist1[idx]))+sigmoid(np.array(acclist2[idx]))+sigmoid(np.array(acclist3[idx])))/3\n",
    "    rep123r.append(sklearn.metrics.recall_score(lablist1[idx], np.argmax(acc_samen, axis=1).tolist()))\n",
    "    rep123p.append(sklearn.metrics.precision_score(lablist1[idx], np.argmax(acc_samen, axis=1).tolist()))\n",
    "    acc_samen = (sigmoid(np.array(acclist1[idx]))+sigmoid(np.array(acclist2[idx]))+sigmoid(np.array(acclist3[idx])))/3\n",
    "    rep124r.append(sklearn.metrics.recall_score(lablist1[idx], np.argmax(acc_samen, axis=1).tolist()))\n",
    "    rep124p.append(sklearn.metrics.precision_score(lablist1[idx], np.argmax(acc_samen, axis=1).tolist()))\n",
    "    acc_samen = (sigmoid(np.array(acclist1[idx]))+sigmoid(np.array(acclist2[idx]))+sigmoid(np.array(acclist3[idx]))+sigmoid(np.array(acclist4[idx])))/4\n",
    "    rep1234r.append(sklearn.metrics.recall_score(lablist1[idx], np.argmax(acc_samen, axis=1).tolist()))\n",
    "    rep1234p.append(sklearn.metrics.precision_score(lablist1[idx], np.argmax(acc_samen, axis=1).tolist()))\n",
    "print(\"%.2f %.2f\" % (np.mean(rep123p), np.mean(rep123r)))\n",
    "print(\"%.2f %.2f\" % (np.mean(rep124p), np.mean(rep124r)))\n",
    "print(\"%.2f %.2f\" % (np.mean(rep1234p), np.mean(rep1234r)))"
   ]
  },
  {
   "cell_type": "code",
   "execution_count": 26,
   "metadata": {},
   "outputs": [
    {
     "name": "stdout",
     "output_type": "stream",
     "text": [
      "1\n",
      "[[370  11]\n",
      " [ 11 102]]\n",
      "2\n",
      "[[371  10]\n",
      " [ 11 102]]\n",
      "3\n",
      "[[366  15]\n",
      " [ 11 102]]\n",
      "4\n",
      "[[364  17]\n",
      " [ 11 102]]\n"
     ]
    },
    {
     "name": "stderr",
     "output_type": "stream",
     "text": [
      "/home/jeroen/miniconda3/envs/benchmark_gnn/lib/python3.7/site-packages/ipykernel_launcher.py:36: RuntimeWarning: overflow encountered in exp\n"
     ]
    }
   ],
   "source": [
    "accs = []\n",
    "for idx1, acc1 in enumerate(accuracies):\n",
    "    pred = []\n",
    "    acc_samen = (sigmoid(np.array(accs1))+sigmoid(np.array(acc1)))/2\n",
    "    print(idx1+1)\n",
    "    print(confusion_matrix(labels1, np.argmax(acc_samen, axis=1).tolist()))"
   ]
  },
  {
   "cell_type": "code",
   "execution_count": 27,
   "metadata": {},
   "outputs": [
    {
     "name": "stdout",
     "output_type": "stream",
     "text": [
      "[[367  14]\n",
      " [ 11 102]]\n",
      "[[369  12]\n",
      " [ 10 103]]\n",
      "[[369  12]\n",
      " [ 11 102]]\n"
     ]
    },
    {
     "name": "stderr",
     "output_type": "stream",
     "text": [
      "/home/jeroen/miniconda3/envs/benchmark_gnn/lib/python3.7/site-packages/ipykernel_launcher.py:36: RuntimeWarning: overflow encountered in exp\n"
     ]
    }
   ],
   "source": [
    "acc_samen = (sigmoid(np.array(accs1))+sigmoid(np.array(accs2))+sigmoid(np.array(accs3)))/4\n",
    "print(confusion_matrix(labels1, np.argmax(acc_samen, axis=1).tolist()))\n",
    "acc_samen = (sigmoid(np.array(accs1))+sigmoid(np.array(accs2))+sigmoid(np.array(accs4)))/4\n",
    "print(confusion_matrix(labels1, np.argmax(acc_samen, axis=1).tolist()))\n",
    "acc_samen = (sigmoid(np.array(accs1))+sigmoid(np.array(accs2))+sigmoid(np.array(accs3))+sigmoid(np.array(accs4)))/4\n",
    "print(confusion_matrix(labels1, np.argmax(acc_samen, axis=1).tolist()))"
   ]
  },
  {
   "cell_type": "code",
   "execution_count": null,
   "metadata": {},
   "outputs": [],
   "source": []
  }
 ],
 "metadata": {
  "kernelspec": {
   "display_name": "Python 3",
   "language": "python",
   "name": "python3"
  },
  "language_info": {
   "codemirror_mode": {
    "name": "ipython",
    "version": 3
   },
   "file_extension": ".py",
   "mimetype": "text/x-python",
   "name": "python",
   "nbconvert_exporter": "python",
   "pygments_lexer": "ipython3",
   "version": "3.7.4"
  }
 },
 "nbformat": 4,
 "nbformat_minor": 4
}

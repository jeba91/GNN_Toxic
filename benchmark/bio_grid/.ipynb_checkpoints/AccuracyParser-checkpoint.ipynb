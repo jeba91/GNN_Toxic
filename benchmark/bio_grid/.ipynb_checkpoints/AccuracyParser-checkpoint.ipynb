{
 "cells": [
  {
   "cell_type": "code",
   "execution_count": 26,
   "metadata": {},
   "outputs": [],
   "source": [
    "from os import listdir\n",
    "from os.path import isfile, join\n",
    "import os\n",
    "mypath = os.getcwd()\n",
    "onlyfiles = [f for f in listdir(mypath) if isfile(join(mypath, f))]"
   ]
  },
  {
   "cell_type": "code",
   "execution_count": 29,
   "metadata": {},
   "outputs": [
    {
     "name": "stdout",
     "output_type": "stream",
     "text": [
      "TOXGIN0PBT_Rep1.txt\n",
      "TOXGIN0PBT_Rep2.txt\n",
      "TOXGIN0PBT_Rep3.txt\n",
      "TOXGIN10PBT_Rep1.txt\n",
      "TOXGIN10PBT_Rep2.txt\n",
      "TOXGIN10PBT_Rep3.txt\n",
      "TOXGIN11PBT_Rep1.txt\n",
      "TOXGIN11PBT_Rep2.txt\n",
      "TOXGIN11PBT_Rep3.txt\n",
      "TOXGIN1PBT_Rep1.txt\n",
      "TOXGIN1PBT_Rep2.txt\n",
      "TOXGIN1PBT_Rep3.txt\n",
      "TOXGIN2PBT_Rep1.txt\n",
      "TOXGIN2PBT_Rep2.txt\n",
      "TOXGIN2PBT_Rep3.txt\n",
      "TOXGIN3PBT_Rep1.txt\n",
      "TOXGIN3PBT_Rep2.txt\n",
      "TOXGIN3PBT_Rep3.txt\n",
      "TOXGIN4PBT_Rep1.txt\n",
      "TOXGIN4PBT_Rep2.txt\n",
      "TOXGIN4PBT_Rep3.txt\n",
      "TOXGIN5PBT_Rep1.txt\n",
      "TOXGIN5PBT_Rep2.txt\n",
      "TOXGIN5PBT_Rep3.txt\n",
      "TOXGIN6PBT_Rep1.txt\n",
      "TOXGIN6PBT_Rep2.txt\n",
      "TOXGIN6PBT_Rep3.txt\n",
      "TOXGIN7PBT_Rep1.txt\n",
      "TOXGIN7PBT_Rep2.txt\n",
      "TOXGIN7PBT_Rep3.txt\n",
      "TOXGIN8PBT_Rep1.txt\n",
      "TOXGIN8PBT_Rep2.txt\n",
      "TOXGIN8PBT_Rep3.txt\n",
      "TOXGIN9PBT_Rep1.txt\n",
      "TOXGIN9PBT_Rep2.txt\n",
      "TOXGIN9PBT_Rep3.txt\n",
      "Untitled.ipynb\n"
     ]
    }
   ],
   "source": [
    "onlyfiles = sorted(onlyfiles)\n",
    "for f in onlyfiles:\n",
    "    print(f)"
   ]
  },
  {
   "cell_type": "code",
   "execution_count": 37,
   "metadata": {},
   "outputs": [
    {
     "name": "stdout",
     "output_type": "stream",
     "text": [
      "TOXGIN0PBT_Rep1.txt TEST ACCURACY averaged: 9522.6555 with s.d. 339.4856\n",
      "TOXGIN0PBT_Rep2.txt TEST ACCURACY averaged: 9575.6985 with s.d. 215.1434\n",
      "TOXGIN0PBT_Rep3.txt TEST ACCURACY averaged: 9441.2832 with s.d. 246.4029\n",
      "TOXGIN10PBT_Rep1.txt TEST ACCURACY averaged: 9544.5971 with s.d. 260.0987\n",
      "TOXGIN10PBT_Rep2.txt TEST ACCURACY averaged: 9618.2162 with s.d. 210.3934\n",
      "TOXGIN10PBT_Rep3.txt TEST ACCURACY averaged: 9555.5803 with s.d. 206.1223\n",
      "TOXGIN11PBT_Rep1.txt TEST ACCURACY averaged: 9572.0135 with s.d. 251.0272\n",
      "TOXGIN11PBT_Rep2.txt TEST ACCURACY averaged: 9620.0520 with s.d. 167.1365\n",
      "TOXGIN11PBT_Rep3.txt TEST ACCURACY averaged: 9622.8928 with s.d. 214.3542\n",
      "TOXGIN1PBT_Rep1.txt\n",
      "TOXGIN1PBT_Rep2.txt TEST ACCURACY averaged: 9542.6963 with s.d. 191.3032\n",
      "TOXGIN1PBT_Rep3.txt TEST ACCURACY averaged: 9381.6663 with s.d. 354.6640\n",
      "TOXGIN2PBT_Rep1.txt TEST ACCURACY averaged: 9573.2216 with s.d. 246.9505\n",
      "TOXGIN2PBT_Rep2.txt\n",
      "TOXGIN2PBT_Rep3.txt\n",
      "TOXGIN3PBT_Rep1.txt TEST ACCURACY averaged: 9563.9816 with s.d. 305.6251\n",
      "TOXGIN3PBT_Rep2.txt TEST ACCURACY averaged: 9456.1152 with s.d. 337.3341\n",
      "TOXGIN3PBT_Rep3.txt TEST ACCURACY averaged: 9390.0647 with s.d. 385.5044\n",
      "TOXGIN4PBT_Rep1.txt TEST ACCURACY averaged: 9478.0552 with s.d. 304.2995\n",
      "TOXGIN4PBT_Rep2.txt TEST ACCURACY averaged: 9519.4975 with s.d. 251.8232\n",
      "TOXGIN4PBT_Rep3.txt TEST ACCURACY averaged: 9503.7970 with s.d. 260.7262\n",
      "TOXGIN5PBT_Rep1.txt\n",
      "TOXGIN5PBT_Rep2.txt\n",
      "TOXGIN5PBT_Rep3.txt TEST ACCURACY averaged: 9544.8724 with s.d. 265.4875\n",
      "TOXGIN6PBT_Rep1.txt TEST ACCURACY averaged: 9600.2034 with s.d. 326.5306\n",
      "TOXGIN6PBT_Rep2.txt\n",
      "TOXGIN6PBT_Rep3.txt\n",
      "TOXGIN7PBT_Rep1.txt TEST ACCURACY averaged: 9525.4050 with s.d. 302.4698\n",
      "TOXGIN7PBT_Rep2.txt\n",
      "TOXGIN7PBT_Rep3.txt\n",
      "TOXGIN8PBT_Rep1.txt TEST ACCURACY averaged: 9632.3382 with s.d. 193.8033\n",
      "TOXGIN8PBT_Rep2.txt TEST ACCURACY averaged: 9567.6983 with s.d. 288.5506\n",
      "TOXGIN8PBT_Rep3.txt TEST ACCURACY averaged: 9578.2125 with s.d. 302.7033\n",
      "TOXGIN9PBT_Rep1.txt TEST ACCURACY averaged: 9617.7307 with s.d. 207.2709\n",
      "TOXGIN9PBT_Rep2.txt TEST ACCURACY averaged: 9651.9471 with s.d. 178.2984\n",
      "TOXGIN9PBT_Rep3.txt TEST ACCURACY averaged: 9533.7681 with s.d. 337.7223\n"
     ]
    }
   ],
   "source": [
    "for file_txt in onlyfiles:\n",
    "#     print(file_txt)\n",
    "    if file_txt[-3:] == \"txt\":\n",
    "        file = open(file_txt, mode = 'r', encoding = 'utf-8-sig')\n",
    "        lines = file.readlines()\n",
    "        file.close()\n",
    "        printed=False\n",
    "        for l in lines:\n",
    "            if \"TEST ACCURACY averaged\" in str(l) and \"nan\" not in str(l):\n",
    "                print(file_txt, str(l).strip())\n",
    "                printed = True\n",
    "        if not printed:\n",
    "            print(file_txt)"
   ]
  },
  {
   "cell_type": "code",
   "execution_count": null,
   "metadata": {},
   "outputs": [],
   "source": []
  },
  {
   "cell_type": "code",
   "execution_count": null,
   "metadata": {},
   "outputs": [],
   "source": []
  }
 ],
 "metadata": {
  "kernelspec": {
   "display_name": "Python 3",
   "language": "python",
   "name": "python3"
  },
  "language_info": {
   "codemirror_mode": {
    "name": "ipython",
    "version": 3
   },
   "file_extension": ".py",
   "mimetype": "text/x-python",
   "name": "python",
   "nbconvert_exporter": "python",
   "pygments_lexer": "ipython3",
   "version": "3.8.1"
  }
 },
 "nbformat": 4,
 "nbformat_minor": 4
}

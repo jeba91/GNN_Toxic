{
 "cells": [
  {
   "cell_type": "code",
   "execution_count": 1,
   "metadata": {},
   "outputs": [],
   "source": [
    "# -*- coding: utf-8 -*-\n",
    "import argparse \n",
    "import itertools\n",
    "import datetime\n",
    "import os\n",
    "import json\n",
    "import time\n",
    "import subprocess"
   ]
  },
  {
   "cell_type": "code",
   "execution_count": 2,
   "metadata": {},
   "outputs": [],
   "source": [
    "def stringify_config(configuration, first, last):\n",
    "    out = \"\"\n",
    "    for i in range(first, last + 1):\n",
    "        out = out + str(configuration[i]) + \" \"\n",
    "        \n",
    "    return out\n",
    "\n",
    "def get_num_running_jobs():\n",
    "    cmd = \"bjobs -q bio-gpu\"\n",
    "    returned_value = subprocess.run(cmd, capture_output=True, shell=True) \n",
    "    output = returned_value.stdout.decode()\n",
    "    \n",
    "    number_of_jobs = 0\n",
    "    if len(output) > 0: \n",
    "    \tnumber_of_jobs = len(output.split(\"\\n\")) - 2\n",
    "    \n",
    "    return number_of_jobs\n"
   ]
  },
  {
   "cell_type": "code",
   "execution_count": 4,
   "metadata": {},
   "outputs": [],
   "source": [
    "now = datetime.datetime.now().strftime(\"%y%m%d_%H%M\")\n",
    "output_path = './configs/test/' \n",
    "if not os.path.exists(output_path):\n",
    "    os.makedirs(output_path)\n",
    "\n",
    "### GPU settings\n",
    "use = [True]\n",
    "id_gpu = [0]\n",
    "    \n",
    "### Test settings \n",
    "model = [\"GIN\"]\n",
    "dataset = [\"TOX\"]\n",
    "out_dir = [\"out/TOX_graph_classification/\"]\n",
    "\n",
    "### Parameter settings \n",
    "seed = [79]\n",
    "epochs = [1000]\n",
    "batch_size = [20]\n",
    "init_lr = [1e-3]\n",
    "lr_reduce_factor = [0.5]\n",
    "lr_schedule_patience = [25]\n",
    "min_lr = [1e-10]\n",
    "weight_decay = [0.0]\n",
    "print_epoch_interval = [5]\n",
    "max_time = [48]\n",
    "\n",
    "### net parameters settings\n",
    "L = [2,4,6,8]\n",
    "hidden_dim = [48,96,192]\n",
    "residual = [True]\n",
    "readout = [\"sum\"]\n",
    "n_mlp_GIN = [2]\n",
    "learn_eps_GIN = [True]\n",
    "neighbor_aggr_GIN = [\"sum\"]\n",
    "in_feat_dropout = [0.5]\n",
    "dropout = [0.5]\n",
    "graph_norm = [True]\n",
    "batch_norm = [True]\n",
    "\n",
    "\n",
    "gpu_combis = list(itertools.product(use, id_gpu))\n",
    "\n",
    "\n",
    "param_combis = list(itertools.product(seed,epochs,batch_size,init_lr,\n",
    "                                      lr_reduce_factor,lr_schedule_patience,\n",
    "                                      min_lr, weight_decay, print_epoch_interval, max_time))\n",
    "                    \n",
    "net_combis = list(itertools.product(L, hidden_dim, residual, readout, n_mlp_GIN, learn_eps_GIN,\n",
    "                                    neighbor_aggr_GIN, in_feat_dropout, dropout, graph_norm, batch_norm))\n",
    "\n",
    "combis = list(itertools.product(gpu_combis, model, dataset, out_dir, param_combis, net_combis))\n",
    "\n"
   ]
  },
  {
   "cell_type": "code",
   "execution_count": 5,
   "metadata": {},
   "outputs": [],
   "source": [
    "headers = [\"gpu\", \"model\", \"dataset\", \"out_dir\", \"params\", \"net_params\"]\n",
    "\n",
    "parameters = [\"seed\",\"epochs\",\"batch_size\",\"init_lr\",\"lr_reduce_factor\",\n",
    "              \"lr_schedule_patience\",\"min_lr\", \"weight_decay\", \"print_epoch_interval\", \"max_time\"]\n",
    "\n",
    "net = [\"L\", \"hidden_dim\", \"residual\", \"readout\", \"n_mlp_GIN\", \"learn_eps_GIN\", \"neighbor_aggr_GIN\",\n",
    "       \"in_feat_dropout\", \"dropout\", \"graph_norm\", \"batch_norm\"]\n",
    "\n",
    "gpu = [\"use\", \"id\"]"
   ]
  },
  {
   "cell_type": "code",
   "execution_count": 6,
   "metadata": {},
   "outputs": [],
   "source": [
    "def create_dict(comb_list, name_list):\n",
    "    dct = {}\n",
    "    for i in range(len(comb_list)):\n",
    "        dct[name_list[i]] = comb_list[i]\n",
    "    return dct"
   ]
  },
  {
   "cell_type": "code",
   "execution_count": 7,
   "metadata": {},
   "outputs": [],
   "source": [
    "for i in range(len(combis)):\n",
    "    combis[i] = create_dict(combis[i], headers)\n",
    "    combis[i][\"gpu\"] = create_dict(combis[i][\"gpu\"], gpu)\n",
    "    combis[i][\"params\"] = create_dict(combis[i][\"params\"], parameters)\n",
    "    combis[i][\"net_params\"] = create_dict(combis[i][\"net_params\"], net)\n",
    "    save_name = 'TOX' + combis[i]['model'] + str(i) +'.json'\n",
    "    with open(output_path + save_name, 'w') as fp:\n",
    "        json.dump(combis[i], fp, sort_keys=False, indent=4, separators=(',', ': '))"
   ]
  },
  {
   "cell_type": "code",
   "execution_count": 8,
   "metadata": {},
   "outputs": [
    {
     "name": "stdout",
     "output_type": "stream",
     "text": [
      "12\n"
     ]
    }
   ],
   "source": [
    "print(len(combis))"
   ]
  },
  {
   "cell_type": "code",
   "execution_count": 9,
   "metadata": {},
   "outputs": [
    {
     "name": "stdout",
     "output_type": "stream",
     "text": [
      "bsub -q bio -o bio_grid/TOXGIN0CMR_Rep1_0107-1638.txt -e bio_grid/TOXGIN0CMR_Rep1_0107-1638.txt python main_TUs_graph_classification.py --dataset CMR_Rep1 --config ./configs/test/TOXGIN0.json\n",
      "bsub -q bio -o bio_grid/TOXGIN0CMR_Rep2_0107-1638.txt -e bio_grid/TOXGIN0CMR_Rep2_0107-1638.txt python main_TUs_graph_classification.py --dataset CMR_Rep2 --config ./configs/test/TOXGIN0.json\n",
      "bsub -q bio -o bio_grid/TOXGIN0CMR_Rep3_0107-1638.txt -e bio_grid/TOXGIN0CMR_Rep3_0107-1638.txt python main_TUs_graph_classification.py --dataset CMR_Rep3 --config ./configs/test/TOXGIN0.json\n",
      "bsub -q bio -o bio_grid/TOXGIN0CMR_Rep4_0107-1638.txt -e bio_grid/TOXGIN0CMR_Rep4_0107-1638.txt python main_TUs_graph_classification.py --dataset CMR_Rep4 --config ./configs/test/TOXGIN0.json\n",
      "bsub -q bio -o bio_grid/TOXGIN1CMR_Rep1_0107-1638.txt -e bio_grid/TOXGIN1CMR_Rep1_0107-1638.txt python main_TUs_graph_classification.py --dataset CMR_Rep1 --config ./configs/test/TOXGIN1.json\n",
      "bsub -q bio -o bio_grid/TOXGIN1CMR_Rep2_0107-1638.txt -e bio_grid/TOXGIN1CMR_Rep2_0107-1638.txt python main_TUs_graph_classification.py --dataset CMR_Rep2 --config ./configs/test/TOXGIN1.json\n",
      "bsub -q bio -o bio_grid/TOXGIN1CMR_Rep3_0107-1638.txt -e bio_grid/TOXGIN1CMR_Rep3_0107-1638.txt python main_TUs_graph_classification.py --dataset CMR_Rep3 --config ./configs/test/TOXGIN1.json\n",
      "bsub -q bio -o bio_grid/TOXGIN1CMR_Rep4_0107-1638.txt -e bio_grid/TOXGIN1CMR_Rep4_0107-1638.txt python main_TUs_graph_classification.py --dataset CMR_Rep4 --config ./configs/test/TOXGIN1.json\n",
      "bsub -q bio -o bio_grid/TOXGIN2CMR_Rep1_0107-1638.txt -e bio_grid/TOXGIN2CMR_Rep1_0107-1638.txt python main_TUs_graph_classification.py --dataset CMR_Rep1 --config ./configs/test/TOXGIN2.json\n",
      "bsub -q bio -o bio_grid/TOXGIN2CMR_Rep2_0107-1638.txt -e bio_grid/TOXGIN2CMR_Rep2_0107-1638.txt python main_TUs_graph_classification.py --dataset CMR_Rep2 --config ./configs/test/TOXGIN2.json\n",
      "bsub -q bio -o bio_grid/TOXGIN2CMR_Rep3_0107-1638.txt -e bio_grid/TOXGIN2CMR_Rep3_0107-1638.txt python main_TUs_graph_classification.py --dataset CMR_Rep3 --config ./configs/test/TOXGIN2.json\n",
      "bsub -q bio -o bio_grid/TOXGIN2CMR_Rep4_0107-1638.txt -e bio_grid/TOXGIN2CMR_Rep4_0107-1638.txt python main_TUs_graph_classification.py --dataset CMR_Rep4 --config ./configs/test/TOXGIN2.json\n",
      "bsub -q bio -o bio_grid/TOXGIN3CMR_Rep1_0107-1638.txt -e bio_grid/TOXGIN3CMR_Rep1_0107-1638.txt python main_TUs_graph_classification.py --dataset CMR_Rep1 --config ./configs/test/TOXGIN3.json\n",
      "bsub -q bio -o bio_grid/TOXGIN3CMR_Rep2_0107-1638.txt -e bio_grid/TOXGIN3CMR_Rep2_0107-1638.txt python main_TUs_graph_classification.py --dataset CMR_Rep2 --config ./configs/test/TOXGIN3.json\n",
      "bsub -q bio -o bio_grid/TOXGIN3CMR_Rep3_0107-1638.txt -e bio_grid/TOXGIN3CMR_Rep3_0107-1638.txt python main_TUs_graph_classification.py --dataset CMR_Rep3 --config ./configs/test/TOXGIN3.json\n",
      "bsub -q bio -o bio_grid/TOXGIN3CMR_Rep4_0107-1638.txt -e bio_grid/TOXGIN3CMR_Rep4_0107-1638.txt python main_TUs_graph_classification.py --dataset CMR_Rep4 --config ./configs/test/TOXGIN3.json\n",
      "bsub -q bio -o bio_grid/TOXGIN4CMR_Rep1_0107-1638.txt -e bio_grid/TOXGIN4CMR_Rep1_0107-1638.txt python main_TUs_graph_classification.py --dataset CMR_Rep1 --config ./configs/test/TOXGIN4.json\n",
      "bsub -q bio -o bio_grid/TOXGIN4CMR_Rep2_0107-1638.txt -e bio_grid/TOXGIN4CMR_Rep2_0107-1638.txt python main_TUs_graph_classification.py --dataset CMR_Rep2 --config ./configs/test/TOXGIN4.json\n",
      "bsub -q bio -o bio_grid/TOXGIN4CMR_Rep3_0107-1638.txt -e bio_grid/TOXGIN4CMR_Rep3_0107-1638.txt python main_TUs_graph_classification.py --dataset CMR_Rep3 --config ./configs/test/TOXGIN4.json\n",
      "bsub -q bio -o bio_grid/TOXGIN4CMR_Rep4_0107-1638.txt -e bio_grid/TOXGIN4CMR_Rep4_0107-1638.txt python main_TUs_graph_classification.py --dataset CMR_Rep4 --config ./configs/test/TOXGIN4.json\n",
      "bsub -q bio -o bio_grid/TOXGIN5CMR_Rep1_0107-1638.txt -e bio_grid/TOXGIN5CMR_Rep1_0107-1638.txt python main_TUs_graph_classification.py --dataset CMR_Rep1 --config ./configs/test/TOXGIN5.json\n",
      "bsub -q bio -o bio_grid/TOXGIN5CMR_Rep2_0107-1638.txt -e bio_grid/TOXGIN5CMR_Rep2_0107-1638.txt python main_TUs_graph_classification.py --dataset CMR_Rep2 --config ./configs/test/TOXGIN5.json\n",
      "bsub -q bio -o bio_grid/TOXGIN5CMR_Rep3_0107-1638.txt -e bio_grid/TOXGIN5CMR_Rep3_0107-1638.txt python main_TUs_graph_classification.py --dataset CMR_Rep3 --config ./configs/test/TOXGIN5.json\n",
      "bsub -q bio -o bio_grid/TOXGIN5CMR_Rep4_0107-1638.txt -e bio_grid/TOXGIN5CMR_Rep4_0107-1638.txt python main_TUs_graph_classification.py --dataset CMR_Rep4 --config ./configs/test/TOXGIN5.json\n",
      "bsub -q bio -o bio_grid/TOXGIN6CMR_Rep1_0107-1638.txt -e bio_grid/TOXGIN6CMR_Rep1_0107-1638.txt python main_TUs_graph_classification.py --dataset CMR_Rep1 --config ./configs/test/TOXGIN6.json\n",
      "bsub -q bio -o bio_grid/TOXGIN6CMR_Rep2_0107-1638.txt -e bio_grid/TOXGIN6CMR_Rep2_0107-1638.txt python main_TUs_graph_classification.py --dataset CMR_Rep2 --config ./configs/test/TOXGIN6.json\n",
      "bsub -q bio -o bio_grid/TOXGIN6CMR_Rep3_0107-1638.txt -e bio_grid/TOXGIN6CMR_Rep3_0107-1638.txt python main_TUs_graph_classification.py --dataset CMR_Rep3 --config ./configs/test/TOXGIN6.json\n",
      "bsub -q bio -o bio_grid/TOXGIN6CMR_Rep4_0107-1638.txt -e bio_grid/TOXGIN6CMR_Rep4_0107-1638.txt python main_TUs_graph_classification.py --dataset CMR_Rep4 --config ./configs/test/TOXGIN6.json\n",
      "bsub -q bio -o bio_grid/TOXGIN7CMR_Rep1_0107-1638.txt -e bio_grid/TOXGIN7CMR_Rep1_0107-1638.txt python main_TUs_graph_classification.py --dataset CMR_Rep1 --config ./configs/test/TOXGIN7.json\n",
      "bsub -q bio -o bio_grid/TOXGIN7CMR_Rep2_0107-1638.txt -e bio_grid/TOXGIN7CMR_Rep2_0107-1638.txt python main_TUs_graph_classification.py --dataset CMR_Rep2 --config ./configs/test/TOXGIN7.json\n",
      "bsub -q bio -o bio_grid/TOXGIN7CMR_Rep3_0107-1638.txt -e bio_grid/TOXGIN7CMR_Rep3_0107-1638.txt python main_TUs_graph_classification.py --dataset CMR_Rep3 --config ./configs/test/TOXGIN7.json\n",
      "bsub -q bio -o bio_grid/TOXGIN7CMR_Rep4_0107-1638.txt -e bio_grid/TOXGIN7CMR_Rep4_0107-1638.txt python main_TUs_graph_classification.py --dataset CMR_Rep4 --config ./configs/test/TOXGIN7.json\n",
      "bsub -q bio -o bio_grid/TOXGIN8CMR_Rep1_0107-1638.txt -e bio_grid/TOXGIN8CMR_Rep1_0107-1638.txt python main_TUs_graph_classification.py --dataset CMR_Rep1 --config ./configs/test/TOXGIN8.json\n",
      "bsub -q bio -o bio_grid/TOXGIN8CMR_Rep2_0107-1638.txt -e bio_grid/TOXGIN8CMR_Rep2_0107-1638.txt python main_TUs_graph_classification.py --dataset CMR_Rep2 --config ./configs/test/TOXGIN8.json\n",
      "bsub -q bio -o bio_grid/TOXGIN8CMR_Rep3_0107-1638.txt -e bio_grid/TOXGIN8CMR_Rep3_0107-1638.txt python main_TUs_graph_classification.py --dataset CMR_Rep3 --config ./configs/test/TOXGIN8.json\n",
      "bsub -q bio -o bio_grid/TOXGIN8CMR_Rep4_0107-1638.txt -e bio_grid/TOXGIN8CMR_Rep4_0107-1638.txt python main_TUs_graph_classification.py --dataset CMR_Rep4 --config ./configs/test/TOXGIN8.json\n",
      "bsub -q bio -o bio_grid/TOXGIN9CMR_Rep1_0107-1638.txt -e bio_grid/TOXGIN9CMR_Rep1_0107-1638.txt python main_TUs_graph_classification.py --dataset CMR_Rep1 --config ./configs/test/TOXGIN9.json\n",
      "bsub -q bio -o bio_grid/TOXGIN9CMR_Rep2_0107-1638.txt -e bio_grid/TOXGIN9CMR_Rep2_0107-1638.txt python main_TUs_graph_classification.py --dataset CMR_Rep2 --config ./configs/test/TOXGIN9.json\n",
      "bsub -q bio -o bio_grid/TOXGIN9CMR_Rep3_0107-1638.txt -e bio_grid/TOXGIN9CMR_Rep3_0107-1638.txt python main_TUs_graph_classification.py --dataset CMR_Rep3 --config ./configs/test/TOXGIN9.json\n",
      "bsub -q bio -o bio_grid/TOXGIN9CMR_Rep4_0107-1638.txt -e bio_grid/TOXGIN9CMR_Rep4_0107-1638.txt python main_TUs_graph_classification.py --dataset CMR_Rep4 --config ./configs/test/TOXGIN9.json\n",
      "bsub -q bio -o bio_grid/TOXGIN10CMR_Rep1_0107-1638.txt -e bio_grid/TOXGIN10CMR_Rep1_0107-1638.txt python main_TUs_graph_classification.py --dataset CMR_Rep1 --config ./configs/test/TOXGIN10.json\n",
      "bsub -q bio -o bio_grid/TOXGIN10CMR_Rep2_0107-1638.txt -e bio_grid/TOXGIN10CMR_Rep2_0107-1638.txt python main_TUs_graph_classification.py --dataset CMR_Rep2 --config ./configs/test/TOXGIN10.json\n",
      "bsub -q bio -o bio_grid/TOXGIN10CMR_Rep3_0107-1638.txt -e bio_grid/TOXGIN10CMR_Rep3_0107-1638.txt python main_TUs_graph_classification.py --dataset CMR_Rep3 --config ./configs/test/TOXGIN10.json\n"
     ]
    },
    {
     "name": "stdout",
     "output_type": "stream",
     "text": [
      "bsub -q bio -o bio_grid/TOXGIN10CMR_Rep4_0107-1638.txt -e bio_grid/TOXGIN10CMR_Rep4_0107-1638.txt python main_TUs_graph_classification.py --dataset CMR_Rep4 --config ./configs/test/TOXGIN10.json\n",
      "bsub -q bio -o bio_grid/TOXGIN11CMR_Rep1_0107-1638.txt -e bio_grid/TOXGIN11CMR_Rep1_0107-1638.txt python main_TUs_graph_classification.py --dataset CMR_Rep1 --config ./configs/test/TOXGIN11.json\n",
      "bsub -q bio -o bio_grid/TOXGIN11CMR_Rep2_0107-1638.txt -e bio_grid/TOXGIN11CMR_Rep2_0107-1638.txt python main_TUs_graph_classification.py --dataset CMR_Rep2 --config ./configs/test/TOXGIN11.json\n",
      "bsub -q bio -o bio_grid/TOXGIN11CMR_Rep3_0107-1638.txt -e bio_grid/TOXGIN11CMR_Rep3_0107-1638.txt python main_TUs_graph_classification.py --dataset CMR_Rep3 --config ./configs/test/TOXGIN11.json\n",
      "bsub -q bio -o bio_grid/TOXGIN11CMR_Rep4_0107-1638.txt -e bio_grid/TOXGIN11CMR_Rep4_0107-1638.txt python main_TUs_graph_classification.py --dataset CMR_Rep4 --config ./configs/test/TOXGIN11.json\n"
     ]
    }
   ],
   "source": [
    "# For loop creating jobs\n",
    "dataset = \"CMR_Rep\"\n",
    "# python $code --dataset $dataset --config 'configs/test/TOXGIN0.json'\n",
    "nt = datetime.datetime.now().strftime(\"%d%m-%H%M\")\n",
    "\n",
    "for i, configuration in enumerate(combis):\n",
    "    for j in [1,2,3,4]:\n",
    "        command = \"bsub -q bio \"\n",
    "        pyth = \" python main_TUs_graph_classification.py --dataset \"\n",
    "        conf = \" --config \"\n",
    "        save_name = 'TOX' + configuration['model'] + str(i) +'.json'\n",
    "        out_name = 'TOX' + configuration['model'] + str(i) + dataset + str(j) + \"_\" + str(nt) + \".txt\"\n",
    "        out = \"-o bio_grid/\" + out_name\n",
    "        error = \" -e bio_grid/\" + out_name\n",
    "        job =  command + out + error + pyth + dataset + str(j) + conf + output_path + save_name\n",
    "\n",
    "        \n",
    "        # Wait until the job can be added to the queue\n",
    "#         while get_num_running_jobs() >= max_running_jobs:\n",
    "#             time.sleep(60)\n",
    "        \n",
    "        print(job)\n",
    "        os.system(job)\n",
    "        time.sleep(1)\n",
    "        "
   ]
  },
  {
   "cell_type": "code",
   "execution_count": null,
   "metadata": {},
   "outputs": [],
   "source": []
  }
 ],
 "metadata": {
  "kernelspec": {
   "display_name": "Python 3",
   "language": "python",
   "name": "python3"
  },
  "language_info": {
   "codemirror_mode": {
    "name": "ipython",
    "version": 3
   },
   "file_extension": ".py",
   "mimetype": "text/x-python",
   "name": "python",
   "nbconvert_exporter": "python",
   "pygments_lexer": "ipython3",
   "version": "3.7.4"
  }
 },
 "nbformat": 4,
 "nbformat_minor": 4
}

{
 "cells": [
  {
   "cell_type": "code",
   "execution_count": 1,
   "metadata": {},
   "outputs": [],
   "source": [
    "from os import listdir\n",
    "from os.path import isfile, join\n",
    "import os\n",
    "mypath = os.getcwd()\n",
    "onlyfiles = [f for f in listdir(mypath) if isfile(join(mypath, f))]"
   ]
  },
  {
   "cell_type": "code",
   "execution_count": 2,
   "metadata": {},
   "outputs": [
    {
     "name": "stdout",
     "output_type": "stream",
     "text": [
      "JobSubmitterGIN.ipynb\n",
      "JobSubmitterGatedGCN.ipynb\n",
      "JobSubmitterMLP.ipynb\n",
      "LICENSE\n",
      "README.md\n",
      "Untitled.ipynb\n",
      "environment_cpu.yml\n",
      "environment_gpu.yml\n",
      "example.sh\n",
      "main_TUs_graph_classification.py\n"
     ]
    }
   ],
   "source": [
    "onlyfiles = sorted(onlyfiles)\n",
    "for f in onlyfiles:\n",
    "    print(f)"
   ]
  },
  {
   "cell_type": "code",
   "execution_count": 3,
   "metadata": {},
   "outputs": [],
   "source": [
    "huh = \"Rep1\"\n",
    "\n",
    "for file_txt in onlyfiles:\n",
    "    \n",
    "    if file_txt[-3:] == \"txt\":\n",
    "        if file_txt.split(\"_\")[3] != huh:\n",
    "            huh = file_txt.split(\"_\")[3] \n",
    "            print(\"\")\n",
    "        file = open(file_txt, mode = 'r', encoding = 'utf-8-sig')\n",
    "        lines = file.readlines()\n",
    "        file.close()\n",
    "        printed=False\n",
    "        hd=\"\"\n",
    "        acc=\"\"\n",
    "        \n",
    "        for l in lines:\n",
    "            if \"hidden_dim\" in str(l) and \"nan\" not in str(l):\n",
    "#                 print(list(enumerate(str(l).strip().split(\" \"))))\n",
    "                hd=(str(l).strip().split(\" \")[1],str(l).strip().split(\" \")[3],str(l).strip().split(\" \")[9])\n",
    "#                 hd=(str(l).strip().split(\" \")[1],str(l).strip().split(\" \")[11],str(l).strip().split(\" \")[13],str(l).strip().split(\" \")[25])\n",
    "#                 hd=(str(l).strip().split(\" \")[1],str(l).strip().split(\" \")[15],str(l).strip().split(\" \")[17],str(l).strip().split(\" \")[27])\n",
    "            if \"TEST ACCURACY averaged\" in str(l) and \"nan\" not in str(l):\n",
    "                acc=str(l).strip().split(\" \")[3]\n",
    "            if \"All Splits\" in str(l):\n",
    "                check = len(list(l.split(\"[\")[-1].split(\" \")))\n",
    "#                 printed = True\n",
    "#         print(file_txt)\n",
    "        print(file_txt,hd,acc)\n",
    "#         if not printed:\n",
    "#             print(file_txt)\n",
    "#         print(file_txt.split(\"_\"))\n"
   ]
  },
  {
   "cell_type": "code",
   "execution_count": null,
   "metadata": {},
   "outputs": [],
   "source": []
  }
 ],
 "metadata": {
  "kernelspec": {
   "display_name": "Python 3",
   "language": "python",
   "name": "python3"
  },
  "language_info": {
   "codemirror_mode": {
    "name": "ipython",
    "version": 3
   },
   "file_extension": ".py",
   "mimetype": "text/x-python",
   "name": "python",
   "nbconvert_exporter": "python",
   "pygments_lexer": "ipython3",
   "version": "3.8.1"
  }
 },
 "nbformat": 4,
 "nbformat_minor": 4
}

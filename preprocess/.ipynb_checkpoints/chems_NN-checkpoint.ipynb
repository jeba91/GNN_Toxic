{
 "cells": [
  {
   "cell_type": "code",
   "execution_count": 21,
   "metadata": {},
   "outputs": [],
   "source": [
    "import torch\n",
    "import torch.nn.functional as F\n",
    "import torch.nn as nn\n",
    "import torchvision\n",
    "import torchvision.transforms as transforms\n",
    "\n",
    "import numpy as np\n",
    "import copy\n",
    "import pandas as pd\n",
    "\n",
    "import matplotlib.pyplot as plt\n",
    "\n",
    "from torch import optim\n",
    "from rdkit import Chem\n",
    "from rdkit.Chem import AllChem\n",
    "\n",
    "from sklearn import svm\n",
    "from sklearn.ensemble import RandomForestClassifier\n",
    "from sklearn.model_selection import StratifiedKFold\n",
    "from sklearn.model_selection import train_test_split\n",
    "from sklearn.metrics import confusion_matrix\n",
    "from sklearn.metrics import accuracy_score\n",
    "from sklearn.metrics import balanced_accuracy_score"
   ]
  },
  {
   "cell_type": "code",
   "execution_count": 2,
   "metadata": {},
   "outputs": [],
   "source": [
    "device = torch.device('cuda' if torch.cuda.is_available() else 'cpu')\n",
    "chems_data = pd.read_excel('1 Supplemental Excel data.xlsx', sheet_name = 1, header=1)\n",
    "chems_extfp = pd.read_excel('1 Supplemental Excel data.xlsx', sheet_name = 2, header=0)\n",
    "chems_maccs = pd.read_excel('1 Supplemental Excel data.xlsx', sheet_name = 3, header=0)\n",
    "chems_fcfp4 = pd.read_excel('1 Supplemental Excel data.xlsx', sheet_name = 4, header=0)"
   ]
  },
  {
   "cell_type": "code",
   "execution_count": 3,
   "metadata": {},
   "outputs": [],
   "source": [
    "class NeuralNet1(nn.Module):\n",
    "    def __init__(self, inp_size, hid1, hid2, hid3):\n",
    "        super().__init__()\n",
    "        self.fc1 = nn.Linear(inp_size, hid1)\n",
    "        self.fc2 = nn.Linear(hid1, hid2)\n",
    "        self.fc3 = nn.Linear(hid2, hid3)\n",
    "        self.fc4 = nn.Linear(hid3, 1)\n",
    "        self.dropout = nn.Dropout(p=0.5)\n",
    "  \n",
    "    def forward(self, x):\n",
    "        x = self.dropout(torch.relu(self.fc1(x)))\n",
    "        x = self.dropout(torch.relu(self.fc2(x)))\n",
    "        x = self.dropout(torch.relu(self.fc3(x)))\n",
    "        x = torch.sigmoid(self.fc4(x))\n",
    "        return x"
   ]
  },
  {
   "cell_type": "code",
   "execution_count": 4,
   "metadata": {},
   "outputs": [],
   "source": [
    "def trainer(input_size, H1, H2, H3, lr, X_training, y_training, X_valid, y_valid, epochs, batch_size):\n",
    "    modelNN = NeuralNet1(input_size, H1, H2, H3)\n",
    "    #weight_decay= 1e-6, momentum = 0.9, nesterov = True\n",
    "    optimizer = optim.SGD(modelNN.parameters(), lr=lr)\n",
    "    loss_function = nn.BCELoss()\n",
    "    tl, vl = [], []\n",
    "    lowest_loss = 1000\n",
    "    for epoch in range(epochs):\n",
    "        train_loss, valid_loss = [], []\n",
    "        ## training part \n",
    "        modelNN.train()\n",
    "        batches = int(np.floor(len(X_training)/batch_size))\n",
    "\n",
    "        for i in range(batches):\n",
    "            \n",
    "            optimizer.zero_grad()\n",
    "            ## 1. forward propagation\n",
    "            start = i*batch_size\n",
    "            end = (i+1)*batch_size\n",
    "\n",
    "            output = modelNN(X_training[start:end])\n",
    "\n",
    "            ## 2. loss calculation\n",
    "            loss = loss_function(output.view(-1,1), y_training[start:end].view(-1,1))\n",
    "\n",
    "            ## 3. backward propagation\n",
    "            loss.backward()\n",
    "\n",
    "            ## 4. weight optimization\n",
    "            optimizer.step()\n",
    "\n",
    "            train_loss.append(loss.item())\n",
    "\n",
    "        ## evaluation part \n",
    "        modelNN.eval()\n",
    "        loss = loss_function(modelNN(X_valid), y_valid)\n",
    "        valid_loss.append(loss.item())\n",
    "        if epoch % 10 == 0:\n",
    "            print (\"Epoch:\", epoch, \"Training Loss: \", np.mean(train_loss), \"Validation Loss: \", np.mean(valid_loss))\n",
    "        tl.append(np.mean(train_loss))\n",
    "        vl.append(np.mean(valid_loss))\n",
    "    plt.plot(tl)\n",
    "    plt.plot(vl)\n",
    "    plt.show()\n",
    "    print('epoch min valid', vl.index(min(vl)))\n",
    "    return modelNN"
   ]
  },
  {
   "cell_type": "code",
   "execution_count": 5,
   "metadata": {},
   "outputs": [],
   "source": [
    "def trainer2(input_size, H1, H2, H3, lr, X_training, y_training, epochs, batch_size):\n",
    "    modelNN = NeuralNet1(input_size,H1, H2, H3)\n",
    "    #weight_decay= 1e-6, momentum = 0.9, nesterov = True\n",
    "    optimizer = optim.SGD(modelNN.parameters(), lr=lr)\n",
    "    loss_function = nn.BCELoss()\n",
    "    tl, vl = [], []\n",
    "    for epoch in range(epochs):\n",
    "        train_loss, valid_loss = [], []\n",
    "        ## training part \n",
    "        modelNN.train()\n",
    "        batches = int(np.floor(len(X_training)/batch_size))\n",
    "\n",
    "        for i in range(batches):\n",
    "            \n",
    "            optimizer.zero_grad()\n",
    "            ## 1. forward propagation\n",
    "            start = i*batch_size\n",
    "            end = (i+1)*batch_size\n",
    "\n",
    "            output = modelNN(X_training[start:end])\n",
    "\n",
    "            ## 2. loss calculation\n",
    "            loss = loss_function(output.view(-1,1), y_training[start:end].view(-1,1))\n",
    "\n",
    "            ## 3. backward propagation\n",
    "            loss.backward()\n",
    "\n",
    "            ## 4. weight optimization\n",
    "            optimizer.step()\n",
    "\n",
    "            train_loss.append(loss.item())\n",
    "\n",
    "    return modelNN"
   ]
  },
  {
   "cell_type": "code",
   "execution_count": 6,
   "metadata": {},
   "outputs": [],
   "source": [
    "def score_model(X_test, model_in, y_test):\n",
    "    model_in.eval()\n",
    "    output = model_in(X_test)\n",
    "    output = [1 if x[0] >= 0.50 else 0 for x in output.tolist()]\n",
    "    tn, fp, fn, tp = confusion_matrix(y_test.tolist(), output).ravel()\n",
    "    print(\"tn=\", tn, \"fp=\", fp, \"fn=\", fn, \"tp=\", tp)\n",
    "    print(balanced_accuracy_score(y_test.tolist(), output))\n",
    "    return balanced_accuracy_score(y_test.tolist(), output), accuracy_score(y_test.tolist(), output)"
   ]
  },
  {
   "cell_type": "code",
   "execution_count": 10,
   "metadata": {},
   "outputs": [],
   "source": [
    "robcmr = 'Excluded in robustness check 2 - CMR'\n",
    "robpbt = 'Excluded in robustness check 2 - PBT/vPvB'\n",
    "robed = 'Excluded in robustness check 0 - ED'\n",
    "sm = 'SMILES'"
   ]
  },
  {
   "cell_type": "code",
   "execution_count": 11,
   "metadata": {},
   "outputs": [],
   "source": [
    "neg_ext = pd.read_csv('06_ExtendedFingerprint_Negative_List.csv', sep=';', engine='python')\n",
    "pos_ext = pd.read_csv('06_ExtendedFingerprint_Positive_List.csv', sep=';', engine='python')\n",
    "\n",
    "neg_maccs = pd.read_csv('01_MACCS_Negative_List.csv', sep=';', engine='python')\n",
    "pos_maccs = pd.read_csv('01_MACCS_Positive_List.csv', sep=';', engine='python')\n",
    "\n",
    "neg_fcfp = pd.read_csv('15_FCFP4_Negative_List.csv', sep=';', engine='python')\n",
    "pos_fcfp = pd.read_csv('15_FCFP4_Positive_List.csv', sep=';', engine='python')"
   ]
  },
  {
   "cell_type": "code",
   "execution_count": 12,
   "metadata": {},
   "outputs": [],
   "source": [
    "neg_ext = neg_ext.loc[~neg_ext[sm].isin(chems_data[sm].loc[chems_data[robcmr] == 1].tolist())]\n",
    "pos_ext = pos_ext.loc[~pos_ext[sm].isin(chems_data[sm].loc[chems_data[robcmr] == 1].tolist())]\n",
    "\n",
    "neg_maccs = neg_maccs.loc[~neg_maccs[sm].isin(chems_data[sm].loc[chems_data[robpbt] == 1].tolist())]\n",
    "pos_maccs = pos_maccs.loc[~pos_maccs[sm].isin(chems_data[sm].loc[chems_data[robpbt] == 1].tolist())]\n",
    "\n",
    "neg_fcfp = neg_fcfp.loc[~neg_fcfp[sm].isin(chems_data[sm].loc[chems_data[robed] == 1].tolist())]\n",
    "pos_fcfp = pos_fcfp.loc[~pos_fcfp[sm].isin(chems_data[sm].loc[chems_data[robed] == 1].tolist())]"
   ]
  },
  {
   "cell_type": "code",
   "execution_count": 18,
   "metadata": {},
   "outputs": [],
   "source": [
    "fp_cols = neg_ext.columns[13:].values.tolist()\n",
    "chems_ext = pos_ext[fp_cols+['CMR']].append(neg_ext[fp_cols+['CMR']])\n",
    "\n",
    "chems_extC = pos_ext[fp_cols+['C']].append(neg_ext[fp_cols+['C']])\n",
    "chems_extM = pos_ext[fp_cols+['M']].append(neg_ext[fp_cols+['M']])\n",
    "chems_extR = pos_ext[fp_cols+['R']].append(neg_ext[fp_cols+['R']])\n",
    "\n",
    "fp_cols = neg_maccs.columns[13:].values.tolist()\n",
    "chems_maccs = pos_maccs[fp_cols+['PBT/vPvB']].append(neg_maccs[fp_cols+['PBT/vPvB']])\n",
    "smiles_maccs = pos_maccs['SMILES'].append(neg_maccs['SMILES'])\n",
    "\n",
    "chems_maccsPBT = pos_maccs[fp_cols+['PBT']].append(neg_maccs[fp_cols+['PBT']])\n",
    "chems_maccsvPvB = pos_maccs[fp_cols+['vPvB']].append(neg_maccs[fp_cols+['vPvB']])\n",
    "\n",
    "fp_cols = neg_fcfp.columns[13:].values.tolist()\n",
    "chems_fcfp = pos_fcfp[fp_cols+['ED']].append(neg_fcfp[fp_cols+['ED']])"
   ]
  },
  {
   "cell_type": "code",
   "execution_count": 19,
   "metadata": {},
   "outputs": [
    {
     "name": "stdout",
     "output_type": "stream",
     "text": [
      "(838, 167)\n",
      "(838, 1024)\n",
      "(838, 1024)\n"
     ]
    }
   ],
   "source": [
    "from rdkit.Chem import MACCSkeys\n",
    "all_fp = pd.DataFrame()\n",
    "all_fp['mols'] = smiles_maccs.apply(lambda x: Chem.MolFromSmiles(x))\n",
    "all_fp['MACCS'] = all_fp['mols'].apply(lambda x: MACCSkeys.GenMACCSKeys(x).ToBitString())\n",
    "all_fp['fcfp4'] = all_fp['mols'].apply(lambda x: AllChem.GetMorganFingerprintAsBitVect(x,4,useFeatures=True,nBits=1024).ToBitString())\n",
    "all_fp['ecfp4'] = all_fp['mols'].apply(lambda x: AllChem.GetMorganFingerprintAsBitVect(x,4,nBits=1024).ToBitString())\n",
    "maccs = pd.DataFrame([list(map(int,str(x))) for x in list(all_fp['MACCS'].values)])\n",
    "print(maccs.shape)\n",
    "fcfp4 = pd.DataFrame([list(map(int,str(x))) for x in list(all_fp['fcfp4'].values)])\n",
    "print(fcfp4.shape)\n",
    "ecfp4 = pd.DataFrame([list(map(int,str(x))) for x in list(all_fp['ecfp4'].values)])\n",
    "print(ecfp4.shape)"
   ]
  },
  {
   "cell_type": "code",
   "execution_count": 20,
   "metadata": {},
   "outputs": [],
   "source": [
    "total = pd.DataFrame()\n",
    "# total = pd.concat([total, maccs],axis=1)\n",
    "total = pd.concat([total, fcfp4],axis=1)\n",
    "total = pd.concat([total, ecfp4],axis=1)\n",
    "total['PBT/vPvB'] = copy.deepcopy(chems_maccs['PBT/vPvB'].values)"
   ]
  },
  {
   "cell_type": "code",
   "execution_count": 26,
   "metadata": {},
   "outputs": [],
   "source": [
    "#CMR\n",
    "# learning_rate, epochs, inp, hid, dataset, label_str = 5E-5, 35, 1024, 512, chems_ext, 'CMR'\n",
    "# learning_rate, epochs, inp, hid, dataset, label_str = 5E-5, 35, 1024, 512, total, 'CMR'\n",
    "# C\n",
    "# learning_rate, epochs, inp, hid, dataset, label_str = 1E-4, 12, 1024, 512, chems_extC, 'C'\n",
    "#M\n",
    "# learning_rate, epochs, inp, hid, dataset, label_str = 3E-4, 10, 1024, 512, chems_extM, 'M'\n",
    "#R\n",
    "# learning_rate, epochs, inp, hid, dataset, label_str = 1E-4, 18, 1024, 512, chems_extR, 'R'\n",
    "\n",
    "#PBT/vPvB\n",
    "learning_rate, epochs, inp, hid1, hid2, hid3, dataset, label_str = 1E-2, 18, 166, 84, 42, 21, chems_maccs, 'PBT/vPvB'\n",
    "# learning_rate, epochs, inp, hid, dataset, label_str = 5E-4, 18, 166, 83, total, 'PBT/vPvB'\n",
    "\n",
    "#ED\n",
    "# learning_rate, epochs, inp, hid, dataset, label_str = 5E-4, 16, 1024, 512, chems_fcfp, 'ED'"
   ]
  },
  {
   "cell_type": "code",
   "execution_count": 37,
   "metadata": {},
   "outputs": [
    {
     "name": "stderr",
     "output_type": "stream",
     "text": [
      "/home/jeroen/miniconda3/envs/chemtest/lib/python3.7/site-packages/torch/nn/modules/loss.py:498: UserWarning: Using a target size (torch.Size([134])) that is different to the input size (torch.Size([134, 1])) is deprecated. Please ensure they have the same size.\n",
      "  return F.binary_cross_entropy(input, target, weight=self.weight, reduction=self.reduction)\n"
     ]
    },
    {
     "name": "stdout",
     "output_type": "stream",
     "text": [
      "Epoch: 0 Training Loss:  0.628721608179752 Validation Loss:  0.5630580186843872\n",
      "Epoch: 10 Training Loss:  0.35451103858301575 Validation Loss:  0.3225941061973572\n",
      "Epoch: 20 Training Loss:  0.3057898444201902 Validation Loss:  0.23972727358341217\n",
      "Epoch: 30 Training Loss:  0.2467224693935469 Validation Loss:  0.18864548206329346\n",
      "Epoch: 40 Training Loss:  0.22894557194880027 Validation Loss:  0.1574869155883789\n",
      "Epoch: 50 Training Loss:  0.17155273732509005 Validation Loss:  0.12606431543827057\n",
      "Epoch: 60 Training Loss:  0.12294359518514666 Validation Loss:  0.10956242680549622\n",
      "Epoch: 70 Training Loss:  0.1065449531675963 Validation Loss:  0.09386104345321655\n",
      "Epoch: 80 Training Loss:  0.0994123202388184 Validation Loss:  0.07794691622257233\n",
      "Epoch: 90 Training Loss:  0.0831076433060638 Validation Loss:  0.07492706924676895\n",
      "Epoch: 100 Training Loss:  0.07039362113887578 Validation Loss:  0.06798990815877914\n",
      "Epoch: 110 Training Loss:  0.0828143322772295 Validation Loss:  0.06562422215938568\n"
     ]
    },
    {
     "data": {
      "image/png": "[encoded data removed]",
      "text/plain": [
       "<Figure size 432x288 with 1 Axes>"
      ]
     },
     "metadata": {
      "needs_background": "light"
     },
     "output_type": "display_data"
    },
    {
     "name": "stdout",
     "output_type": "stream",
     "text": [
      "epoch min valid 99\n",
      "tn= 114 fp= 2 fn= 1 tp= 17\n",
      "0.9636015325670497\n",
      "Epoch: 0 Training Loss:  0.5905977192326127 Validation Loss:  0.5354204773902893\n"
     ]
    },
    {
     "name": "stderr",
     "output_type": "stream",
     "text": [
      "/home/jeroen/miniconda3/envs/chemtest/lib/python3.7/site-packages/torch/nn/modules/loss.py:498: UserWarning: Using a target size (torch.Size([134])) that is different to the input size (torch.Size([134, 1])) is deprecated. Please ensure they have the same size.\n",
      "  return F.binary_cross_entropy(input, target, weight=self.weight, reduction=self.reduction)\n"
     ]
    },
    {
     "name": "stdout",
     "output_type": "stream",
     "text": [
      "Epoch: 10 Training Loss:  0.348515607555893 Validation Loss:  0.33361777663230896\n",
      "Epoch: 20 Training Loss:  0.29330191325187405 Validation Loss:  0.25687065720558167\n",
      "Epoch: 30 Training Loss:  0.2387128945953587 Validation Loss:  0.22213828563690186\n",
      "Epoch: 40 Training Loss:  0.2126660234595118 Validation Loss:  0.2034117728471756\n",
      "Epoch: 50 Training Loss:  0.14831848717476873 Validation Loss:  0.18893398344516754\n",
      "Epoch: 60 Training Loss:  0.11301024773780136 Validation Loss:  0.21796205639839172\n",
      "Epoch: 70 Training Loss:  0.10195269315546437 Validation Loss:  0.21494711935520172\n",
      "Epoch: 80 Training Loss:  0.06692739006719738 Validation Loss:  0.24819812178611755\n",
      "Epoch: 90 Training Loss:  0.060020502544879784 Validation Loss:  0.28804460167884827\n",
      "Epoch: 100 Training Loss:  0.05414527848415982 Validation Loss:  0.313236266374588\n",
      "Epoch: 110 Training Loss:  0.04500279753898445 Validation Loss:  0.34135621786117554\n"
     ]
    },
    {
     "data": {
      "image/png": "[encoded data removed]",
      "text/plain": [
       "<Figure size 432x288 with 1 Axes>"
      ]
     },
     "metadata": {
      "needs_background": "light"
     },
     "output_type": "display_data"
    },
    {
     "name": "stdout",
     "output_type": "stream",
     "text": [
      "epoch min valid 54\n",
      "tn= 111 fp= 5 fn= 4 tp= 14\n",
      "0.8673371647509578\n"
     ]
    },
    {
     "name": "stderr",
     "output_type": "stream",
     "text": [
      "/home/jeroen/miniconda3/envs/chemtest/lib/python3.7/site-packages/torch/nn/modules/loss.py:498: UserWarning: Using a target size (torch.Size([134])) that is different to the input size (torch.Size([134, 1])) is deprecated. Please ensure they have the same size.\n",
      "  return F.binary_cross_entropy(input, target, weight=self.weight, reduction=self.reduction)\n"
     ]
    },
    {
     "name": "stdout",
     "output_type": "stream",
     "text": [
      "Epoch: 0 Training Loss:  0.625522910434509 Validation Loss:  0.5658262968063354\n",
      "Epoch: 10 Training Loss:  0.3543758298331332 Validation Loss:  0.32243812084198\n",
      "Epoch: 20 Training Loss:  0.2931897416014538 Validation Loss:  0.25603896379470825\n",
      "Epoch: 30 Training Loss:  0.2683508910378006 Validation Loss:  0.22715993225574493\n",
      "Epoch: 40 Training Loss:  0.21628851296432386 Validation Loss:  0.2151961624622345\n",
      "Epoch: 50 Training Loss:  0.1641237324954524 Validation Loss:  0.21050827205181122\n",
      "Epoch: 60 Training Loss:  0.13660044025599294 Validation Loss:  0.2172805517911911\n",
      "Epoch: 70 Training Loss:  0.11579121784407702 Validation Loss:  0.23256132006645203\n",
      "Epoch: 80 Training Loss:  0.10205804440999099 Validation Loss:  0.27057817578315735\n",
      "Epoch: 90 Training Loss:  0.08320459022349717 Validation Loss:  0.2925465703010559\n",
      "Epoch: 100 Training Loss:  0.09361936677686292 Validation Loss:  0.30489465594291687\n",
      "Epoch: 110 Training Loss:  0.06305965773224069 Validation Loss:  0.3449486792087555\n"
     ]
    },
    {
     "data": {
      "image/png": "[encoded data removed]",
      "text/plain": [
       "<Figure size 432x288 with 1 Axes>"
      ]
     },
     "metadata": {
      "needs_background": "light"
     },
     "output_type": "display_data"
    },
    {
     "name": "stdout",
     "output_type": "stream",
     "text": [
      "epoch min valid 47\n",
      "tn= 112 fp= 4 fn= 2 tp= 16\n",
      "0.9272030651340997\n",
      "Epoch: 0 Training Loss:  0.6197157672075467 Validation Loss:  0.5548516511917114\n"
     ]
    },
    {
     "name": "stderr",
     "output_type": "stream",
     "text": [
      "/home/jeroen/miniconda3/envs/chemtest/lib/python3.7/site-packages/torch/nn/modules/loss.py:498: UserWarning: Using a target size (torch.Size([135])) that is different to the input size (torch.Size([135, 1])) is deprecated. Please ensure they have the same size.\n",
      "  return F.binary_cross_entropy(input, target, weight=self.weight, reduction=self.reduction)\n"
     ]
    },
    {
     "name": "stdout",
     "output_type": "stream",
     "text": [
      "Epoch: 10 Training Loss:  0.343429611351724 Validation Loss:  0.33502519130706787\n",
      "Epoch: 20 Training Loss:  0.271783510745268 Validation Loss:  0.29775872826576233\n",
      "Epoch: 30 Training Loss:  0.2074539640061035 Validation Loss:  0.31515103578567505\n",
      "Epoch: 40 Training Loss:  0.1647725113642796 Validation Loss:  0.357636421918869\n",
      "Epoch: 50 Training Loss:  0.11830747489997284 Validation Loss:  0.4582652449607849\n",
      "Epoch: 60 Training Loss:  0.10124306445349222 Validation Loss:  0.5486360788345337\n",
      "Epoch: 70 Training Loss:  0.0748485546960395 Validation Loss:  0.6428912878036499\n",
      "Epoch: 80 Training Loss:  0.07481884950570251 Validation Loss:  0.7734607458114624\n",
      "Epoch: 90 Training Loss:  0.046546273623814506 Validation Loss:  0.9453456997871399\n",
      "Epoch: 100 Training Loss:  0.04041159212872063 Validation Loss:  1.0814698934555054\n",
      "Epoch: 110 Training Loss:  0.047808461031111166 Validation Loss:  1.0357146263122559\n"
     ]
    },
    {
     "data": {
      "image/png": "[encoded data removed]",
      "text/plain": [
       "<Figure size 432x288 with 1 Axes>"
      ]
     },
     "metadata": {
      "needs_background": "light"
     },
     "output_type": "display_data"
    },
    {
     "name": "stdout",
     "output_type": "stream",
     "text": [
      "epoch min valid 21\n",
      "tn= 112 fp= 5 fn= 6 tp= 12\n",
      "0.811965811965812\n",
      "Epoch: 0 Training Loss:  0.5919244918867806 Validation Loss:  0.5399900078773499\n"
     ]
    },
    {
     "name": "stderr",
     "output_type": "stream",
     "text": [
      "/home/jeroen/miniconda3/envs/chemtest/lib/python3.7/site-packages/torch/nn/modules/loss.py:498: UserWarning: Using a target size (torch.Size([135])) that is different to the input size (torch.Size([135, 1])) is deprecated. Please ensure they have the same size.\n",
      "  return F.binary_cross_entropy(input, target, weight=self.weight, reduction=self.reduction)\n"
     ]
    },
    {
     "name": "stdout",
     "output_type": "stream",
     "text": [
      "Epoch: 10 Training Loss:  0.37357864911868194 Validation Loss:  0.3562118113040924\n",
      "Epoch: 20 Training Loss:  0.32592202092860345 Validation Loss:  0.2859901189804077\n",
      "Epoch: 30 Training Loss:  0.2570618557891695 Validation Loss:  0.250003457069397\n",
      "Epoch: 40 Training Loss:  0.21348288964706463 Validation Loss:  0.23263727128505707\n",
      "Epoch: 50 Training Loss:  0.18647776611114494 Validation Loss:  0.21482165157794952\n",
      "Epoch: 60 Training Loss:  0.1333654710026643 Validation Loss:  0.21604149043560028\n",
      "Epoch: 70 Training Loss:  0.11528775676805852 Validation Loss:  0.245038241147995\n",
      "Epoch: 80 Training Loss:  0.10095820100892848 Validation Loss:  0.254151850938797\n",
      "Epoch: 90 Training Loss:  0.08549488992157081 Validation Loss:  0.31133556365966797\n",
      "Epoch: 100 Training Loss:  0.07757144410865821 Validation Loss:  0.32422155141830444\n",
      "Epoch: 110 Training Loss:  0.06547121930552326 Validation Loss:  0.37371307611465454\n"
     ]
    },
    {
     "data": {
      "image/png": "[encoded data removed]",
      "text/plain": [
       "<Figure size 432x288 with 1 Axes>"
      ]
     },
     "metadata": {
      "needs_background": "light"
     },
     "output_type": "display_data"
    },
    {
     "name": "stdout",
     "output_type": "stream",
     "text": [
      "epoch min valid 51\n",
      "tn= 116 fp= 1 fn= 6 tp= 12\n",
      "0.829059829059829\n"
     ]
    }
   ],
   "source": [
    "skf = StratifiedKFold(n_splits=5, random_state=79, shuffle=True)\n",
    "x, y = list(skf.split(dataset.values, dataset[[label_str]].values))[0]\n",
    "\n",
    "\n",
    "for train_idx, test_idx in skf.split(dataset.values, dataset[[label_str]].values):\n",
    "    train, vali = train_test_split(train_idx, test_size=0.2, shuffle=True, random_state=79, stratify=dataset.values[train_idx,-1])\n",
    "    X_train = torch.from_numpy(np.array(dataset.values[train,:-1])).type(torch.Tensor)\n",
    "    y_train = torch.from_numpy(np.array(dataset.values[train, -1])).type(torch.Tensor)\n",
    "\n",
    "    X_vali = torch.from_numpy(np.array(dataset.values[vali,:-1])).type(torch.Tensor)\n",
    "    y_vali = torch.from_numpy(np.array(dataset.values[vali,-1])).type(torch.Tensor)\n",
    "\n",
    "    trained_model = trainer(inp, hid1, hid2, hid3, learning_rate, X_train, y_train, X_vali, y_vali, 120, 5)\n",
    "    score_model(X_vali, trained_model, y_vali)"
   ]
  },
  {
   "cell_type": "code",
   "execution_count": 39,
   "metadata": {
    "scrolled": true
   },
   "outputs": [
    {
     "name": "stdout",
     "output_type": "stream",
     "text": [
      "tn= 143 fp= 2 fn= 4 tp= 19\n",
      "0.9061469265367317\n",
      "vals positief\n",
      "vals negatief\n",
      "tn= 139 fp= 6 fn= 4 tp= 19\n",
      "0.8923538230884558\n",
      "vals positief\n",
      "vals negatief\n",
      "tn= 144 fp= 1 fn= 5 tp= 18\n",
      "0.8878560719640181\n",
      "vals positief\n",
      "vals negatief\n",
      "tn= 141 fp= 4 fn= 4 tp= 18\n",
      "0.8952978056426333\n",
      "vals positief\n",
      "vals negatief\n",
      "tn= 143 fp= 2 fn= 7 tp= 15\n",
      "0.8340125391849529\n",
      "vals positief\n",
      "vals negatief\n",
      "0.8831334332833582\n",
      "0.9534502423723981\n"
     ]
    }
   ],
   "source": [
    "skf = StratifiedKFold(n_splits=5, random_state=79, shuffle=True)\n",
    "\n",
    "vals_neg = []\n",
    "vals_pos = []\n",
    "\n",
    "outputs = []\n",
    "accuracies = []\n",
    "idx = 0\n",
    "eps = [100, 100, 100, 100, 100]\n",
    "for train_idx, test_idx in skf.split(dataset.values, dataset[[label_str]].values):\n",
    "    \n",
    "    X_train = torch.from_numpy(np.array(dataset.values[train_idx,:-1])).type(torch.Tensor)\n",
    "    y_train = torch.from_numpy(np.array(dataset.values[train_idx, -1])).type(torch.Tensor)\n",
    "\n",
    "    X_test = torch.from_numpy(np.array(dataset.values[test_idx,:-1])).type(torch.Tensor)\n",
    "    y_test = torch.from_numpy(np.array(dataset.values[test_idx,-1])).type(torch.Tensor)\n",
    "    \n",
    "    \n",
    "    trained_model = trainer2(inp, hid1, hid2, hid3, learning_rate, X_train, y_train, eps[idx], 5)\n",
    "    accuracies.append(score_model(X_test, trained_model, y_test))\n",
    "    idx+=1\n",
    "    \n",
    "    trained_model.eval()\n",
    "    output = trained_model(X_test)\n",
    "    output = [1 if x[0] >= 0.50 else 0 for x in output.tolist()]\n",
    "    print('vals positief')\n",
    "    for i in range(len(output)):\n",
    "        if output[i] == 1 and y_test[i] != 1:\n",
    "            vals_pos.append(smiles_maccs.values[test_idx][i])\n",
    "    print('vals negatief')\n",
    "    for i in range(len(output)):\n",
    "        if output[i] != 1 and y_test[i] == 1:\n",
    "            vals_neg.append(smiles_maccs.values[test_idx][i])\n",
    "\n",
    "print(np.mean([x[0] for x in accuracies]))\n",
    "print(np.mean([x[1] for x in accuracies]))"
   ]
  },
  {
   "cell_type": "code",
   "execution_count": 113,
   "metadata": {},
   "outputs": [],
   "source": [
    "dataset, label_str = total, 'PBT/vPvB'"
   ]
  },
  {
   "cell_type": "code",
   "execution_count": 114,
   "metadata": {},
   "outputs": [],
   "source": [
    "from sklearn.ensemble import AdaBoostClassifier\n",
    "from sklearn.ensemble import GradientBoostingClassifier\n",
    "# model_ad = AdaBoostClassifier()\n",
    "# model_ad.fit(x_train_res , y_train_res)\n",
    "# y_pred = model_GB.predict(X_test)"
   ]
  },
  {
   "cell_type": "code",
   "execution_count": 115,
   "metadata": {},
   "outputs": [
    {
     "name": "stdout",
     "output_type": "stream",
     "text": [
      "(838, 2049)\n"
     ]
    }
   ],
   "source": [
    "print(total.shape)"
   ]
  },
  {
   "cell_type": "code",
   "execution_count": 116,
   "metadata": {},
   "outputs": [
    {
     "name": "stdout",
     "output_type": "stream",
     "text": [
      "tn= 145 fp= 0 fn= 12 tp= 11\n",
      "tn= 145 fp= 0 fn= 10 tp= 13\n",
      "tn= 144 fp= 1 fn= 8 tp= 15\n",
      "tn= 142 fp= 3 fn= 8 tp= 14\n",
      "tn= 144 fp= 1 fn= 10 tp= 12\n",
      "BA 0.7842987597110536\n",
      "AC 0.9367479327060165\n"
     ]
    }
   ],
   "source": [
    "#Import Random Forest Model\n",
    "\n",
    "skf = StratifiedKFold(n_splits=5, random_state=1, shuffle=True)\n",
    "vals_negrf = []\n",
    "vals_posrf = []\n",
    "\n",
    "accuracies = []\n",
    "for train_idx, test_idx in skf.split(dataset.values, dataset[[label_str]].values):\n",
    "    #Create a Gaussian Classifier\n",
    "#     clf = RandomForestClassifier(n_estimators=1500)\n",
    "    clf = RandomForestClassifier(n_estimators=2500)\n",
    "#     clf = svm.SVC(kernel='rbf')\n",
    "#     clf = svm.SVC()\n",
    "#     clf = AdaBoostClassifier()\n",
    "#     clf = GradientBoostingClassifier(n_estimators=500)\n",
    "\n",
    "    X_train = np.array(dataset.values[train_idx,:-1])\n",
    "    y_train = np.array(dataset.values[train_idx,-1])\n",
    "    \n",
    "    #Train the model using the training sets y_pred=clf.predict(X_test)\n",
    "    clf.fit(X_train,y_train)\n",
    "\n",
    "    X_test = np.array(dataset.values[test_idx,:-1])\n",
    "    y_test = np.array(dataset.values[test_idx,-1])\n",
    "    \n",
    "    \n",
    "    y_pred=clf.predict(X_test)\n",
    "    tn, fp, fn, tp = confusion_matrix(y_test, y_pred).ravel()\n",
    "    \n",
    "    print(\"tn=\", tn, \"fp=\", fp, \"fn=\", fn, \"tp=\", tp)\n",
    "    \n",
    "    accuracies.append([balanced_accuracy_score(y_test, y_pred), accuracy_score(y_test, y_pred)])\n",
    "    \n",
    "#     class1 = [0 for x in range(len(X_test))]\n",
    "#     for est in clf.estimators_:\n",
    "#         pred = est.predict(X_test)\n",
    "#         class1 = [class1[i] + pred[i] for i in range(len(pred))]\n",
    "    \n",
    "#     for i in range(len(X_test)):\n",
    "#         if class1[i] > 250 and y_test[i] != 1:\n",
    "#             vals_posrf.append(smiles_maccs.values[test_idx][i])\n",
    "#     for i in range(len(X_test)):\n",
    "#         if class1[i] < 250 and y_test[i] == 1:\n",
    "#             vals_negrf.append(smiles_maccs.values[test_idx][i])\n",
    "#     tn, fp, fn, tp = confusion_matrix(y_test, y_pred).ravel()\n",
    "#     print(\"tn=\", tn, \"fp=\", fp, \"fn=\", fn, \"tp=\", tp)\n",
    "#     for i in range(len(y_pred)):\n",
    "#         if(y_test[i] == 1):\n",
    "#             if class1[i]<250:\n",
    "#                 print(class1[i], y_pred[i], dataset.values[test_idx,-1][i])\n",
    "    \n",
    "    \n",
    "print('BA', np.mean([x[0] for x in accuracies]))\n",
    "print('AC', np.mean([x[1] for x in accuracies]))"
   ]
  },
  {
   "cell_type": "code",
   "execution_count": 118,
   "metadata": {},
   "outputs": [
    {
     "data": {
      "text/plain": [
       "(4,)"
      ]
     },
     "execution_count": 118,
     "metadata": {},
     "output_type": "execute_result"
    }
   ],
   "source": [
    "confusion_matrix(y_test,y_pred).ravel().shape"
   ]
  },
  {
   "cell_type": "code",
   "execution_count": 28,
   "metadata": {},
   "outputs": [
    {
     "name": "stdout",
     "output_type": "stream",
     "text": [
      "nn moeite\n",
      "C1CCCCCCCCCCC1\n",
      "Clc1c(c(Cl)c(c(Cl)c1Cl)OC)Cl\n",
      "Clc1c(Cl)c(c(S)c(c1Cl)Cl)Cl\n",
      "COc1ccc(cc1)C(c1ccc(OC)cc1)C(Cl)(Cl)Cl\n",
      "CCC(C1(COC(C2CCC(=CC2C)C)OC1)C)C\n",
      "c1cc2ccccc2c2c3c(ccc4ccccc43)[nH]c21\n",
      "c1cccc2c1cc1ccccc1n2\n",
      "c1c2ccccc2c2c(nc3ccccc3c2)c1\n",
      "c1ccc2ccc3nc4ccc5ccccc5c4cc3c2c1\n",
      "Clc1cc(cc2c1c(Oc1ccc(cc1)F)ccn2)Cl\n",
      "C1=CCCC=CCCC=CCC1\n",
      "P(c1ccccc1)(c1ccccc1)c1ccccc1\n",
      "rf moeite\n"
     ]
    }
   ],
   "source": [
    "print('nn moeite')\n",
    "for i in vals_neg:\n",
    "    if i not in vals_negrf:\n",
    "        print(i)\n",
    "print('rf moeite')\n",
    "for i in vals_negrf:\n",
    "    if i not in vals_neg:\n",
    "        print(i)"
   ]
  },
  {
   "cell_type": "code",
   "execution_count": 29,
   "metadata": {},
   "outputs": [
    {
     "name": "stdout",
     "output_type": "stream",
     "text": [
      "29\n",
      "17\n"
     ]
    }
   ],
   "source": [
    "print(len(vals_neg))\n",
    "print(len(vals_negrf))"
   ]
  },
  {
   "cell_type": "code",
   "execution_count": 30,
   "metadata": {},
   "outputs": [
    {
     "name": "stdout",
     "output_type": "stream",
     "text": [
      "CC1(CC(N=C=O)CC(C1)(C)C)CNC(NCC1(CC(N=C=O)CC(C1)(C)C)C)=O\n",
      "Clc1c(Cl)c(c(Cl)c(Cl)c1O)Cl\n",
      "CCCC[Sn](CCCC)(CCCC)O[Sn](CCCC)(CCCC)CCCC\n",
      "Brc1c(c(Br)c(c(Br)c1Br)Br)COC(C=C)=O\n",
      "Brc1cc(c(c(c1)Br)OCC(Br)(CBr)C)Br\n",
      "O=C1c2ccccc2Nc2ccccc21\n",
      "O=[N](c1ccc(cc1)OP(OCC)(c1ccccc1)=S)=O\n",
      "O=P(OCC(CBr)Br)(OCC(CBr)Br)OCC(CBr)Br\n",
      "ClC(CCC(CCC(Cl)C(Cl)C)Cl)C\n",
      "ClC(C(C(Cl)C)Cl)CC(Cl)C(C(CC(Cl)C(CC)Cl)Cl)Cl\n",
      "FC(F)Oc1ccc(C(C(OC(C#N)c2cc(Oc3ccccc3)ccc2)=O)C(C)C)cc1\n",
      "ClC(Cl)=C(Cl)C(=C(Cl)Cl)Cl\n",
      "Cc1c(c(C(C)(C)C)c(c(C)c1[N](=O)=O)[N](=O)=O)[N](=O)=O\n",
      "Clc1c(C(c2ccccc2)(c2ccccc2)n2cncc2)cccc1\n",
      "CC(C)(C)CCCCCC(OC=C)=O\n",
      "CC(Nc1ccc(cc1)Nc1ccccc1)CC(C)C\n",
      "FC(F)(F)c1cc([N](=O)=O)c(N(CCC)CCC)c([N](=O)=O)c1\n"
     ]
    }
   ],
   "source": [
    "for i in vals_neg:\n",
    "    if i in vals_negrf:\n",
    "        print(i)"
   ]
  }
 ],
 "metadata": {
  "kernelspec": {
   "display_name": "Python 3",
   "language": "python",
   "name": "python3"
  },
  "language_info": {
   "codemirror_mode": {
    "name": "ipython",
    "version": 3
   },
   "file_extension": ".py",
   "mimetype": "text/x-python",
   "name": "python",
   "nbconvert_exporter": "python",
   "pygments_lexer": "ipython3",
   "version": "3.8.1"
  }
 },
 "nbformat": 4,
 "nbformat_minor": 2
}

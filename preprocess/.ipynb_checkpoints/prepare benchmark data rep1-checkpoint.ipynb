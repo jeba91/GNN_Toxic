{
 "cells": [
  {
   "cell_type": "code",
   "execution_count": 1,
   "metadata": {},
   "outputs": [
    {
     "name": "stderr",
     "output_type": "stream",
     "text": [
      "RDKit WARNING: [14:21:55] Enabling RDKit 2019.09.3 jupyter extensions\n"
     ]
    }
   ],
   "source": [
    "import pandas as pd\n",
    "import torch\n",
    "import numpy as np\n",
    "import networkx as nx\n",
    "import matplotlib.pyplot as plt\n",
    "import sys\n",
    "import os\n",
    "import pickle\n",
    "\n",
    "from rdkit import Chem\n",
    "from rdkit.Chem import AllChem\n",
    "from rdkit.Chem import rdmolops\n",
    "\n",
    "from sklearn.model_selection import StratifiedKFold\n",
    "from sklearn.model_selection import train_test_split"
   ]
  },
  {
   "cell_type": "code",
   "execution_count": 2,
   "metadata": {},
   "outputs": [],
   "source": [
    "data_folder = 'raw_data/'\n",
    "data_source = '1 Supplemental Excel data.xlsx'"
   ]
  },
  {
   "cell_type": "code",
   "execution_count": 3,
   "metadata": {},
   "outputs": [],
   "source": [
    "device = torch.device('cuda' if torch.cuda.is_available() else 'cpu')\n",
    "chems_data  = pd.read_excel(data_folder+data_source, sheet_name = 1, header=1)\n",
    "\n",
    "# chems_extfp = pd.read_excel(data_folder+data_source, sheet_name = 2, header=0)\n",
    "# chems_maccs = pd.read_excel(data_folder+data_source, sheet_name = 3, header=0)\n",
    "# chems_fcfp4 = pd.read_excel(data_folder+data_source, sheet_name = 4, header=0)"
   ]
  },
  {
   "cell_type": "code",
   "execution_count": 4,
   "metadata": {},
   "outputs": [],
   "source": [
    "robcmr = 'Excluded in robustness check 2 - CMR'\n",
    "robpbt = 'Excluded in robustness check 2 - PBT/vPvB'\n",
    "# robed  = 'Excluded in robustness check 0 - ED'\n",
    "sm = 'SMILES'"
   ]
  },
  {
   "cell_type": "code",
   "execution_count": 5,
   "metadata": {},
   "outputs": [],
   "source": [
    "neg_ext = pd.read_csv(data_folder+'06_ExtendedFingerprint_Negative_List.csv', sep=';', engine='python')\n",
    "pos_ext = pd.read_csv(data_folder+'06_ExtendedFingerprint_Positive_List.csv', sep=';', engine='python')\n",
    "\n",
    "neg_maccs = pd.read_csv(data_folder+'01_MACCS_Negative_List.csv', sep=';', engine='python')\n",
    "pos_maccs = pd.read_csv(data_folder+'01_MACCS_Positive_List.csv', sep=';', engine='python')\n",
    "\n",
    "# neg_fcfp = pd.read_csv(data_folder+'15_FCFP4_Negative_List.csv', sep=';', engine='python')\n",
    "# pos_fcfp = pd.read_csv(data_folder+'15_FCFP4_Positive_List.csv', sep=';', engine='python')"
   ]
  },
  {
   "cell_type": "code",
   "execution_count": 6,
   "metadata": {},
   "outputs": [],
   "source": [
    "neg_ext = neg_ext.loc[~neg_ext[sm].isin(chems_data[sm].loc[chems_data[robcmr] == 1].tolist())]\n",
    "pos_ext = pos_ext.loc[~pos_ext[sm].isin(chems_data[sm].loc[chems_data[robcmr] == 1].tolist())]\n",
    "\n",
    "neg_maccs = neg_maccs.loc[~neg_maccs[sm].isin(chems_data[sm].loc[chems_data[robpbt] == 1].tolist())]\n",
    "pos_maccs = pos_maccs.loc[~pos_maccs[sm].isin(chems_data[sm].loc[chems_data[robpbt] == 1].tolist())]\n",
    "\n",
    "# neg_fcfp = neg_fcfp.loc[~neg_fcfp[sm].isin(chems_data[sm].loc[chems_data[robed] == 1].tolist())]\n",
    "# pos_fcfp = pos_fcfp.loc[~pos_fcfp[sm].isin(chems_data[sm].loc[chems_data[robed] == 1].tolist())]"
   ]
  },
  {
   "cell_type": "code",
   "execution_count": 7,
   "metadata": {},
   "outputs": [],
   "source": [
    "fp_cols = ['SMILES']\n",
    "\n",
    "chems_ext = pos_ext[fp_cols+['CMR']].append(neg_ext[fp_cols+['CMR']])\n",
    "\n",
    "# chems_extC = pos_ext[fp_cols+['C']].append(neg_ext[fp_cols+['C']])\n",
    "# chems_extM = pos_ext[fp_cols+['M']].append(neg_ext[fp_cols+['M']])\n",
    "# chems_extR = pos_ext[fp_cols+['R']].append(neg_ext[fp_cols+['R']])\n",
    "\n",
    "chems_maccs = pos_maccs[fp_cols+['PBT/vPvB']].append(neg_maccs[fp_cols+['PBT/vPvB']])\n",
    "# smiles_maccs = pos_maccs['SMILES'].append(neg_maccs['SMILES'])\n",
    "\n",
    "# chems_maccsPBT = pos_maccs[fp_cols+['PBT']].append(neg_maccs[fp_cols+['PBT']])\n",
    "# chems_maccsvPvB = pos_maccs[fp_cols+['vPvB']].append(neg_maccs[fp_cols+['vPvB']])\n",
    "\n",
    "# chems_fcfp = pos_fcfp[fp_cols+['ED']].append(neg_fcfp[fp_cols+['ED']])"
   ]
  },
  {
   "cell_type": "code",
   "execution_count": 8,
   "metadata": {},
   "outputs": [
    {
     "name": "stdout",
     "output_type": "stream",
     "text": [
      "(271, 2)\n",
      "(628, 2)\n",
      "(113, 2)\n",
      "(725, 2)\n"
     ]
    }
   ],
   "source": [
    "print(chems_ext.loc[chems_ext['CMR']==1].shape)\n",
    "print(chems_ext.loc[chems_ext['CMR']==0].shape)\n",
    "print(chems_maccs.loc[chems_maccs['PBT/vPvB']==1].shape)\n",
    "print(chems_maccs.loc[chems_maccs['PBT/vPvB']==0].shape)\n",
    "# print(chems_fcfp.loc[chems_fcfp['ED']==1].shape)"
   ]
  },
  {
   "cell_type": "code",
   "execution_count": 9,
   "metadata": {},
   "outputs": [],
   "source": [
    "def create_representation2(smiles_data, features, dictionary_bonds, tox_label):\n",
    "    matrices_dataset = []\n",
    "    \n",
    "    for mol_idx in range(smiles_data.shape[0]):\n",
    "        #get molecule from SMILES\n",
    "        mcule = Chem.MolFromSmiles(smiles_data['SMILES'].iloc[mol_idx])\n",
    "        \n",
    "        #adjacency matrix, molecule in graph and edge list\n",
    "        adj_matrix = Chem.GetAdjacencyMatrix(mcule)\n",
    "        mcule_graph = nx.from_numpy_matrix(adj_matrix)\n",
    "        edge_list = (adj_matrix != 0).nonzero()\n",
    "        \n",
    "        #get label for each atom as list\n",
    "        atom_labels = []\n",
    "        for _, atom in enumerate(mcule.GetAtoms()):\n",
    "            atom_labels.append(atom.GetAtomicNum())\n",
    "        \n",
    "        #add edge label as weight to the graph representation, use dict of bonds\n",
    "        for atom1,atom2 in np.transpose(edge_list):\n",
    "            bond_str = str(mcule.GetBondBetweenAtoms(int(atom1),int(atom2)).GetBondType())\n",
    "            mcule_graph[atom1][atom2]['weight'] = bond_dict.get(bond_str)\n",
    "\n",
    "        #add adjancency matrix with edge labels, atom labels and label to dataset\n",
    "        adj_mat = nx.to_numpy_matrix(mcule_graph).astype(int)\n",
    "        tox_lab = smiles_data[tox_label].iloc[mol_idx]\n",
    "        matrices_dataset.append([adj_mat, atom_labels, tox_lab])\n",
    "\n",
    "\n",
    "    return pd.DataFrame(matrices_dataset, columns=['matrix', 'atoms', 'tox'])"
   ]
  },
  {
   "cell_type": "code",
   "execution_count": 10,
   "metadata": {},
   "outputs": [],
   "source": [
    "def prepare_onehotencoded(rep_dataset):\n",
    "    atom_list = [x for x in rep_dataset['atoms'].values]\n",
    "    atom_flat = [item for sublist in atom_list for item in sublist]\n",
    "    atom_set  = sorted(list(set(atom_flat)))\n",
    "    \n",
    "    #first replace with numbers above max of atom set to avoid multiple wrong replacing\n",
    "    replace1  = list(range(max(atom_set)+1, len(atom_set)+max(atom_set)+1))\n",
    "    for i, a_list in enumerate(atom_list):\n",
    "        for j, atom_l in enumerate(a_list):\n",
    "            for idx, atom_s in enumerate(atom_set):\n",
    "                if atom_l == atom_s:\n",
    "                    atom_list[i][j] = replace1[idx]\n",
    "                    \n",
    "    #second replace with numbers in range zero to length atom set \n",
    "    replace2  = list(range(len(replace1)))\n",
    "    for i, a_list in enumerate(atom_list):\n",
    "        for j, atom_l in enumerate(a_list):\n",
    "            for idx, atom_s in enumerate(replace1):\n",
    "                if atom_l == atom_s:\n",
    "                    atom_list[i][j] = replace2[idx]\n",
    "    \n",
    "    rep_dataset['atoms'] = atom_list\n",
    "    dict_onehot = {}\n",
    "    for i, d in enumerate(replace2):\n",
    "        dict_onehot[d] = atom_set[i]\n",
    "\n",
    "    return rep_dataset, dict_onehot"
   ]
  },
  {
   "cell_type": "code",
   "execution_count": 11,
   "metadata": {},
   "outputs": [],
   "source": [
    "def transform_DGL(dataframe):\n",
    "    DGL_list = []\n",
    "    #convert to correct conventions\n",
    "    dataframe['matrix'] = dataframe['matrix'].apply(lambda x: torch.tensor(x))\n",
    "    dataframe['atoms']  = dataframe['atoms'].apply(lambda x: torch.tensor(x))\n",
    "    #create list of graph info dictionaries\n",
    "    for i in range(dataframe.shape[0]):\n",
    "        mol_dict = {}\n",
    "        mol_dict['num_atom']  = int(len(dataframe['atoms'].iloc[i]))\n",
    "        mol_dict['atom_type'] = dataframe['atoms'].iloc[i]\n",
    "        mol_dict['bond_type'] = dataframe['matrix'].iloc[i]\n",
    "        mol_dict['label']     = dataframe['tox'].iloc[i]\n",
    "        DGL_list.append(mol_dict)\n",
    "    return DGL_list"
   ]
  },
  {
   "cell_type": "code",
   "execution_count": null,
   "metadata": {},
   "outputs": [],
   "source": []
  },
  {
   "cell_type": "code",
   "execution_count": null,
   "metadata": {},
   "outputs": [],
   "source": []
  },
  {
   "cell_type": "code",
   "execution_count": null,
   "metadata": {},
   "outputs": [],
   "source": []
  },
  {
   "cell_type": "code",
   "execution_count": null,
   "metadata": {},
   "outputs": [],
   "source": []
  },
  {
   "cell_type": "code",
   "execution_count": null,
   "metadata": {},
   "outputs": [],
   "source": []
  },
  {
   "cell_type": "code",
   "execution_count": null,
   "metadata": {},
   "outputs": [],
   "source": []
  },
  {
   "cell_type": "code",
   "execution_count": null,
   "metadata": {},
   "outputs": [],
   "source": []
  },
  {
   "cell_type": "code",
   "execution_count": null,
   "metadata": {},
   "outputs": [],
   "source": []
  },
  {
   "cell_type": "code",
   "execution_count": null,
   "metadata": {},
   "outputs": [],
   "source": []
  },
  {
   "cell_type": "code",
   "execution_count": null,
   "metadata": {},
   "outputs": [],
   "source": []
  },
  {
   "cell_type": "code",
   "execution_count": null,
   "metadata": {},
   "outputs": [],
   "source": []
  },
  {
   "cell_type": "code",
   "execution_count": null,
   "metadata": {},
   "outputs": [],
   "source": []
  }
 ],
 "metadata": {
  "kernelspec": {
   "display_name": "Python 3",
   "language": "python",
   "name": "python3"
  },
  "language_info": {
   "codemirror_mode": {
    "name": "ipython",
    "version": 3
   },
   "file_extension": ".py",
   "mimetype": "text/x-python",
   "name": "python",
   "nbconvert_exporter": "python",
   "pygments_lexer": "ipython3",
   "version": "3.8.1"
  }
 },
 "nbformat": 4,
 "nbformat_minor": 4
}

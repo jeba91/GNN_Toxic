{
 "cells": [
  {
   "cell_type": "markdown",
   "metadata": {},
   "source": [
    "## Notebook to create pZZS list from the RIVM website download\n",
    "\n",
    "- load list\n",
    "- try two conversion identifiers on website\n",
    "- add smiles that are found to SMILES list\n",
    "- save SMILES list of pZZS to raw data"
   ]
  },
  {
   "cell_type": "code",
   "execution_count": 5,
   "metadata": {},
   "outputs": [],
   "source": [
    "import pandas as pd \n",
    "# Read data from file 'filename.csv' \n",
    "# (in the same directory that your python process is based)\n",
    "# Control delimiters, rows, column names with read_csv (see later) \n",
    "data = pd.read_csv(\"raw_data/potentiele-ZZS-lijst.txt\", sep=\"\\t\") "
   ]
  },
  {
   "cell_type": "code",
   "execution_count": 6,
   "metadata": {},
   "outputs": [
    {
     "name": "stdout",
     "output_type": "stream",
     "text": [
      "Index(['CAS-nummer', 'EG-nummer', 'Nederlands stofnaam', 'Engelse stofnaam',\n",
      "       'pZZS wegens RMOA', 'pZZS wegens ED beoordelingslijst',\n",
      "       'pZZS wegens PBT beoordelingslijst', 'pZZS wegens CORAP',\n",
      "       'pZZS wegens ROI', 'Stofklasse voor luchtemissies', 'Grensmassastroom',\n",
      "       'Emissiegrenswaarde', 'Datum toevoeging', 'Voetnoot1', 'Voetnoot2',\n",
      "       'Voetnoot3', 'Unnamed: 16'],\n",
      "      dtype='object')\n"
     ]
    }
   ],
   "source": [
    "print(data.columns)"
   ]
  },
  {
   "cell_type": "code",
   "execution_count": 7,
   "metadata": {},
   "outputs": [],
   "source": [
    "from urllib.request import urlopen\n",
    "\n",
    "def CIRconvert(ids):\n",
    "    try:\n",
    "        url = 'http://cactus.nci.nih.gov/chemical/structure/' + ids + '/smiles'\n",
    "        ans = urlopen(url).read().decode('utf8')\n",
    "        return ans\n",
    "    except:\n",
    "        return 'Did not work'\n",
    "\n",
    "identifiers1  = data[\"Engelse stofnaam\"].values\n",
    "smiles1 = []\n",
    "for ids in identifiers1 :\n",
    "    smiles1.append([ids, CIRconvert(ids)])\n",
    "\n",
    "identifiers2  = data[\"CAS-nummer\"].values\n",
    "smiles2 = []\n",
    "for ids in identifiers2 :\n",
    "    smiles2.append([ids, CIRconvert(ids)])\n",
    "SMILES = []\n",
    "\n",
    "for idx, s in enumerate(smiles1):\n",
    "    if s[1] != 'Did not work':\n",
    "        SMILES.append(s[1])\n",
    "    else:\n",
    "        if smiles1[idx][1] != 'Did not work':\n",
    "            SMILES.append(smiles2[idx][1])\n",
    "            \n",
    "pd.DataFrame(SMILES).to_csv(\"raw_data/pZZS_alles.csv\")"
   ]
  },
  {
   "cell_type": "markdown",
   "metadata": {},
   "source": [
    "## Alleen potentiele PBT chemicalien"
   ]
  },
  {
   "cell_type": "code",
   "execution_count": 7,
   "metadata": {},
   "outputs": [],
   "source": [
    "from urllib.request import urlopen\n",
    "\n",
    "def CIRconvert(ids):\n",
    "    try:\n",
    "        url = 'http://cactus.nci.nih.gov/chemical/structure/' + ids + '/smiles'\n",
    "        ans = urlopen(url).read().decode('utf8')\n",
    "        return ans\n",
    "    except:\n",
    "        return 'Did not work'\n",
    "\n",
    "identifiers1  = data[\"Engelse stofnaam\"].loc[data[\"pZZS wegens PBT beoordelingslijst\"] == 1].values\n",
    "smiles1 = []\n",
    "for ids in identifiers1 :\n",
    "    smiles1.append([ids, CIRconvert(ids)])\n",
    "\n",
    "identifiers2  = data[\"CAS-nummer\"].loc[data[\"pZZS wegens PBT beoordelingslijst\"] == 1].values\n",
    "smiles2 = []\n",
    "for ids in identifiers2 :\n",
    "    smiles2.append([ids, CIRconvert(ids)])\n",
    "SMILES = []\n",
    "\n",
    "for idx, s in enumerate(smiles1):\n",
    "    if s[1] != 'Did not work':\n",
    "        SMILES.append(s[1])\n",
    "    else:\n",
    "        if smiles1[idx][1] != 'Did not work':\n",
    "            SMILES.append(smiles2[idx][1])\n",
    "            \n",
    "pd.DataFrame(SMILES).to_csv(\"raw_data/pZZS_PBT.csv\")"
   ]
  }
 ],
 "metadata": {
  "kernelspec": {
   "display_name": "Python 3",
   "language": "python",
   "name": "python3"
  },
  "language_info": {
   "codemirror_mode": {
    "name": "ipython",
    "version": 3
   },
   "file_extension": ".py",
   "mimetype": "text/x-python",
   "name": "python",
   "nbconvert_exporter": "python",
   "pygments_lexer": "ipython3",
   "version": "3.8.1"
  }
 },
 "nbformat": 4,
 "nbformat_minor": 4
}
